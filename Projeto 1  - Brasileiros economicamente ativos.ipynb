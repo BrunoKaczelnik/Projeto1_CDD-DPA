{
 "cells": [
  {
   "cell_type": "markdown",
   "metadata": {},
   "source": [
    "___\n",
    "# Ciência dos Dados - PROJETO 1"
   ]
  },
  {
   "cell_type": "markdown",
   "metadata": {},
   "source": [
    "\n",
    "### <font color=Grey>Guilherme Lotaif e Bruno Kaczelnick</font>\n",
    "___"
   ]
  },
  {
   "cell_type": "markdown",
   "metadata": {},
   "source": [
    "## Estudo dos brasileiros mais economicamente ativos"
   ]
  },
  {
   "cell_type": "markdown",
   "metadata": {},
   "source": [
    "___\n",
    "## Introdução\n",
    "\n",
    "Neste projeto nós vamos analisar os dados da PNAD (Pesquisa Nacional por Amostra de Domicílios), que investiga anualmente as características da população. Este levantamento é um importante instrumento para o estudo socioeconômico do Brasil. \n",
    "\n",
    "A partir dos dados de 2011 e 2015 vamos fazer um estudo para identificar dentro do perfil dos `brasileiros economicamente ativos`, quais são os grupos sociais com **maior número de pessoas ativas**.\n"
   ]
  },
  {
   "cell_type": "markdown",
   "metadata": {},
   "source": [
    "___\n",
    "## Filtros da base de dados"
   ]
  },
  {
   "cell_type": "code",
   "execution_count": 1,
   "metadata": {},
   "outputs": [],
   "source": [
    "%matplotlib inline\n",
    "import pandas as pd\n",
    "import matplotlib.pyplot as plt\n",
    "import numpy as np\n",
    "import os"
   ]
  },
  {
   "cell_type": "code",
   "execution_count": 2,
   "metadata": {},
   "outputs": [
    {
     "name": "stdout",
     "output_type": "stream",
     "text": [
      "Esperamos trabalhar no diretório\n",
      "/Users/guilherme/Downloads\n"
     ]
    }
   ],
   "source": [
    "print('Esperamos trabalhar no diretório')\n",
    "print(os.getcwd())"
   ]
  },
  {
   "cell_type": "markdown",
   "metadata": {},
   "source": [
    "...\n",
    "### Vamos abrir os arquivos:\n",
    "\n",
    "Os arquivos que serão usados nesse projeto são 2 arquivos csv, com todas informações coletadas pela PNAD, esses dados precisarão ser formatados visando fazer a análise dos mesmos."
   ]
  },
  {
   "cell_type": "code",
   "execution_count": 3,
   "metadata": {},
   "outputs": [],
   "source": [
    "#Abrindo o arquivo com os dados de 2011:\n",
    "All_data_2011 = pd.read_csv('PES2011.csv',sep=',')"
   ]
  },
  {
   "cell_type": "code",
   "execution_count": 4,
   "metadata": {},
   "outputs": [
    {
     "data": {
      "text/plain": [
       "float64    294\n",
       "int64       30\n",
       "dtype: int64"
      ]
     },
     "execution_count": 4,
     "metadata": {},
     "output_type": "execute_result"
    }
   ],
   "source": [
    "#Analisando os tipos de informações no arquivo:\n",
    "All_data_2011.get_dtype_counts()"
   ]
  },
  {
   "cell_type": "code",
   "execution_count": 37,
   "metadata": {},
   "outputs": [
    {
     "data": {
      "text/html": [
       "<div>\n",
       "<style scoped>\n",
       "    .dataframe tbody tr th:only-of-type {\n",
       "        vertical-align: middle;\n",
       "    }\n",
       "\n",
       "    .dataframe tbody tr th {\n",
       "        vertical-align: top;\n",
       "    }\n",
       "\n",
       "    .dataframe thead th {\n",
       "        text-align: right;\n",
       "    }\n",
       "</style>\n",
       "<table border=\"1\" class=\"dataframe\">\n",
       "  <thead>\n",
       "    <tr style=\"text-align: right;\">\n",
       "      <th></th>\n",
       "      <th>V0101</th>\n",
       "      <th>UF</th>\n",
       "      <th>V0102</th>\n",
       "      <th>V0103</th>\n",
       "      <th>V0301</th>\n",
       "      <th>V0302</th>\n",
       "      <th>V3031</th>\n",
       "      <th>V3032</th>\n",
       "      <th>V3033</th>\n",
       "      <th>V8005</th>\n",
       "      <th>...</th>\n",
       "      <th>V4741</th>\n",
       "      <th>V4742</th>\n",
       "      <th>V4743</th>\n",
       "      <th>V4745</th>\n",
       "      <th>V4746</th>\n",
       "      <th>V4747</th>\n",
       "      <th>V4748</th>\n",
       "      <th>V4749</th>\n",
       "      <th>V4750</th>\n",
       "      <th>V9993</th>\n",
       "    </tr>\n",
       "  </thead>\n",
       "  <tbody>\n",
       "    <tr>\n",
       "      <th>291165</th>\n",
       "      <td>2011</td>\n",
       "      <td>42</td>\n",
       "      <td>42000000.0</td>\n",
       "      <td>8</td>\n",
       "      <td>1</td>\n",
       "      <td>2</td>\n",
       "      <td>29</td>\n",
       "      <td>12</td>\n",
       "      <td>1975</td>\n",
       "      <td>35</td>\n",
       "      <td>...</td>\n",
       "      <td>2.0</td>\n",
       "      <td>1100.0</td>\n",
       "      <td>5.0</td>\n",
       "      <td>3</td>\n",
       "      <td>1.0</td>\n",
       "      <td>2.0</td>\n",
       "      <td>2.0</td>\n",
       "      <td>1.0</td>\n",
       "      <td>1100.0</td>\n",
       "      <td>20100000.0</td>\n",
       "    </tr>\n",
       "    <tr>\n",
       "      <th>344949</th>\n",
       "      <td>2011</td>\n",
       "      <td>52</td>\n",
       "      <td>52000000.0</td>\n",
       "      <td>6</td>\n",
       "      <td>3</td>\n",
       "      <td>2</td>\n",
       "      <td>5</td>\n",
       "      <td>5</td>\n",
       "      <td>1998</td>\n",
       "      <td>13</td>\n",
       "      <td>...</td>\n",
       "      <td>4.0</td>\n",
       "      <td>272.0</td>\n",
       "      <td>2.0</td>\n",
       "      <td>2</td>\n",
       "      <td>2.0</td>\n",
       "      <td>NaN</td>\n",
       "      <td>NaN</td>\n",
       "      <td>2.0</td>\n",
       "      <td>272.0</td>\n",
       "      <td>20100000.0</td>\n",
       "    </tr>\n",
       "  </tbody>\n",
       "</table>\n",
       "<p>2 rows × 324 columns</p>\n",
       "</div>"
      ],
      "text/plain": [
       "        V0101  UF       V0102  V0103  V0301  V0302  V3031  V3032  V3033  \\\n",
       "291165   2011  42  42000000.0      8      1      2     29     12   1975   \n",
       "344949   2011  52  52000000.0      6      3      2      5      5   1998   \n",
       "\n",
       "        V8005     ...      V4741   V4742  V4743  V4745  V4746  V4747  V4748  \\\n",
       "291165     35     ...        2.0  1100.0    5.0      3    1.0    2.0    2.0   \n",
       "344949     13     ...        4.0   272.0    2.0      2    2.0    NaN    NaN   \n",
       "\n",
       "        V4749   V4750       V9993  \n",
       "291165    1.0  1100.0  20100000.0  \n",
       "344949    2.0   272.0  20100000.0  \n",
       "\n",
       "[2 rows x 324 columns]"
      ]
     },
     "execution_count": 37,
     "metadata": {},
     "output_type": "execute_result"
    }
   ],
   "source": [
    "#Tabela do dataset(2011) pré-formatação:\n",
    "All_data_2011.sample(2)"
   ]
  },
  {
   "cell_type": "code",
   "execution_count": 6,
   "metadata": {},
   "outputs": [],
   "source": [
    "#Abrindo o arquivo com os dados de 2015:\n",
    "All_data_2015 = pd.read_csv('PES2015.csv',sep=',')"
   ]
  },
  {
   "cell_type": "code",
   "execution_count": 7,
   "metadata": {},
   "outputs": [
    {
     "data": {
      "text/plain": [
       "float64    296\n",
       "int64       33\n",
       "dtype: int64"
      ]
     },
     "execution_count": 7,
     "metadata": {},
     "output_type": "execute_result"
    }
   ],
   "source": [
    "#Analisando os tipos de informações no arquivo:\n",
    "All_data_2015.get_dtype_counts()"
   ]
  },
  {
   "cell_type": "code",
   "execution_count": 8,
   "metadata": {},
   "outputs": [
    {
     "data": {
      "text/html": [
       "<div>\n",
       "<style scoped>\n",
       "    .dataframe tbody tr th:only-of-type {\n",
       "        vertical-align: middle;\n",
       "    }\n",
       "\n",
       "    .dataframe tbody tr th {\n",
       "        vertical-align: top;\n",
       "    }\n",
       "\n",
       "    .dataframe thead th {\n",
       "        text-align: right;\n",
       "    }\n",
       "</style>\n",
       "<table border=\"1\" class=\"dataframe\">\n",
       "  <thead>\n",
       "    <tr style=\"text-align: right;\">\n",
       "      <th></th>\n",
       "      <th>Unnamed: 0</th>\n",
       "      <th>V0101</th>\n",
       "      <th>UF</th>\n",
       "      <th>V0102</th>\n",
       "      <th>V0103</th>\n",
       "      <th>V0301</th>\n",
       "      <th>V0302</th>\n",
       "      <th>V3031</th>\n",
       "      <th>V3032</th>\n",
       "      <th>V3033</th>\n",
       "      <th>...</th>\n",
       "      <th>V4741</th>\n",
       "      <th>V4742</th>\n",
       "      <th>V4743</th>\n",
       "      <th>V4745</th>\n",
       "      <th>V4746</th>\n",
       "      <th>V4747</th>\n",
       "      <th>V4748</th>\n",
       "      <th>V4749</th>\n",
       "      <th>V4750</th>\n",
       "      <th>V9993</th>\n",
       "    </tr>\n",
       "  </thead>\n",
       "  <tbody>\n",
       "    <tr>\n",
       "      <th>56291</th>\n",
       "      <td>56291</td>\n",
       "      <td>2015</td>\n",
       "      <td>17</td>\n",
       "      <td>1293</td>\n",
       "      <td>19</td>\n",
       "      <td>1</td>\n",
       "      <td>2</td>\n",
       "      <td>5</td>\n",
       "      <td>9</td>\n",
       "      <td>1975</td>\n",
       "      <td>...</td>\n",
       "      <td>4.0</td>\n",
       "      <td>1800.0</td>\n",
       "      <td>5.0</td>\n",
       "      <td>5</td>\n",
       "      <td>1.0</td>\n",
       "      <td>2.0</td>\n",
       "      <td>2.0</td>\n",
       "      <td>1.0</td>\n",
       "      <td>1800.0</td>\n",
       "      <td>20161117</td>\n",
       "    </tr>\n",
       "    <tr>\n",
       "      <th>214781</th>\n",
       "      <td>214781</td>\n",
       "      <td>2015</td>\n",
       "      <td>33</td>\n",
       "      <td>4307</td>\n",
       "      <td>2</td>\n",
       "      <td>2</td>\n",
       "      <td>4</td>\n",
       "      <td>23</td>\n",
       "      <td>11</td>\n",
       "      <td>1983</td>\n",
       "      <td>...</td>\n",
       "      <td>2.0</td>\n",
       "      <td>1750.0</td>\n",
       "      <td>5.0</td>\n",
       "      <td>7</td>\n",
       "      <td>1.0</td>\n",
       "      <td>2.0</td>\n",
       "      <td>2.0</td>\n",
       "      <td>1.0</td>\n",
       "      <td>1750.0</td>\n",
       "      <td>20161117</td>\n",
       "    </tr>\n",
       "  </tbody>\n",
       "</table>\n",
       "<p>2 rows × 329 columns</p>\n",
       "</div>"
      ],
      "text/plain": [
       "        Unnamed: 0  V0101  UF  V0102  V0103  V0301  V0302  V3031  V3032  \\\n",
       "56291        56291   2015  17   1293     19      1      2      5      9   \n",
       "214781      214781   2015  33   4307      2      2      4     23     11   \n",
       "\n",
       "        V3033    ...     V4741   V4742  V4743  V4745  V4746  V4747  V4748  \\\n",
       "56291    1975    ...       4.0  1800.0    5.0      5    1.0    2.0    2.0   \n",
       "214781   1983    ...       2.0  1750.0    5.0      7    1.0    2.0    2.0   \n",
       "\n",
       "        V4749   V4750     V9993  \n",
       "56291     1.0  1800.0  20161117  \n",
       "214781    1.0  1750.0  20161117  \n",
       "\n",
       "[2 rows x 329 columns]"
      ]
     },
     "execution_count": 8,
     "metadata": {},
     "output_type": "execute_result"
    }
   ],
   "source": [
    "#Tabela do dataset(2015) pré-formatação:\n",
    "All_data_2015.sample(2)"
   ]
  },
  {
   "cell_type": "markdown",
   "metadata": {},
   "source": [
    "...\n",
    "### Vamos selecionar as váriaveis pertinentes para 2011:"
   ]
  },
  {
   "cell_type": "code",
   "execution_count": 9,
   "metadata": {},
   "outputs": [],
   "source": [
    "#Vamos criar um dataframe com as váriaveis selecionadas:\n",
    "df = [\"UF\",\"V0302\",\"V8005\",\"V0404\",\"V0601\",\"V6007\",\"V9058\",\"V9892\",\"V4704\"]"
   ]
  },
  {
   "cell_type": "code",
   "execution_count": 10,
   "metadata": {},
   "outputs": [],
   "source": [
    "#Renomeando as colunas do dataframe:\n",
    "df_2011 = All_data_2011[df]\n",
    "df_2011.columns = [\"UF\", \"Sexo\", \"Idade do morador\", \"Cor ou raça\", \"Sabe ler e escrever\", \"Curso mais elevado que cursou\",\n",
    "        \"Número de horas trabalhadas por semana no trabalho\", \"Idade com que começou a trabalhar\", \"Condição de atividade\"]"
   ]
  },
  {
   "cell_type": "markdown",
   "metadata": {},
   "source": [
    "...\n",
    "#### Atribuindo as características das váriaveis:"
   ]
  },
  {
   "cell_type": "code",
   "execution_count": 11,
   "metadata": {},
   "outputs": [],
   "source": [
    "#Eliminando o aviso de copia de dataframe:\n",
    "pd.set_option('chained_assignment',None)"
   ]
  },
  {
   "cell_type": "code",
   "execution_count": 12,
   "metadata": {},
   "outputs": [],
   "source": [
    "#-UF:\n",
    "df_2011.loc[(df_2011[\"UF\"] == 11),\"UF\"] = \"Rondônia\"\n",
    "df_2011.loc[(df_2011[\"UF\"] == 12),\"UF\"] = \"Acre\"\n",
    "df_2011.loc[(df_2011[\"UF\"] == 13),\"UF\"] = \"Amazonas\"\n",
    "df_2011.loc[(df_2011[\"UF\"] == 14),\"UF\"] = \"Roraima\"\n",
    "df_2011.loc[(df_2011[\"UF\"] == 15),\"UF\"] = \"Pará\"\n",
    "df_2011.loc[(df_2011[\"UF\"] == 16),\"UF\"] = \"Amapá\"\n",
    "df_2011.loc[(df_2011[\"UF\"] == 17),\"UF\"] = \"Tocantins\"\n",
    "df_2011.loc[(df_2011[\"UF\"] == 21),\"UF\"] = \"Maranhão\"\n",
    "df_2011.loc[(df_2011[\"UF\"] == 22),\"UF\"] = \"Piauí\"\n",
    "df_2011.loc[(df_2011[\"UF\"] == 23),\"UF\"] = \"Ceará\"\n",
    "df_2011.loc[(df_2011[\"UF\"] == 24),\"UF\"] = \"Rio Grande do Norte\"\n",
    "df_2011.loc[(df_2011[\"UF\"] == 25),\"UF\"] = \"Praíba\"\n",
    "df_2011.loc[(df_2011[\"UF\"] == 26),\"UF\"] = \"Pernambuco\"\n",
    "df_2011.loc[(df_2011[\"UF\"] == 27),\"UF\"] = \"Alagoas\"\n",
    "df_2011.loc[(df_2011[\"UF\"] == 28),\"UF\"] = \"Sergipe\"\n",
    "df_2011.loc[(df_2011[\"UF\"] == 29),\"UF\"] = \"Bahia\"\n",
    "df_2011.loc[(df_2011[\"UF\"] == 31),\"UF\"] = \"Minas Gerais\"\n",
    "df_2011.loc[(df_2011[\"UF\"] == 32),\"UF\"] = \"Espirito Santo\"\n",
    "df_2011.loc[(df_2011[\"UF\"] == 33),\"UF\"] = \"Rio de Janeiro\"\n",
    "df_2011.loc[(df_2011[\"UF\"] == 35),\"UF\"] = \"São Paulo\"\n",
    "df_2011.loc[(df_2011[\"UF\"] == 41),\"UF\"] = \"Paraná\"\n",
    "df_2011.loc[(df_2011[\"UF\"] == 42),\"UF\"] = \"Santa Catarina\"\n",
    "df_2011.loc[(df_2011[\"UF\"] == 43),\"UF\"] = \"Rio Grande do Sul\"\n",
    "df_2011.loc[(df_2011[\"UF\"] == 50),\"UF\"] = \"Mato Grosso do Sul\"\n",
    "df_2011.loc[(df_2011[\"UF\"] == 51),\"UF\"] = \"Mato Grosso\"\n",
    "df_2011.loc[(df_2011[\"UF\"] == 52),\"UF\"] = \"Goiás\"\n",
    "df_2011.loc[(df_2011[\"UF\"] == 53),\"UF\"] = \"Distrito Federal\""
   ]
  },
  {
   "cell_type": "code",
   "execution_count": 13,
   "metadata": {},
   "outputs": [],
   "source": [
    "#-Sexo:\n",
    "df_2011.loc[(df_2011.Sexo == 2),\"Sexo\"] = \"Masculino\"\n",
    "df_2011.loc[(df_2011.Sexo == 4),\"Sexo\"] = \"Feminino\""
   ]
  },
  {
   "cell_type": "code",
   "execution_count": 14,
   "metadata": {},
   "outputs": [],
   "source": [
    "#-Cor ou raça:\n",
    "df_2011.loc[(df_2011[\"Cor ou raça\"] == 2),\"Cor ou raça\"] = \"Branca\"\n",
    "df_2011.loc[(df_2011[\"Cor ou raça\"] == 4),\"Cor ou raça\"] = \"Preta\"\n",
    "df_2011.loc[(df_2011[\"Cor ou raça\"] == 6),\"Cor ou raça\"] = \"Amarela\"\n",
    "df_2011.loc[(df_2011[\"Cor ou raça\"] == 8),\"Cor ou raça\"] = \"Pardo\"\n",
    "df_2011.loc[(df_2011[\"Cor ou raça\"] == 0),\"Cor ou raça\"] = \"Indigena\""
   ]
  },
  {
   "cell_type": "code",
   "execution_count": 15,
   "metadata": {},
   "outputs": [],
   "source": [
    "#-Sabe ler e escrever:\n",
    "df_2011.loc[(df_2011[\"Sabe ler e escrever\"] == 1),\"Sabe ler e escrever\"] = \"Sim\"\n",
    "df_2011.loc[(df_2011[\"Sabe ler e escrever\"] == 3),\"Sabe ler e escrever\"] = \"Não\""
   ]
  },
  {
   "cell_type": "code",
   "execution_count": 16,
   "metadata": {},
   "outputs": [],
   "source": [
    "#-Curso mais elevado que cursou:\n",
    "df_2011.loc[(df_2011[\"Curso mais elevado que cursou\"] == 1),\"Curso mais elevado que cursou\"] = \"Elementar (Primário)\"\n",
    "df_2011.loc[(df_2011[\"Curso mais elevado que cursou\"] == 2),\"Curso mais elevado que cursou\"] = \"Médio 1˚ ciclo\"\n",
    "df_2011.loc[(df_2011[\"Curso mais elevado que cursou\"] == 3),\"Curso mais elevado que cursou\"] = \"Médio 2˚ ciclo\"\n",
    "df_2011.loc[(df_2011[\"Curso mais elevado que cursou\"] == 4),\"Curso mais elevado que cursou\"] = \"Regular do ensino Fundamental\"\n",
    "df_2011.loc[(df_2011[\"Curso mais elevado que cursou\"] == 5),\"Curso mais elevado que cursou\"] = \"Regular do ensino Médio\"\n",
    "df_2011.loc[(df_2011[\"Curso mais elevado que cursou\"] == 6),\"Curso mais elevado que cursou\"] = \"Supletivo do ensino Fundamental\"\n",
    "df_2011.loc[(df_2011[\"Curso mais elevado que cursou\"] == 7),\"Curso mais elevado que cursou\"] = \"Supletivo do ensino Médio\"\n",
    "df_2011.loc[(df_2011[\"Curso mais elevado que cursou\"] == 8),\"Curso mais elevado que cursou\"] = \"Superior de graduação\"\n",
    "df_2011.loc[(df_2011[\"Curso mais elevado que cursou\"] == 9),\"Curso mais elevado que cursou\"] = \"Mestrado ou doutorado\"\n",
    "df_2011.loc[(df_2011[\"Curso mais elevado que cursou\"] == 10),\"Curso mais elevado que cursou\"] = \"Alfabetização para jovens adultos\"\n",
    "df_2011.loc[(df_2011[\"Curso mais elevado que cursou\"] == 11),\"Curso mais elevado que cursou\"] = \"Creche\"\n",
    "df_2011.loc[(df_2011[\"Curso mais elevado que cursou\"] == 12),\"Curso mais elevado que cursou\"] = \"Classe de alfabetização - CA\"\n",
    "df_2011.loc[(df_2011[\"Curso mais elevado que cursou\"] == 13),\"Curso mais elevado que cursou\"] = \"Jardim da infância\"\n",
    "df_2011.loc[(df_2011[\"Curso mais elevado que cursou\"].isnull() == True),\"Curso mais elevado que cursou\"] = \"Não aplicável\""
   ]
  },
  {
   "cell_type": "code",
   "execution_count": 17,
   "metadata": {},
   "outputs": [],
   "source": [
    "#-Número de horas trabalhadas por semana no trabalho principal:\n",
    "df_2011.loc[(df_2011[\"Número de horas trabalhadas por semana no trabalho\"].isnull() == True),\"Número de horas trabalhadas por semana no trabalho\"] = \"Não aplicável\""
   ]
  },
  {
   "cell_type": "code",
   "execution_count": 18,
   "metadata": {},
   "outputs": [],
   "source": [
    "#-Idade com que começou a trabalhar:\n",
    "df_2011.loc[(df_2011[\"Idade com que começou a trabalhar\"].isnull() == True),\"Idade com que começou a trabalhar\"] = \"Não aplicável\""
   ]
  },
  {
   "cell_type": "code",
   "execution_count": 19,
   "metadata": {},
   "outputs": [],
   "source": [
    "#-Condição de atividade:\n",
    "df_2011.loc[(df_2011[\"Condição de atividade\"] == 1),\"Condição de atividade\"] = \"Economicamente ativas\"\n",
    "df_2011.loc[(df_2011[\"Condição de atividade\"] == 2),\"Condição de atividade\"] = \"Não economicamente ativas\"\n",
    "df_2011.loc[(df_2011[\"Condição de atividade\"].isnull() == True),\"Condição de atividade\"] = \"Não aplicável\""
   ]
  },
  {
   "cell_type": "code",
   "execution_count": 35,
   "metadata": {},
   "outputs": [
    {
     "data": {
      "text/html": [
       "<div>\n",
       "<style scoped>\n",
       "    .dataframe tbody tr th:only-of-type {\n",
       "        vertical-align: middle;\n",
       "    }\n",
       "\n",
       "    .dataframe tbody tr th {\n",
       "        vertical-align: top;\n",
       "    }\n",
       "\n",
       "    .dataframe thead th {\n",
       "        text-align: right;\n",
       "    }\n",
       "</style>\n",
       "<table border=\"1\" class=\"dataframe\">\n",
       "  <thead>\n",
       "    <tr style=\"text-align: right;\">\n",
       "      <th></th>\n",
       "      <th>UF</th>\n",
       "      <th>Sexo</th>\n",
       "      <th>Idade do morador</th>\n",
       "      <th>Cor ou raça</th>\n",
       "      <th>Sabe ler e escrever</th>\n",
       "      <th>Curso mais elevado que cursou</th>\n",
       "      <th>Número de horas trabalhadas por semana no trabalho</th>\n",
       "      <th>Idade com que começou a trabalhar</th>\n",
       "      <th>Condição de atividade</th>\n",
       "    </tr>\n",
       "  </thead>\n",
       "  <tbody>\n",
       "    <tr>\n",
       "      <th>216215</th>\n",
       "      <td>Rio de Janeiro</td>\n",
       "      <td>Masculino</td>\n",
       "      <td>58</td>\n",
       "      <td>Pardo</td>\n",
       "      <td>Sim</td>\n",
       "      <td>Médio 2˚ ciclo</td>\n",
       "      <td>48</td>\n",
       "      <td>18</td>\n",
       "      <td>Economicamente ativas</td>\n",
       "    </tr>\n",
       "    <tr>\n",
       "      <th>28300</th>\n",
       "      <td>Pará</td>\n",
       "      <td>Masculino</td>\n",
       "      <td>29</td>\n",
       "      <td>Branca</td>\n",
       "      <td>Sim</td>\n",
       "      <td>Regular do ensino Médio</td>\n",
       "      <td>48</td>\n",
       "      <td>10</td>\n",
       "      <td>Economicamente ativas</td>\n",
       "    </tr>\n",
       "  </tbody>\n",
       "</table>\n",
       "</div>"
      ],
      "text/plain": [
       "                    UF       Sexo  Idade do morador Cor ou raça  \\\n",
       "216215  Rio de Janeiro  Masculino                58       Pardo   \n",
       "28300             Pará  Masculino                29      Branca   \n",
       "\n",
       "       Sabe ler e escrever Curso mais elevado que cursou  \\\n",
       "216215                 Sim                Médio 2˚ ciclo   \n",
       "28300                  Sim       Regular do ensino Médio   \n",
       "\n",
       "       Número de horas trabalhadas por semana no trabalho  \\\n",
       "216215                                                 48   \n",
       "28300                                                  48   \n",
       "\n",
       "       Idade com que começou a trabalhar  Condição de atividade  \n",
       "216215                                18  Economicamente ativas  \n",
       "28300                                 10  Economicamente ativas  "
      ]
     },
     "execution_count": 35,
     "metadata": {},
     "output_type": "execute_result"
    }
   ],
   "source": [
    "#Tabela do dataset(2011) pós-formatação:\n",
    "df_2011.sample(2)"
   ]
  },
  {
   "cell_type": "markdown",
   "metadata": {},
   "source": [
    "...\n",
    "### Vamos selecionar as váriaveis pertinentes para 2015:"
   ]
  },
  {
   "cell_type": "code",
   "execution_count": 21,
   "metadata": {},
   "outputs": [],
   "source": [
    "#Vamos criar um dataframe com as váriaveis selecionadas:\n",
    "df = [\"UF\",\"V0302\",\"V8005\",\"V0404\",\"V0601\",\"V6007\",\"V9058\",\"V9892\",\"V4704\"]"
   ]
  },
  {
   "cell_type": "code",
   "execution_count": 22,
   "metadata": {},
   "outputs": [],
   "source": [
    "#Renomeando as colunas do dataframe:\n",
    "df_2015 = All_data_2015[df]\n",
    "df_2015.columns = [\"UF\", \"Sexo\", \"Idade do morador\", \"Cor ou raça\", \"Sabe ler e escrever\", \"Curso mais elevado que cursou\",\n",
    "        \"Número de horas trabalhadas por semana no trabalho\", \"Idade com que começou a trabalhar\", \"Condição de atividade\"]"
   ]
  },
  {
   "cell_type": "markdown",
   "metadata": {},
   "source": [
    "...\n",
    "#### Atribuindo as características das váriaveis:"
   ]
  },
  {
   "cell_type": "code",
   "execution_count": 23,
   "metadata": {},
   "outputs": [],
   "source": [
    "#-UF:\n",
    "df_2015.loc[(df_2015[\"UF\"] == 11),\"UF\"] = \"Rondônia\"\n",
    "df_2015.loc[(df_2015[\"UF\"] == 12),\"UF\"] = \"Acre\"\n",
    "df_2015.loc[(df_2015[\"UF\"] == 13),\"UF\"] = \"Amazonas\"\n",
    "df_2015.loc[(df_2015[\"UF\"] == 14),\"UF\"] = \"Roraima\"\n",
    "df_2015.loc[(df_2015[\"UF\"] == 15),\"UF\"] = \"Pará\"\n",
    "df_2015.loc[(df_2015[\"UF\"] == 16),\"UF\"] = \"Amapá\"\n",
    "df_2015.loc[(df_2015[\"UF\"] == 17),\"UF\"] = \"Tocantins\"\n",
    "df_2015.loc[(df_2015[\"UF\"] == 21),\"UF\"] = \"Maranhão\"\n",
    "df_2015.loc[(df_2015[\"UF\"] == 22),\"UF\"] = \"Piauí\"\n",
    "df_2015.loc[(df_2015[\"UF\"] == 23),\"UF\"] = \"Ceará\"\n",
    "df_2015.loc[(df_2015[\"UF\"] == 24),\"UF\"] = \"Rio Grande do Norte\"\n",
    "df_2015.loc[(df_2015[\"UF\"] == 25),\"UF\"] = \"Praíba\"\n",
    "df_2015.loc[(df_2015[\"UF\"] == 26),\"UF\"] = \"Pernambuco\"\n",
    "df_2015.loc[(df_2015[\"UF\"] == 27),\"UF\"] = \"Alagoas\"\n",
    "df_2015.loc[(df_2015[\"UF\"] == 28),\"UF\"] = \"Sergipe\"\n",
    "df_2015.loc[(df_2015[\"UF\"] == 29),\"UF\"] = \"Bahia\"\n",
    "df_2015.loc[(df_2015[\"UF\"] == 31),\"UF\"] = \"Minas Gerais\"\n",
    "df_2015.loc[(df_2015[\"UF\"] == 32),\"UF\"] = \"Espirito Santo\"\n",
    "df_2015.loc[(df_2015[\"UF\"] == 33),\"UF\"] = \"Rio de Janeiro\"\n",
    "df_2015.loc[(df_2015[\"UF\"] == 35),\"UF\"] = \"São Paulo\"\n",
    "df_2015.loc[(df_2015[\"UF\"] == 41),\"UF\"] = \"Paraná\"\n",
    "df_2015.loc[(df_2015[\"UF\"] == 42),\"UF\"] = \"Santa Catarina\"\n",
    "df_2015.loc[(df_2015[\"UF\"] == 43),\"UF\"] = \"Rio Grande do Sul\"\n",
    "df_2015.loc[(df_2015[\"UF\"] == 50),\"UF\"] = \"Mato Grosso do Sul\"\n",
    "df_2015.loc[(df_2015[\"UF\"] == 51),\"UF\"] = \"Mato Grosso\"\n",
    "df_2015.loc[(df_2015[\"UF\"] == 52),\"UF\"] = \"Goiás\"\n",
    "df_2015.loc[(df_2015[\"UF\"] == 53),\"UF\"] = \"Distrito Federal\""
   ]
  },
  {
   "cell_type": "code",
   "execution_count": 24,
   "metadata": {},
   "outputs": [],
   "source": [
    "#-Sexo:\n",
    "df_2015.loc[(df_2015.Sexo == 2),\"Sexo\"] = \"Masculino\"\n",
    "df_2015.loc[(df_2015.Sexo == 4),\"Sexo\"] = \"Feminino\""
   ]
  },
  {
   "cell_type": "code",
   "execution_count": 25,
   "metadata": {},
   "outputs": [],
   "source": [
    "#-Cor ou raça:\n",
    "df_2015.loc[(df_2015[\"Cor ou raça\"] == 2),\"Cor ou raça\"] = \"Branca\"\n",
    "df_2015.loc[(df_2015[\"Cor ou raça\"] == 4),\"Cor ou raça\"] = \"Preta\"\n",
    "df_2015.loc[(df_2015[\"Cor ou raça\"] == 6),\"Cor ou raça\"] = \"Amarela\"\n",
    "df_2015.loc[(df_2015[\"Cor ou raça\"] == 8),\"Cor ou raça\"] = \"Pardo\"\n",
    "df_2015.loc[(df_2015[\"Cor ou raça\"] == 0),\"Cor ou raça\"] = \"Indigena\""
   ]
  },
  {
   "cell_type": "code",
   "execution_count": 26,
   "metadata": {},
   "outputs": [],
   "source": [
    "#-Sabe ler e escrever:\n",
    "df_2015.loc[(df_2015[\"Sabe ler e escrever\"] == 1),\"Sabe ler e escrever\"] = \"Sim\"\n",
    "df_2015.loc[(df_2015[\"Sabe ler e escrever\"] == 3),\"Sabe ler e escrever\"] = \"Não\""
   ]
  },
  {
   "cell_type": "code",
   "execution_count": 27,
   "metadata": {},
   "outputs": [],
   "source": [
    "#-Curso mais elevado que cursou:\n",
    "df_2015.loc[(df_2015[\"Curso mais elevado que cursou\"] == 1),\"Curso mais elevado que cursou\"] = \"Elementar (Primário)\"\n",
    "df_2015.loc[(df_2015[\"Curso mais elevado que cursou\"] == 2),\"Curso mais elevado que cursou\"] = \"Médio 1˚ ciclo\"\n",
    "df_2015.loc[(df_2015[\"Curso mais elevado que cursou\"] == 3),\"Curso mais elevado que cursou\"] = \"Médio 2˚ ciclo\"\n",
    "df_2015.loc[(df_2015[\"Curso mais elevado que cursou\"] == 4),\"Curso mais elevado que cursou\"] = \"Regular do ensino Fundamental\"\n",
    "df_2015.loc[(df_2015[\"Curso mais elevado que cursou\"] == 5),\"Curso mais elevado que cursou\"] = \"Regular do ensino Médio\"\n",
    "df_2015.loc[(df_2015[\"Curso mais elevado que cursou\"] == 6),\"Curso mais elevado que cursou\"] = \"Supletivo do ensino Fundamental\"\n",
    "df_2015.loc[(df_2015[\"Curso mais elevado que cursou\"] == 7),\"Curso mais elevado que cursou\"] = \"Supletivo do ensino Médio\"\n",
    "df_2015.loc[(df_2015[\"Curso mais elevado que cursou\"] == 8),\"Curso mais elevado que cursou\"] = \"Superior de graduação\"\n",
    "df_2015.loc[(df_2015[\"Curso mais elevado que cursou\"] == 9),\"Curso mais elevado que cursou\"] = \"Mestrado ou doutorado\"\n",
    "df_2015.loc[(df_2015[\"Curso mais elevado que cursou\"] == 10),\"Curso mais elevado que cursou\"] = \"Alfabetização para jovens adultos\"\n",
    "df_2015.loc[(df_2015[\"Curso mais elevado que cursou\"] == 11),\"Curso mais elevado que cursou\"] = \"Creche\"\n",
    "df_2015.loc[(df_2015[\"Curso mais elevado que cursou\"] == 12),\"Curso mais elevado que cursou\"] = \"Classe de alfabetização - CA\"\n",
    "df_2015.loc[(df_2015[\"Curso mais elevado que cursou\"] == 13),\"Curso mais elevado que cursou\"] = \"Jardim da infância\"\n",
    "df_2015.loc[(df_2015[\"Curso mais elevado que cursou\"].isnull() == True),\"Curso mais elevado que cursou\"] = \"Não aplicável\""
   ]
  },
  {
   "cell_type": "code",
   "execution_count": 28,
   "metadata": {},
   "outputs": [],
   "source": [
    "#-Número de horas trabalhadas por semana no trabalho principal:\n",
    "df_2015.loc[(df_2015[\"Número de horas trabalhadas por semana no trabalho\"].isnull() == True),\"Número de horas trabalhadas por semana no trabalho\"] = \"Não aplicável\""
   ]
  },
  {
   "cell_type": "code",
   "execution_count": 29,
   "metadata": {},
   "outputs": [],
   "source": [
    "#-Idade com que começou a trabalhar:\n",
    "df_2015.loc[(df_2015[\"Idade com que começou a trabalhar\"].isnull() == True),\"Idade com que começou a trabalhar\"] = \"Não aplicável\""
   ]
  },
  {
   "cell_type": "code",
   "execution_count": 30,
   "metadata": {},
   "outputs": [],
   "source": [
    "#-Condição de atividade:\n",
    "df_2015.loc[(df_2015[\"Condição de atividade\"] == 1),\"Condição de atividade\"] = \"Economicamente ativas\"\n",
    "df_2015.loc[(df_2015[\"Condição de atividade\"] == 2),\"Condição de atividade\"] = \"Não economicamente ativas\"\n",
    "df_2015.loc[(df_2015[\"Condição de atividade\"].isnull() == True),\"Condição de atividade\"] = \"Não aplicável\""
   ]
  },
  {
   "cell_type": "code",
   "execution_count": 34,
   "metadata": {},
   "outputs": [
    {
     "data": {
      "text/html": [
       "<div>\n",
       "<style scoped>\n",
       "    .dataframe tbody tr th:only-of-type {\n",
       "        vertical-align: middle;\n",
       "    }\n",
       "\n",
       "    .dataframe tbody tr th {\n",
       "        vertical-align: top;\n",
       "    }\n",
       "\n",
       "    .dataframe thead th {\n",
       "        text-align: right;\n",
       "    }\n",
       "</style>\n",
       "<table border=\"1\" class=\"dataframe\">\n",
       "  <thead>\n",
       "    <tr style=\"text-align: right;\">\n",
       "      <th></th>\n",
       "      <th>UF</th>\n",
       "      <th>Sexo</th>\n",
       "      <th>Idade do morador</th>\n",
       "      <th>Cor ou raça</th>\n",
       "      <th>Sabe ler e escrever</th>\n",
       "      <th>Curso mais elevado que cursou</th>\n",
       "      <th>Número de horas trabalhadas por semana no trabalho</th>\n",
       "      <th>Idade com que começou a trabalhar</th>\n",
       "      <th>Condição de atividade</th>\n",
       "    </tr>\n",
       "  </thead>\n",
       "  <tbody>\n",
       "    <tr>\n",
       "      <th>83121</th>\n",
       "      <td>Ceará</td>\n",
       "      <td>Feminino</td>\n",
       "      <td>36</td>\n",
       "      <td>Pardo</td>\n",
       "      <td>Sim</td>\n",
       "      <td>Regular do ensino Fundamental</td>\n",
       "      <td>Não aplicável</td>\n",
       "      <td>Não aplicável</td>\n",
       "      <td>Não economicamente ativas</td>\n",
       "    </tr>\n",
       "    <tr>\n",
       "      <th>95251</th>\n",
       "      <td>Praíba</td>\n",
       "      <td>Feminino</td>\n",
       "      <td>53</td>\n",
       "      <td>Branca</td>\n",
       "      <td>Sim</td>\n",
       "      <td>Superior de graduação</td>\n",
       "      <td>15</td>\n",
       "      <td>10</td>\n",
       "      <td>Economicamente ativas</td>\n",
       "    </tr>\n",
       "  </tbody>\n",
       "</table>\n",
       "</div>"
      ],
      "text/plain": [
       "           UF      Sexo  Idade do morador Cor ou raça Sabe ler e escrever  \\\n",
       "83121   Ceará  Feminino                36       Pardo                 Sim   \n",
       "95251  Praíba  Feminino                53      Branca                 Sim   \n",
       "\n",
       "       Curso mais elevado que cursou  \\\n",
       "83121  Regular do ensino Fundamental   \n",
       "95251          Superior de graduação   \n",
       "\n",
       "      Número de horas trabalhadas por semana no trabalho  \\\n",
       "83121                                      Não aplicável   \n",
       "95251                                                 15   \n",
       "\n",
       "      Idade com que começou a trabalhar      Condição de atividade  \n",
       "83121                     Não aplicável  Não economicamente ativas  \n",
       "95251                                10      Economicamente ativas  "
      ]
     },
     "execution_count": 34,
     "metadata": {},
     "output_type": "execute_result"
    }
   ],
   "source": [
    "#Tabela do dataset(2015) pós-formatação:\n",
    "df_2015.sample(2)"
   ]
  },
  {
   "cell_type": "markdown",
   "metadata": {},
   "source": [
    "___\n",
    "## Análise e Resultados"
   ]
  },
  {
   "cell_type": "code",
   "execution_count": null,
   "metadata": {},
   "outputs": [],
   "source": []
  },
  {
   "cell_type": "markdown",
   "metadata": {},
   "source": [
    "___\n",
    "## Conclusão "
   ]
  },
  {
   "cell_type": "markdown",
   "metadata": {
    "collapsed": true
   },
   "source": [
    "Descreva aqui suas conclusões!"
   ]
  },
  {
   "cell_type": "code",
   "execution_count": null,
   "metadata": {},
   "outputs": [],
   "source": []
  }
 ],
 "metadata": {
  "anaconda-cloud": {},
  "kernelspec": {
   "display_name": "Python 3",
   "language": "python",
   "name": "python3"
  },
  "language_info": {
   "codemirror_mode": {
    "name": "ipython",
    "version": 3
   },
   "file_extension": ".py",
   "mimetype": "text/x-python",
   "name": "python",
   "nbconvert_exporter": "python",
   "pygments_lexer": "ipython3",
   "version": "3.7.0"
  }
 },
 "nbformat": 4,
 "nbformat_minor": 1
}
