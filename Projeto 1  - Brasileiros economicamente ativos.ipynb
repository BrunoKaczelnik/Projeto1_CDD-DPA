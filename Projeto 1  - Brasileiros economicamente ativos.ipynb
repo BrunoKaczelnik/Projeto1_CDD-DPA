{
 "cells": [
  {
   "cell_type": "markdown",
   "metadata": {},
   "source": [
    "___\n",
    "# Ciência dos Dados - PROJETO 1"
   ]
  },
  {
   "cell_type": "markdown",
   "metadata": {},
   "source": [
    "\n",
    "### <font color=Grey>Guilherme Lotaif e Bruno Kaczelnik</font>\n",
    "___"
   ]
  },
  {
   "cell_type": "markdown",
   "metadata": {},
   "source": [
    "## Estudo dos brasileiros mais economicamente ativos"
   ]
  },
  {
   "cell_type": "markdown",
   "metadata": {},
   "source": [
    "___\n",
    "## Introdução\n",
    "\n",
    "Neste projeto nós vamos analisar os dados da PNAD (Pesquisa Nacional por Amostra de Domicílios), que investiga anualmente as características da população. Este levantamento é um importante instrumento para o estudo socioeconômico do Brasil. \n",
    "\n",
    "A partir dos dados de 2011 e 2015 vamos fazer um estudo para identificar dentro do perfil dos `brasileiros economicamente ativos`, quais são os grupos sociais com **maior número de pessoas ativas**.\n"
   ]
  },
  {
   "cell_type": "markdown",
   "metadata": {},
   "source": [
    "___\n",
    "## Filtros da base de dados"
   ]
  },
  {
   "cell_type": "code",
   "execution_count": 22,
   "metadata": {},
   "outputs": [],
   "source": [
    "%matplotlib inline\n",
    "import pandas as pd\n",
    "import matplotlib.pyplot as plt\n",
    "import numpy as np\n",
    "import os\n",
    "import seaborn as sns\n",
    "import warnings\n",
    "import matplotlib.cbook\n",
    "plt.style.use('ggplot')"
   ]
  },
  {
   "cell_type": "code",
   "execution_count": 23,
   "metadata": {},
   "outputs": [
    {
     "name": "stdout",
     "output_type": "stream",
     "text": [
      "Esperamos trabalhar no diretório\n",
      "/Users/guilherme/Downloads\n"
     ]
    }
   ],
   "source": [
    "print('Esperamos trabalhar no diretório')\n",
    "print(os.getcwd())"
   ]
  },
  {
   "cell_type": "markdown",
   "metadata": {},
   "source": [
    "...\n",
    "### Vamos abrir os arquivos:\n",
    "\n",
    "Os arquivos que serão usados nesse projeto são 2 arquivos csv, com todas informações coletadas pela PNAD, esses dados precisarão ser formatados visando fazer a análise dos mesmos."
   ]
  },
  {
   "cell_type": "code",
   "execution_count": 24,
   "metadata": {},
   "outputs": [],
   "source": [
    "#Abrindo o arquivo com os dados de 2011:\n",
    "All_data_2011 = pd.read_csv('PES2011.csv',sep=',')"
   ]
  },
  {
   "cell_type": "code",
   "execution_count": 25,
   "metadata": {},
   "outputs": [
    {
     "data": {
      "text/plain": [
       "float64    294\n",
       "int64       30\n",
       "dtype: int64"
      ]
     },
     "execution_count": 25,
     "metadata": {},
     "output_type": "execute_result"
    }
   ],
   "source": [
    "#Analisando os tipos de informações no arquivo:\n",
    "All_data_2011.get_dtype_counts()"
   ]
  },
  {
   "cell_type": "code",
   "execution_count": 26,
   "metadata": {},
   "outputs": [
    {
     "data": {
      "text/html": [
       "<div>\n",
       "<style scoped>\n",
       "    .dataframe tbody tr th:only-of-type {\n",
       "        vertical-align: middle;\n",
       "    }\n",
       "\n",
       "    .dataframe tbody tr th {\n",
       "        vertical-align: top;\n",
       "    }\n",
       "\n",
       "    .dataframe thead th {\n",
       "        text-align: right;\n",
       "    }\n",
       "</style>\n",
       "<table border=\"1\" class=\"dataframe\">\n",
       "  <thead>\n",
       "    <tr style=\"text-align: right;\">\n",
       "      <th></th>\n",
       "      <th>V0101</th>\n",
       "      <th>UF</th>\n",
       "      <th>V0102</th>\n",
       "      <th>V0103</th>\n",
       "      <th>V0301</th>\n",
       "      <th>V0302</th>\n",
       "      <th>V3031</th>\n",
       "      <th>V3032</th>\n",
       "      <th>V3033</th>\n",
       "      <th>V8005</th>\n",
       "      <th>...</th>\n",
       "      <th>V4741</th>\n",
       "      <th>V4742</th>\n",
       "      <th>V4743</th>\n",
       "      <th>V4745</th>\n",
       "      <th>V4746</th>\n",
       "      <th>V4747</th>\n",
       "      <th>V4748</th>\n",
       "      <th>V4749</th>\n",
       "      <th>V4750</th>\n",
       "      <th>V9993</th>\n",
       "    </tr>\n",
       "  </thead>\n",
       "  <tbody>\n",
       "    <tr>\n",
       "      <th>333364</th>\n",
       "      <td>2011</td>\n",
       "      <td>51</td>\n",
       "      <td>51000000.0</td>\n",
       "      <td>34</td>\n",
       "      <td>3</td>\n",
       "      <td>2</td>\n",
       "      <td>21</td>\n",
       "      <td>7</td>\n",
       "      <td>1994</td>\n",
       "      <td>17</td>\n",
       "      <td>...</td>\n",
       "      <td>5.0</td>\n",
       "      <td>212.0</td>\n",
       "      <td>2.0</td>\n",
       "      <td>4</td>\n",
       "      <td>2.0</td>\n",
       "      <td>NaN</td>\n",
       "      <td>NaN</td>\n",
       "      <td>2.0</td>\n",
       "      <td>212.0</td>\n",
       "      <td>20100000.0</td>\n",
       "    </tr>\n",
       "    <tr>\n",
       "      <th>133569</th>\n",
       "      <td>2011</td>\n",
       "      <td>28</td>\n",
       "      <td>28000000.0</td>\n",
       "      <td>2</td>\n",
       "      <td>4</td>\n",
       "      <td>4</td>\n",
       "      <td>14</td>\n",
       "      <td>9</td>\n",
       "      <td>1988</td>\n",
       "      <td>23</td>\n",
       "      <td>...</td>\n",
       "      <td>4.0</td>\n",
       "      <td>279.0</td>\n",
       "      <td>3.0</td>\n",
       "      <td>6</td>\n",
       "      <td>2.0</td>\n",
       "      <td>NaN</td>\n",
       "      <td>NaN</td>\n",
       "      <td>2.0</td>\n",
       "      <td>279.0</td>\n",
       "      <td>20100000.0</td>\n",
       "    </tr>\n",
       "  </tbody>\n",
       "</table>\n",
       "<p>2 rows × 324 columns</p>\n",
       "</div>"
      ],
      "text/plain": [
       "        V0101  UF       V0102  V0103  V0301  V0302  V3031  V3032  V3033  \\\n",
       "333364   2011  51  51000000.0     34      3      2     21      7   1994   \n",
       "133569   2011  28  28000000.0      2      4      4     14      9   1988   \n",
       "\n",
       "        V8005     ...      V4741  V4742  V4743  V4745  V4746  V4747  V4748  \\\n",
       "333364     17     ...        5.0  212.0    2.0      4    2.0    NaN    NaN   \n",
       "133569     23     ...        4.0  279.0    3.0      6    2.0    NaN    NaN   \n",
       "\n",
       "        V4749  V4750       V9993  \n",
       "333364    2.0  212.0  20100000.0  \n",
       "133569    2.0  279.0  20100000.0  \n",
       "\n",
       "[2 rows x 324 columns]"
      ]
     },
     "execution_count": 26,
     "metadata": {},
     "output_type": "execute_result"
    }
   ],
   "source": [
    "#Tabela do dataset(2011) pré-formatação:\n",
    "All_data_2011.sample(2)"
   ]
  },
  {
   "cell_type": "code",
   "execution_count": 27,
   "metadata": {},
   "outputs": [],
   "source": [
    "#Abrindo o arquivo com os dados de 2015:\n",
    "All_data_2015 = pd.read_csv('PES2015.csv',sep=',')"
   ]
  },
  {
   "cell_type": "code",
   "execution_count": 28,
   "metadata": {},
   "outputs": [
    {
     "data": {
      "text/plain": [
       "float64    296\n",
       "int64       33\n",
       "dtype: int64"
      ]
     },
     "execution_count": 28,
     "metadata": {},
     "output_type": "execute_result"
    }
   ],
   "source": [
    "#Analisando os tipos de informações no arquivo:\n",
    "All_data_2015.get_dtype_counts()"
   ]
  },
  {
   "cell_type": "code",
   "execution_count": 29,
   "metadata": {},
   "outputs": [
    {
     "data": {
      "text/html": [
       "<div>\n",
       "<style scoped>\n",
       "    .dataframe tbody tr th:only-of-type {\n",
       "        vertical-align: middle;\n",
       "    }\n",
       "\n",
       "    .dataframe tbody tr th {\n",
       "        vertical-align: top;\n",
       "    }\n",
       "\n",
       "    .dataframe thead th {\n",
       "        text-align: right;\n",
       "    }\n",
       "</style>\n",
       "<table border=\"1\" class=\"dataframe\">\n",
       "  <thead>\n",
       "    <tr style=\"text-align: right;\">\n",
       "      <th></th>\n",
       "      <th>Unnamed: 0</th>\n",
       "      <th>V0101</th>\n",
       "      <th>UF</th>\n",
       "      <th>V0102</th>\n",
       "      <th>V0103</th>\n",
       "      <th>V0301</th>\n",
       "      <th>V0302</th>\n",
       "      <th>V3031</th>\n",
       "      <th>V3032</th>\n",
       "      <th>V3033</th>\n",
       "      <th>...</th>\n",
       "      <th>V4741</th>\n",
       "      <th>V4742</th>\n",
       "      <th>V4743</th>\n",
       "      <th>V4745</th>\n",
       "      <th>V4746</th>\n",
       "      <th>V4747</th>\n",
       "      <th>V4748</th>\n",
       "      <th>V4749</th>\n",
       "      <th>V4750</th>\n",
       "      <th>V9993</th>\n",
       "    </tr>\n",
       "  </thead>\n",
       "  <tbody>\n",
       "    <tr>\n",
       "      <th>12186</th>\n",
       "      <td>12186</td>\n",
       "      <td>2015</td>\n",
       "      <td>13</td>\n",
       "      <td>225</td>\n",
       "      <td>3</td>\n",
       "      <td>2</td>\n",
       "      <td>4</td>\n",
       "      <td>13</td>\n",
       "      <td>12</td>\n",
       "      <td>1980</td>\n",
       "      <td>...</td>\n",
       "      <td>9.0</td>\n",
       "      <td>104.0</td>\n",
       "      <td>1.0</td>\n",
       "      <td>2</td>\n",
       "      <td>2.0</td>\n",
       "      <td>NaN</td>\n",
       "      <td>NaN</td>\n",
       "      <td>2.0</td>\n",
       "      <td>156.0</td>\n",
       "      <td>20161117</td>\n",
       "    </tr>\n",
       "    <tr>\n",
       "      <th>308128</th>\n",
       "      <td>308128</td>\n",
       "      <td>2015</td>\n",
       "      <td>43</td>\n",
       "      <td>4245</td>\n",
       "      <td>5</td>\n",
       "      <td>1</td>\n",
       "      <td>2</td>\n",
       "      <td>28</td>\n",
       "      <td>1</td>\n",
       "      <td>1983</td>\n",
       "      <td>...</td>\n",
       "      <td>1.0</td>\n",
       "      <td>1400.0</td>\n",
       "      <td>4.0</td>\n",
       "      <td>6</td>\n",
       "      <td>1.0</td>\n",
       "      <td>2.0</td>\n",
       "      <td>2.0</td>\n",
       "      <td>1.0</td>\n",
       "      <td>1400.0</td>\n",
       "      <td>20161117</td>\n",
       "    </tr>\n",
       "  </tbody>\n",
       "</table>\n",
       "<p>2 rows × 329 columns</p>\n",
       "</div>"
      ],
      "text/plain": [
       "        Unnamed: 0  V0101  UF  V0102  V0103  V0301  V0302  V3031  V3032  \\\n",
       "12186        12186   2015  13    225      3      2      4     13     12   \n",
       "308128      308128   2015  43   4245      5      1      2     28      1   \n",
       "\n",
       "        V3033    ...     V4741   V4742  V4743  V4745  V4746  V4747  V4748  \\\n",
       "12186    1980    ...       9.0   104.0    1.0      2    2.0    NaN    NaN   \n",
       "308128   1983    ...       1.0  1400.0    4.0      6    1.0    2.0    2.0   \n",
       "\n",
       "        V4749   V4750     V9993  \n",
       "12186     2.0   156.0  20161117  \n",
       "308128    1.0  1400.0  20161117  \n",
       "\n",
       "[2 rows x 329 columns]"
      ]
     },
     "execution_count": 29,
     "metadata": {},
     "output_type": "execute_result"
    }
   ],
   "source": [
    "#Tabela do dataset(2015) pré-formatação:\n",
    "All_data_2015.sample(2)"
   ]
  },
  {
   "cell_type": "markdown",
   "metadata": {},
   "source": [
    "...\n",
    "### Vamos selecionar as váriaveis pertinentes para 2011:"
   ]
  },
  {
   "cell_type": "code",
   "execution_count": 30,
   "metadata": {},
   "outputs": [],
   "source": [
    "#Vamos criar um dataframe com as váriaveis selecionadas:\n",
    "df = [\"UF\",\"V0302\",\"V8005\",\"V0404\",\"V0601\",\"V6007\",\"V9532\",\"V9058\",\"V9891\",\"V4704\"]"
   ]
  },
  {
   "cell_type": "code",
   "execution_count": 31,
   "metadata": {},
   "outputs": [],
   "source": [
    "#Renomeando as colunas do dataframe:\n",
    "df_2011 = All_data_2011[df]\n",
    "df_2011.columns = [\"UF\", \"Sexo\", \"Idade do morador\", \"Cor ou raça\", \"Sabe ler e escrever\", \"Curso mais elevado que cursou\",\"Rendimento mensal\",\n",
    "        \"Número de horas trabalhadas por semana no trabalho\", \"Idade com que começou a trabalhar\", \"Condição de atividade\"]"
   ]
  },
  {
   "cell_type": "markdown",
   "metadata": {},
   "source": [
    "...\n",
    "#### Atribuindo as características das váriaveis:"
   ]
  },
  {
   "cell_type": "code",
   "execution_count": 32,
   "metadata": {},
   "outputs": [],
   "source": [
    "#Suprimindo o aviso de copia de dataframe:\n",
    "pd.set_option('chained_assignment',None)"
   ]
  },
  {
   "cell_type": "code",
   "execution_count": 33,
   "metadata": {},
   "outputs": [],
   "source": [
    "#-UF:\n",
    "df_2011.loc[(df_2011[\"UF\"] == 11),\"UF\"] = \"Rondônia\"\n",
    "df_2011.loc[(df_2011[\"UF\"] == 12),\"UF\"] = \"Acre\"\n",
    "df_2011.loc[(df_2011[\"UF\"] == 13),\"UF\"] = \"Amazonas\"\n",
    "df_2011.loc[(df_2011[\"UF\"] == 14),\"UF\"] = \"Roraima\"\n",
    "df_2011.loc[(df_2011[\"UF\"] == 15),\"UF\"] = \"Pará\"\n",
    "df_2011.loc[(df_2011[\"UF\"] == 16),\"UF\"] = \"Amapá\"\n",
    "df_2011.loc[(df_2011[\"UF\"] == 17),\"UF\"] = \"Tocantins\"\n",
    "df_2011.loc[(df_2011[\"UF\"] == 21),\"UF\"] = \"Maranhão\"\n",
    "df_2011.loc[(df_2011[\"UF\"] == 22),\"UF\"] = \"Piauí\"\n",
    "df_2011.loc[(df_2011[\"UF\"] == 23),\"UF\"] = \"Ceará\"\n",
    "df_2011.loc[(df_2011[\"UF\"] == 24),\"UF\"] = \"Rio Grande do Norte\"\n",
    "df_2011.loc[(df_2011[\"UF\"] == 25),\"UF\"] = \"Praíba\"\n",
    "df_2011.loc[(df_2011[\"UF\"] == 26),\"UF\"] = \"Pernambuco\"\n",
    "df_2011.loc[(df_2011[\"UF\"] == 27),\"UF\"] = \"Alagoas\"\n",
    "df_2011.loc[(df_2011[\"UF\"] == 28),\"UF\"] = \"Sergipe\"\n",
    "df_2011.loc[(df_2011[\"UF\"] == 29),\"UF\"] = \"Bahia\"\n",
    "df_2011.loc[(df_2011[\"UF\"] == 31),\"UF\"] = \"Minas Gerais\"\n",
    "df_2011.loc[(df_2011[\"UF\"] == 32),\"UF\"] = \"Espirito Santo\"\n",
    "df_2011.loc[(df_2011[\"UF\"] == 33),\"UF\"] = \"Rio de Janeiro\"\n",
    "df_2011.loc[(df_2011[\"UF\"] == 35),\"UF\"] = \"São Paulo\"\n",
    "df_2011.loc[(df_2011[\"UF\"] == 41),\"UF\"] = \"Paraná\"\n",
    "df_2011.loc[(df_2011[\"UF\"] == 42),\"UF\"] = \"Santa Catarina\"\n",
    "df_2011.loc[(df_2011[\"UF\"] == 43),\"UF\"] = \"Rio Grande do Sul\"\n",
    "df_2011.loc[(df_2011[\"UF\"] == 50),\"UF\"] = \"Mato Grosso do Sul\"\n",
    "df_2011.loc[(df_2011[\"UF\"] == 51),\"UF\"] = \"Mato Grosso\"\n",
    "df_2011.loc[(df_2011[\"UF\"] == 52),\"UF\"] = \"Goiás\"\n",
    "df_2011.loc[(df_2011[\"UF\"] == 53),\"UF\"] = \"Distrito Federal\""
   ]
  },
  {
   "cell_type": "code",
   "execution_count": 34,
   "metadata": {},
   "outputs": [],
   "source": [
    "#-Sexo:\n",
    "df_2011.loc[(df_2011.Sexo == 2),\"Sexo\"] = \"Masculino\"\n",
    "df_2011.loc[(df_2011.Sexo == 4),\"Sexo\"] = \"Feminino\""
   ]
  },
  {
   "cell_type": "code",
   "execution_count": 35,
   "metadata": {},
   "outputs": [],
   "source": [
    "#-Cor ou raça:\n",
    "df_2011.loc[(df_2011[\"Cor ou raça\"] == 2),\"Cor ou raça\"] = \"Branca\"\n",
    "df_2011.loc[(df_2011[\"Cor ou raça\"] == 4),\"Cor ou raça\"] = \"Preta\"\n",
    "df_2011.loc[(df_2011[\"Cor ou raça\"] == 6),\"Cor ou raça\"] = \"Amarela\"\n",
    "df_2011.loc[(df_2011[\"Cor ou raça\"] == 8),\"Cor ou raça\"] = \"Pardo\"\n",
    "df_2011.loc[(df_2011[\"Cor ou raça\"] == 0),\"Cor ou raça\"] = \"Indigena\"\n",
    "df_2011.loc[(df_2011[\"Cor ou raça\"] == 9),\"Cor ou raça\"] = \"Sem declaração\""
   ]
  },
  {
   "cell_type": "code",
   "execution_count": 36,
   "metadata": {},
   "outputs": [],
   "source": [
    "#-Sabe ler e escrever:\n",
    "df_2011.loc[(df_2011[\"Sabe ler e escrever\"] == 1),\"Sabe ler e escrever\"] = \"Sim\"\n",
    "df_2011.loc[(df_2011[\"Sabe ler e escrever\"] == 3),\"Sabe ler e escrever\"] = \"Não\""
   ]
  },
  {
   "cell_type": "code",
   "execution_count": 37,
   "metadata": {},
   "outputs": [],
   "source": [
    "#-Curso mais elevado que cursou:\n",
    "df_2011.loc[(df_2011[\"Curso mais elevado que cursou\"] == 1),\"Curso mais elevado que cursou\"] = \"Elementar (Primário)\"\n",
    "df_2011.loc[(df_2011[\"Curso mais elevado que cursou\"] == 2),\"Curso mais elevado que cursou\"] = \"Médio 1˚ ciclo\"\n",
    "df_2011.loc[(df_2011[\"Curso mais elevado que cursou\"] == 3),\"Curso mais elevado que cursou\"] = \"Médio 2˚ ciclo\"\n",
    "df_2011.loc[(df_2011[\"Curso mais elevado que cursou\"] == 4),\"Curso mais elevado que cursou\"] = \"Regular do ensino Fundamental\"\n",
    "df_2011.loc[(df_2011[\"Curso mais elevado que cursou\"] == 5),\"Curso mais elevado que cursou\"] = \"Regular do ensino Médio\"\n",
    "df_2011.loc[(df_2011[\"Curso mais elevado que cursou\"] == 6),\"Curso mais elevado que cursou\"] = \"Supletivo do ensino Fundamental\"\n",
    "df_2011.loc[(df_2011[\"Curso mais elevado que cursou\"] == 7),\"Curso mais elevado que cursou\"] = \"Supletivo do ensino Médio\"\n",
    "df_2011.loc[(df_2011[\"Curso mais elevado que cursou\"] == 8),\"Curso mais elevado que cursou\"] = \"Superior de graduação\"\n",
    "df_2011.loc[(df_2011[\"Curso mais elevado que cursou\"] == 9),\"Curso mais elevado que cursou\"] = \"Mestrado ou doutorado\"\n",
    "df_2011.loc[(df_2011[\"Curso mais elevado que cursou\"] == 10),\"Curso mais elevado que cursou\"] = \"Alfabetização para jovens adultos\"\n",
    "df_2011.loc[(df_2011[\"Curso mais elevado que cursou\"] == 11),\"Curso mais elevado que cursou\"] = \"Creche\"\n",
    "df_2011.loc[(df_2011[\"Curso mais elevado que cursou\"] == 12),\"Curso mais elevado que cursou\"] = \"Classe de alfabetização - CA\"\n",
    "df_2011.loc[(df_2011[\"Curso mais elevado que cursou\"] == 13),\"Curso mais elevado que cursou\"] = \"Jardim da infância\"\n",
    "df_2011.loc[(df_2011[\"Curso mais elevado que cursou\"].isnull() == True),\"Curso mais elevado que cursou\"] = \"Não aplicável\""
   ]
  },
  {
   "cell_type": "code",
   "execution_count": 38,
   "metadata": {},
   "outputs": [],
   "source": [
    "#-Rendimento mensal: \n",
    "df_2011[\"Rendimento mensal\"].loc[df_2011[\"Rendimento mensal\"]>=999999999999]=\"Sem declarações\"\n",
    "df_2011.loc[(df_2011[\"Rendimento mensal\"].isnull() == True),\"Rendimento mensal\"] = \"Não aplicável\""
   ]
  },
  {
   "cell_type": "code",
   "execution_count": 39,
   "metadata": {},
   "outputs": [],
   "source": [
    "#-Número de horas trabalhadas por semana no trabalho principal:\n",
    "df_2011.loc[(df_2011[\"Número de horas trabalhadas por semana no trabalho\"].isnull() == True),\"Número de horas trabalhadas por semana no trabalho\"] = \"Não aplicável\""
   ]
  },
  {
   "cell_type": "code",
   "execution_count": 40,
   "metadata": {},
   "outputs": [],
   "source": [
    "#-Idade com que começou a trabalhar:\n",
    "df_2011.loc[(df_2011[\"Idade com que começou a trabalhar\"] == 1),\"Idade com que começou a trabalhar\"] = \"Até 9 anos\"\n",
    "df_2011.loc[(df_2011[\"Idade com que começou a trabalhar\"] == 2),\"Idade com que começou a trabalhar\"] = \"10 a 14 anos\"\n",
    "df_2011.loc[(df_2011[\"Idade com que começou a trabalhar\"] == 3),\"Idade com que começou a trabalhar\"] = \"15 a 17 anos\"\n",
    "df_2011.loc[(df_2011[\"Idade com que começou a trabalhar\"] == 4),\"Idade com que começou a trabalhar\"] = \"18 a 19 anos\"\n",
    "df_2011.loc[(df_2011[\"Idade com que começou a trabalhar\"] == 5),\"Idade com que começou a trabalhar\"] = \"20 a 24 anos\"\n",
    "df_2011.loc[(df_2011[\"Idade com que começou a trabalhar\"] == 6),\"Idade com que começou a trabalhar\"] = \"25 a 29 anos\"\n",
    "df_2011.loc[(df_2011[\"Idade com que começou a trabalhar\"] == 7),\"Idade com que começou a trabalhar\"] = \"30 anos ou  mais\"\n",
    "df_2011.loc[(df_2011[\"Idade com que começou a trabalhar\"].isnull() == True),\"Idade com que começou a trabalhar\"] = \"Não aplicável\""
   ]
  },
  {
   "cell_type": "code",
   "execution_count": 41,
   "metadata": {},
   "outputs": [],
   "source": [
    "#-Condição de atividade:\n",
    "df_2011.loc[(df_2011[\"Condição de atividade\"] == 1),\"Condição de atividade\"] = \"Economicamente ativas\"\n",
    "df_2011.loc[(df_2011[\"Condição de atividade\"] == 2),\"Condição de atividade\"] = \"Não economicamente ativas\"\n",
    "df_2011.loc[(df_2011[\"Condição de atividade\"].isnull() == True),\"Condição de atividade\"] = \"Não aplicável\""
   ]
  },
  {
   "cell_type": "code",
   "execution_count": 42,
   "metadata": {},
   "outputs": [
    {
     "data": {
      "text/html": [
       "<div>\n",
       "<style scoped>\n",
       "    .dataframe tbody tr th:only-of-type {\n",
       "        vertical-align: middle;\n",
       "    }\n",
       "\n",
       "    .dataframe tbody tr th {\n",
       "        vertical-align: top;\n",
       "    }\n",
       "\n",
       "    .dataframe thead th {\n",
       "        text-align: right;\n",
       "    }\n",
       "</style>\n",
       "<table border=\"1\" class=\"dataframe\">\n",
       "  <thead>\n",
       "    <tr style=\"text-align: right;\">\n",
       "      <th></th>\n",
       "      <th>UF</th>\n",
       "      <th>Sexo</th>\n",
       "      <th>Idade do morador</th>\n",
       "      <th>Cor ou raça</th>\n",
       "      <th>Sabe ler e escrever</th>\n",
       "      <th>Curso mais elevado que cursou</th>\n",
       "      <th>Rendimento mensal</th>\n",
       "      <th>Número de horas trabalhadas por semana no trabalho</th>\n",
       "      <th>Idade com que começou a trabalhar</th>\n",
       "      <th>Condição de atividade</th>\n",
       "    </tr>\n",
       "  </thead>\n",
       "  <tbody>\n",
       "    <tr>\n",
       "      <th>297</th>\n",
       "      <td>Rondônia</td>\n",
       "      <td>Masculino</td>\n",
       "      <td>10</td>\n",
       "      <td>Pardo</td>\n",
       "      <td>Sim</td>\n",
       "      <td>Não aplicável</td>\n",
       "      <td>Não aplicável</td>\n",
       "      <td>Não aplicável</td>\n",
       "      <td>Não aplicável</td>\n",
       "      <td>Não economicamente ativas</td>\n",
       "    </tr>\n",
       "    <tr>\n",
       "      <th>149560</th>\n",
       "      <td>Bahia</td>\n",
       "      <td>Feminino</td>\n",
       "      <td>14</td>\n",
       "      <td>Pardo</td>\n",
       "      <td>Sim</td>\n",
       "      <td>Não aplicável</td>\n",
       "      <td>Não aplicável</td>\n",
       "      <td>Não aplicável</td>\n",
       "      <td>Não aplicável</td>\n",
       "      <td>Não economicamente ativas</td>\n",
       "    </tr>\n",
       "    <tr>\n",
       "      <th>22892</th>\n",
       "      <td>Roraima</td>\n",
       "      <td>Feminino</td>\n",
       "      <td>55</td>\n",
       "      <td>Branca</td>\n",
       "      <td>Sim</td>\n",
       "      <td>Elementar (Primário)</td>\n",
       "      <td>Não aplicável</td>\n",
       "      <td>Não aplicável</td>\n",
       "      <td>15 a 17 anos</td>\n",
       "      <td>Não economicamente ativas</td>\n",
       "    </tr>\n",
       "    <tr>\n",
       "      <th>76971</th>\n",
       "      <td>Ceará</td>\n",
       "      <td>Feminino</td>\n",
       "      <td>23</td>\n",
       "      <td>Pardo</td>\n",
       "      <td>Sim</td>\n",
       "      <td>Regular do ensino Médio</td>\n",
       "      <td>Não aplicável</td>\n",
       "      <td>Não aplicável</td>\n",
       "      <td>Não aplicável</td>\n",
       "      <td>Economicamente ativas</td>\n",
       "    </tr>\n",
       "    <tr>\n",
       "      <th>46951</th>\n",
       "      <td>Pará</td>\n",
       "      <td>Masculino</td>\n",
       "      <td>74</td>\n",
       "      <td>Pardo</td>\n",
       "      <td>Sim</td>\n",
       "      <td>Elementar (Primário)</td>\n",
       "      <td>90</td>\n",
       "      <td>70</td>\n",
       "      <td>Até 9 anos</td>\n",
       "      <td>Economicamente ativas</td>\n",
       "    </tr>\n",
       "    <tr>\n",
       "      <th>209954</th>\n",
       "      <td>Rio de Janeiro</td>\n",
       "      <td>Masculino</td>\n",
       "      <td>50</td>\n",
       "      <td>Pardo</td>\n",
       "      <td>Sim</td>\n",
       "      <td>Superior de graduação</td>\n",
       "      <td>2600</td>\n",
       "      <td>40</td>\n",
       "      <td>15 a 17 anos</td>\n",
       "      <td>Economicamente ativas</td>\n",
       "    </tr>\n",
       "    <tr>\n",
       "      <th>319333</th>\n",
       "      <td>Rio Grande do Sul</td>\n",
       "      <td>Feminino</td>\n",
       "      <td>76</td>\n",
       "      <td>Branca</td>\n",
       "      <td>Não</td>\n",
       "      <td>Não aplicável</td>\n",
       "      <td>Não aplicável</td>\n",
       "      <td>Não aplicável</td>\n",
       "      <td>Não aplicável</td>\n",
       "      <td>Não economicamente ativas</td>\n",
       "    </tr>\n",
       "    <tr>\n",
       "      <th>112606</th>\n",
       "      <td>Pernambuco</td>\n",
       "      <td>Feminino</td>\n",
       "      <td>62</td>\n",
       "      <td>Branca</td>\n",
       "      <td>Sim</td>\n",
       "      <td>Regular do ensino Fundamental</td>\n",
       "      <td>Não aplicável</td>\n",
       "      <td>Não aplicável</td>\n",
       "      <td>Não aplicável</td>\n",
       "      <td>Não economicamente ativas</td>\n",
       "    </tr>\n",
       "    <tr>\n",
       "      <th>84234</th>\n",
       "      <td>Ceará</td>\n",
       "      <td>Feminino</td>\n",
       "      <td>17</td>\n",
       "      <td>Pardo</td>\n",
       "      <td>Sim</td>\n",
       "      <td>Não aplicável</td>\n",
       "      <td>Não aplicável</td>\n",
       "      <td>Não aplicável</td>\n",
       "      <td>Não aplicável</td>\n",
       "      <td>Não economicamente ativas</td>\n",
       "    </tr>\n",
       "    <tr>\n",
       "      <th>4637</th>\n",
       "      <td>Rondônia</td>\n",
       "      <td>Feminino</td>\n",
       "      <td>57</td>\n",
       "      <td>Branca</td>\n",
       "      <td>Sim</td>\n",
       "      <td>Supletivo do ensino Médio</td>\n",
       "      <td>Não aplicável</td>\n",
       "      <td>Não aplicável</td>\n",
       "      <td>Não aplicável</td>\n",
       "      <td>Não economicamente ativas</td>\n",
       "    </tr>\n",
       "    <tr>\n",
       "      <th>100249</th>\n",
       "      <td>Praíba</td>\n",
       "      <td>Masculino</td>\n",
       "      <td>38</td>\n",
       "      <td>Pardo</td>\n",
       "      <td>Não</td>\n",
       "      <td>Não aplicável</td>\n",
       "      <td>Não aplicável</td>\n",
       "      <td>Não aplicável</td>\n",
       "      <td>Não aplicável</td>\n",
       "      <td>Não economicamente ativas</td>\n",
       "    </tr>\n",
       "    <tr>\n",
       "      <th>316851</th>\n",
       "      <td>Rio Grande do Sul</td>\n",
       "      <td>Masculino</td>\n",
       "      <td>13</td>\n",
       "      <td>Pardo</td>\n",
       "      <td>Sim</td>\n",
       "      <td>Não aplicável</td>\n",
       "      <td>Não aplicável</td>\n",
       "      <td>Não aplicável</td>\n",
       "      <td>Não aplicável</td>\n",
       "      <td>Não economicamente ativas</td>\n",
       "    </tr>\n",
       "    <tr>\n",
       "      <th>172950</th>\n",
       "      <td>Minas Gerais</td>\n",
       "      <td>Feminino</td>\n",
       "      <td>8</td>\n",
       "      <td>Branca</td>\n",
       "      <td>Sim</td>\n",
       "      <td>Não aplicável</td>\n",
       "      <td>Não aplicável</td>\n",
       "      <td>Não aplicável</td>\n",
       "      <td>Não aplicável</td>\n",
       "      <td>Não aplicável</td>\n",
       "    </tr>\n",
       "    <tr>\n",
       "      <th>293477</th>\n",
       "      <td>Rio Grande do Sul</td>\n",
       "      <td>Feminino</td>\n",
       "      <td>37</td>\n",
       "      <td>Branca</td>\n",
       "      <td>Sim</td>\n",
       "      <td>Regular do ensino Fundamental</td>\n",
       "      <td>1200</td>\n",
       "      <td>60</td>\n",
       "      <td>15 a 17 anos</td>\n",
       "      <td>Economicamente ativas</td>\n",
       "    </tr>\n",
       "    <tr>\n",
       "      <th>215122</th>\n",
       "      <td>Rio de Janeiro</td>\n",
       "      <td>Feminino</td>\n",
       "      <td>40</td>\n",
       "      <td>Preta</td>\n",
       "      <td>Sim</td>\n",
       "      <td>Regular do ensino Médio</td>\n",
       "      <td>545</td>\n",
       "      <td>30</td>\n",
       "      <td>10 a 14 anos</td>\n",
       "      <td>Economicamente ativas</td>\n",
       "    </tr>\n",
       "    <tr>\n",
       "      <th>318414</th>\n",
       "      <td>Rio Grande do Sul</td>\n",
       "      <td>Feminino</td>\n",
       "      <td>46</td>\n",
       "      <td>Branca</td>\n",
       "      <td>Sim</td>\n",
       "      <td>Elementar (Primário)</td>\n",
       "      <td>Não aplicável</td>\n",
       "      <td>50</td>\n",
       "      <td>10 a 14 anos</td>\n",
       "      <td>Economicamente ativas</td>\n",
       "    </tr>\n",
       "    <tr>\n",
       "      <th>314760</th>\n",
       "      <td>Rio Grande do Sul</td>\n",
       "      <td>Feminino</td>\n",
       "      <td>5</td>\n",
       "      <td>Branca</td>\n",
       "      <td>Não</td>\n",
       "      <td>Não aplicável</td>\n",
       "      <td>Não aplicável</td>\n",
       "      <td>Não aplicável</td>\n",
       "      <td>Não aplicável</td>\n",
       "      <td>Não aplicável</td>\n",
       "    </tr>\n",
       "    <tr>\n",
       "      <th>296841</th>\n",
       "      <td>Rio Grande do Sul</td>\n",
       "      <td>Feminino</td>\n",
       "      <td>52</td>\n",
       "      <td>Branca</td>\n",
       "      <td>Sim</td>\n",
       "      <td>Supletivo do ensino Fundamental</td>\n",
       "      <td>2000</td>\n",
       "      <td>40</td>\n",
       "      <td>18 a 19 anos</td>\n",
       "      <td>Economicamente ativas</td>\n",
       "    </tr>\n",
       "    <tr>\n",
       "      <th>30488</th>\n",
       "      <td>Pará</td>\n",
       "      <td>Feminino</td>\n",
       "      <td>40</td>\n",
       "      <td>Branca</td>\n",
       "      <td>Sim</td>\n",
       "      <td>Regular do ensino Médio</td>\n",
       "      <td>Não aplicável</td>\n",
       "      <td>Não aplicável</td>\n",
       "      <td>Não aplicável</td>\n",
       "      <td>Não economicamente ativas</td>\n",
       "    </tr>\n",
       "    <tr>\n",
       "      <th>160164</th>\n",
       "      <td>Bahia</td>\n",
       "      <td>Feminino</td>\n",
       "      <td>72</td>\n",
       "      <td>Pardo</td>\n",
       "      <td>Sim</td>\n",
       "      <td>Supletivo do ensino Fundamental</td>\n",
       "      <td>Não aplicável</td>\n",
       "      <td>Não aplicável</td>\n",
       "      <td>Não aplicável</td>\n",
       "      <td>Não economicamente ativas</td>\n",
       "    </tr>\n",
       "    <tr>\n",
       "      <th>235159</th>\n",
       "      <td>São Paulo</td>\n",
       "      <td>Feminino</td>\n",
       "      <td>59</td>\n",
       "      <td>Branca</td>\n",
       "      <td>Sim</td>\n",
       "      <td>Médio 1˚ ciclo</td>\n",
       "      <td>Não aplicável</td>\n",
       "      <td>Não aplicável</td>\n",
       "      <td>Não aplicável</td>\n",
       "      <td>Não economicamente ativas</td>\n",
       "    </tr>\n",
       "    <tr>\n",
       "      <th>153426</th>\n",
       "      <td>Bahia</td>\n",
       "      <td>Feminino</td>\n",
       "      <td>5</td>\n",
       "      <td>Preta</td>\n",
       "      <td>Sim</td>\n",
       "      <td>Não aplicável</td>\n",
       "      <td>Não aplicável</td>\n",
       "      <td>Não aplicável</td>\n",
       "      <td>Não aplicável</td>\n",
       "      <td>Não aplicável</td>\n",
       "    </tr>\n",
       "    <tr>\n",
       "      <th>315196</th>\n",
       "      <td>Rio Grande do Sul</td>\n",
       "      <td>Masculino</td>\n",
       "      <td>74</td>\n",
       "      <td>Branca</td>\n",
       "      <td>Sim</td>\n",
       "      <td>Elementar (Primário)</td>\n",
       "      <td>Não aplicável</td>\n",
       "      <td>48</td>\n",
       "      <td>Até 9 anos</td>\n",
       "      <td>Economicamente ativas</td>\n",
       "    </tr>\n",
       "    <tr>\n",
       "      <th>190344</th>\n",
       "      <td>Minas Gerais</td>\n",
       "      <td>Feminino</td>\n",
       "      <td>10</td>\n",
       "      <td>Pardo</td>\n",
       "      <td>Sim</td>\n",
       "      <td>Não aplicável</td>\n",
       "      <td>Não aplicável</td>\n",
       "      <td>Não aplicável</td>\n",
       "      <td>Não aplicável</td>\n",
       "      <td>Não economicamente ativas</td>\n",
       "    </tr>\n",
       "    <tr>\n",
       "      <th>43033</th>\n",
       "      <td>Pará</td>\n",
       "      <td>Feminino</td>\n",
       "      <td>58</td>\n",
       "      <td>Pardo</td>\n",
       "      <td>Não</td>\n",
       "      <td>Alfabetização para jovens adultos</td>\n",
       "      <td>Não aplicável</td>\n",
       "      <td>Não aplicável</td>\n",
       "      <td>Não aplicável</td>\n",
       "      <td>Não economicamente ativas</td>\n",
       "    </tr>\n",
       "    <tr>\n",
       "      <th>2637</th>\n",
       "      <td>Rondônia</td>\n",
       "      <td>Masculino</td>\n",
       "      <td>33</td>\n",
       "      <td>Preta</td>\n",
       "      <td>Sim</td>\n",
       "      <td>Regular do ensino Fundamental</td>\n",
       "      <td>1200</td>\n",
       "      <td>44</td>\n",
       "      <td>10 a 14 anos</td>\n",
       "      <td>Economicamente ativas</td>\n",
       "    </tr>\n",
       "    <tr>\n",
       "      <th>80901</th>\n",
       "      <td>Ceará</td>\n",
       "      <td>Masculino</td>\n",
       "      <td>46</td>\n",
       "      <td>Branca</td>\n",
       "      <td>Sim</td>\n",
       "      <td>Regular do ensino Fundamental</td>\n",
       "      <td>1200</td>\n",
       "      <td>40</td>\n",
       "      <td>18 a 19 anos</td>\n",
       "      <td>Economicamente ativas</td>\n",
       "    </tr>\n",
       "    <tr>\n",
       "      <th>157398</th>\n",
       "      <td>Bahia</td>\n",
       "      <td>Feminino</td>\n",
       "      <td>11</td>\n",
       "      <td>Pardo</td>\n",
       "      <td>Sim</td>\n",
       "      <td>Não aplicável</td>\n",
       "      <td>Não aplicável</td>\n",
       "      <td>Não aplicável</td>\n",
       "      <td>Não aplicável</td>\n",
       "      <td>Não economicamente ativas</td>\n",
       "    </tr>\n",
       "    <tr>\n",
       "      <th>341479</th>\n",
       "      <td>Goiás</td>\n",
       "      <td>Masculino</td>\n",
       "      <td>34</td>\n",
       "      <td>Branca</td>\n",
       "      <td>Sim</td>\n",
       "      <td>Regular do ensino Médio</td>\n",
       "      <td>Sem declarações</td>\n",
       "      <td>44</td>\n",
       "      <td>15 a 17 anos</td>\n",
       "      <td>Economicamente ativas</td>\n",
       "    </tr>\n",
       "    <tr>\n",
       "      <th>6090</th>\n",
       "      <td>Rondônia</td>\n",
       "      <td>Masculino</td>\n",
       "      <td>47</td>\n",
       "      <td>Pardo</td>\n",
       "      <td>Sim</td>\n",
       "      <td>Regular do ensino Médio</td>\n",
       "      <td>6000</td>\n",
       "      <td>54</td>\n",
       "      <td>10 a 14 anos</td>\n",
       "      <td>Economicamente ativas</td>\n",
       "    </tr>\n",
       "  </tbody>\n",
       "</table>\n",
       "</div>"
      ],
      "text/plain": [
       "                       UF       Sexo  Idade do morador Cor ou raça  \\\n",
       "297              Rondônia  Masculino                10       Pardo   \n",
       "149560              Bahia   Feminino                14       Pardo   \n",
       "22892             Roraima   Feminino                55      Branca   \n",
       "76971               Ceará   Feminino                23       Pardo   \n",
       "46951                Pará  Masculino                74       Pardo   \n",
       "209954     Rio de Janeiro  Masculino                50       Pardo   \n",
       "319333  Rio Grande do Sul   Feminino                76      Branca   \n",
       "112606         Pernambuco   Feminino                62      Branca   \n",
       "84234               Ceará   Feminino                17       Pardo   \n",
       "4637             Rondônia   Feminino                57      Branca   \n",
       "100249             Praíba  Masculino                38       Pardo   \n",
       "316851  Rio Grande do Sul  Masculino                13       Pardo   \n",
       "172950       Minas Gerais   Feminino                 8      Branca   \n",
       "293477  Rio Grande do Sul   Feminino                37      Branca   \n",
       "215122     Rio de Janeiro   Feminino                40       Preta   \n",
       "318414  Rio Grande do Sul   Feminino                46      Branca   \n",
       "314760  Rio Grande do Sul   Feminino                 5      Branca   \n",
       "296841  Rio Grande do Sul   Feminino                52      Branca   \n",
       "30488                Pará   Feminino                40      Branca   \n",
       "160164              Bahia   Feminino                72       Pardo   \n",
       "235159          São Paulo   Feminino                59      Branca   \n",
       "153426              Bahia   Feminino                 5       Preta   \n",
       "315196  Rio Grande do Sul  Masculino                74      Branca   \n",
       "190344       Minas Gerais   Feminino                10       Pardo   \n",
       "43033                Pará   Feminino                58       Pardo   \n",
       "2637             Rondônia  Masculino                33       Preta   \n",
       "80901               Ceará  Masculino                46      Branca   \n",
       "157398              Bahia   Feminino                11       Pardo   \n",
       "341479              Goiás  Masculino                34      Branca   \n",
       "6090             Rondônia  Masculino                47       Pardo   \n",
       "\n",
       "       Sabe ler e escrever      Curso mais elevado que cursou  \\\n",
       "297                    Sim                      Não aplicável   \n",
       "149560                 Sim                      Não aplicável   \n",
       "22892                  Sim               Elementar (Primário)   \n",
       "76971                  Sim            Regular do ensino Médio   \n",
       "46951                  Sim               Elementar (Primário)   \n",
       "209954                 Sim              Superior de graduação   \n",
       "319333                 Não                      Não aplicável   \n",
       "112606                 Sim      Regular do ensino Fundamental   \n",
       "84234                  Sim                      Não aplicável   \n",
       "4637                   Sim          Supletivo do ensino Médio   \n",
       "100249                 Não                      Não aplicável   \n",
       "316851                 Sim                      Não aplicável   \n",
       "172950                 Sim                      Não aplicável   \n",
       "293477                 Sim      Regular do ensino Fundamental   \n",
       "215122                 Sim            Regular do ensino Médio   \n",
       "318414                 Sim               Elementar (Primário)   \n",
       "314760                 Não                      Não aplicável   \n",
       "296841                 Sim    Supletivo do ensino Fundamental   \n",
       "30488                  Sim            Regular do ensino Médio   \n",
       "160164                 Sim    Supletivo do ensino Fundamental   \n",
       "235159                 Sim                     Médio 1˚ ciclo   \n",
       "153426                 Sim                      Não aplicável   \n",
       "315196                 Sim               Elementar (Primário)   \n",
       "190344                 Sim                      Não aplicável   \n",
       "43033                  Não  Alfabetização para jovens adultos   \n",
       "2637                   Sim      Regular do ensino Fundamental   \n",
       "80901                  Sim      Regular do ensino Fundamental   \n",
       "157398                 Sim                      Não aplicável   \n",
       "341479                 Sim            Regular do ensino Médio   \n",
       "6090                   Sim            Regular do ensino Médio   \n",
       "\n",
       "       Rendimento mensal Número de horas trabalhadas por semana no trabalho  \\\n",
       "297        Não aplicável                                      Não aplicável   \n",
       "149560     Não aplicável                                      Não aplicável   \n",
       "22892      Não aplicável                                      Não aplicável   \n",
       "76971      Não aplicável                                      Não aplicável   \n",
       "46951                 90                                                 70   \n",
       "209954              2600                                                 40   \n",
       "319333     Não aplicável                                      Não aplicável   \n",
       "112606     Não aplicável                                      Não aplicável   \n",
       "84234      Não aplicável                                      Não aplicável   \n",
       "4637       Não aplicável                                      Não aplicável   \n",
       "100249     Não aplicável                                      Não aplicável   \n",
       "316851     Não aplicável                                      Não aplicável   \n",
       "172950     Não aplicável                                      Não aplicável   \n",
       "293477              1200                                                 60   \n",
       "215122               545                                                 30   \n",
       "318414     Não aplicável                                                 50   \n",
       "314760     Não aplicável                                      Não aplicável   \n",
       "296841              2000                                                 40   \n",
       "30488      Não aplicável                                      Não aplicável   \n",
       "160164     Não aplicável                                      Não aplicável   \n",
       "235159     Não aplicável                                      Não aplicável   \n",
       "153426     Não aplicável                                      Não aplicável   \n",
       "315196     Não aplicável                                                 48   \n",
       "190344     Não aplicável                                      Não aplicável   \n",
       "43033      Não aplicável                                      Não aplicável   \n",
       "2637                1200                                                 44   \n",
       "80901               1200                                                 40   \n",
       "157398     Não aplicável                                      Não aplicável   \n",
       "341479   Sem declarações                                                 44   \n",
       "6090                6000                                                 54   \n",
       "\n",
       "       Idade com que começou a trabalhar      Condição de atividade  \n",
       "297                        Não aplicável  Não economicamente ativas  \n",
       "149560                     Não aplicável  Não economicamente ativas  \n",
       "22892                       15 a 17 anos  Não economicamente ativas  \n",
       "76971                      Não aplicável      Economicamente ativas  \n",
       "46951                         Até 9 anos      Economicamente ativas  \n",
       "209954                      15 a 17 anos      Economicamente ativas  \n",
       "319333                     Não aplicável  Não economicamente ativas  \n",
       "112606                     Não aplicável  Não economicamente ativas  \n",
       "84234                      Não aplicável  Não economicamente ativas  \n",
       "4637                       Não aplicável  Não economicamente ativas  \n",
       "100249                     Não aplicável  Não economicamente ativas  \n",
       "316851                     Não aplicável  Não economicamente ativas  \n",
       "172950                     Não aplicável              Não aplicável  \n",
       "293477                      15 a 17 anos      Economicamente ativas  \n",
       "215122                      10 a 14 anos      Economicamente ativas  \n",
       "318414                      10 a 14 anos      Economicamente ativas  \n",
       "314760                     Não aplicável              Não aplicável  \n",
       "296841                      18 a 19 anos      Economicamente ativas  \n",
       "30488                      Não aplicável  Não economicamente ativas  \n",
       "160164                     Não aplicável  Não economicamente ativas  \n",
       "235159                     Não aplicável  Não economicamente ativas  \n",
       "153426                     Não aplicável              Não aplicável  \n",
       "315196                        Até 9 anos      Economicamente ativas  \n",
       "190344                     Não aplicável  Não economicamente ativas  \n",
       "43033                      Não aplicável  Não economicamente ativas  \n",
       "2637                        10 a 14 anos      Economicamente ativas  \n",
       "80901                       18 a 19 anos      Economicamente ativas  \n",
       "157398                     Não aplicável  Não economicamente ativas  \n",
       "341479                      15 a 17 anos      Economicamente ativas  \n",
       "6090                        10 a 14 anos      Economicamente ativas  "
      ]
     },
     "execution_count": 42,
     "metadata": {},
     "output_type": "execute_result"
    }
   ],
   "source": [
    "#Tabela do dataset(2011) pós-formatação:\n",
    "df_2011.sample(30)"
   ]
  },
  {
   "cell_type": "markdown",
   "metadata": {},
   "source": [
    "...\n",
    "### Vamos selecionar as váriaveis pertinentes para 2015:"
   ]
  },
  {
   "cell_type": "code",
   "execution_count": 43,
   "metadata": {},
   "outputs": [],
   "source": [
    "#Vamos criar um dataframe com as váriaveis selecionadas:\n",
    "df = [\"UF\",\"V0302\",\"V8005\",\"V0404\",\"V0601\",\"V6007\",\"V9058\",\"V9891\",\"V4704\"]"
   ]
  },
  {
   "cell_type": "code",
   "execution_count": 44,
   "metadata": {},
   "outputs": [],
   "source": [
    "#Renomeando as colunas do dataframe:\n",
    "df_2015 = All_data_2015[df]\n",
    "df_2015.columns = [\"UF\", \"Sexo\", \"Idade do morador\", \"Cor ou raça\", \"Sabe ler e escrever\", \"Curso mais elevado que cursou\",\n",
    "        \"Número de horas trabalhadas por semana no trabalho\", \"Idade com que começou a trabalhar\", \"Condição de atividade\"]"
   ]
  },
  {
   "cell_type": "markdown",
   "metadata": {},
   "source": [
    "...\n",
    "#### Atribuindo as características das váriaveis:"
   ]
  },
  {
   "cell_type": "code",
   "execution_count": 45,
   "metadata": {},
   "outputs": [],
   "source": [
    "#-UF:\n",
    "df_2015.loc[(df_2015[\"UF\"] == 11),\"UF\"] = \"Rondônia\"\n",
    "df_2015.loc[(df_2015[\"UF\"] == 12),\"UF\"] = \"Acre\"\n",
    "df_2015.loc[(df_2015[\"UF\"] == 13),\"UF\"] = \"Amazonas\"\n",
    "df_2015.loc[(df_2015[\"UF\"] == 14),\"UF\"] = \"Roraima\"\n",
    "df_2015.loc[(df_2015[\"UF\"] == 15),\"UF\"] = \"Pará\"\n",
    "df_2015.loc[(df_2015[\"UF\"] == 16),\"UF\"] = \"Amapá\"\n",
    "df_2015.loc[(df_2015[\"UF\"] == 17),\"UF\"] = \"Tocantins\"\n",
    "df_2015.loc[(df_2015[\"UF\"] == 21),\"UF\"] = \"Maranhão\"\n",
    "df_2015.loc[(df_2015[\"UF\"] == 22),\"UF\"] = \"Piauí\"\n",
    "df_2015.loc[(df_2015[\"UF\"] == 23),\"UF\"] = \"Ceará\"\n",
    "df_2015.loc[(df_2015[\"UF\"] == 24),\"UF\"] = \"Rio Grande do Norte\"\n",
    "df_2015.loc[(df_2015[\"UF\"] == 25),\"UF\"] = \"Praíba\"\n",
    "df_2015.loc[(df_2015[\"UF\"] == 26),\"UF\"] = \"Pernambuco\"\n",
    "df_2015.loc[(df_2015[\"UF\"] == 27),\"UF\"] = \"Alagoas\"\n",
    "df_2015.loc[(df_2015[\"UF\"] == 28),\"UF\"] = \"Sergipe\"\n",
    "df_2015.loc[(df_2015[\"UF\"] == 29),\"UF\"] = \"Bahia\"\n",
    "df_2015.loc[(df_2015[\"UF\"] == 31),\"UF\"] = \"Minas Gerais\"\n",
    "df_2015.loc[(df_2015[\"UF\"] == 32),\"UF\"] = \"Espirito Santo\"\n",
    "df_2015.loc[(df_2015[\"UF\"] == 33),\"UF\"] = \"Rio de Janeiro\"\n",
    "df_2015.loc[(df_2015[\"UF\"] == 35),\"UF\"] = \"São Paulo\"\n",
    "df_2015.loc[(df_2015[\"UF\"] == 41),\"UF\"] = \"Paraná\"\n",
    "df_2015.loc[(df_2015[\"UF\"] == 42),\"UF\"] = \"Santa Catarina\"\n",
    "df_2015.loc[(df_2015[\"UF\"] == 43),\"UF\"] = \"Rio Grande do Sul\"\n",
    "df_2015.loc[(df_2015[\"UF\"] == 50),\"UF\"] = \"Mato Grosso do Sul\"\n",
    "df_2015.loc[(df_2015[\"UF\"] == 51),\"UF\"] = \"Mato Grosso\"\n",
    "df_2015.loc[(df_2015[\"UF\"] == 52),\"UF\"] = \"Goiás\"\n",
    "df_2015.loc[(df_2015[\"UF\"] == 53),\"UF\"] = \"Distrito Federal\""
   ]
  },
  {
   "cell_type": "code",
   "execution_count": 46,
   "metadata": {},
   "outputs": [],
   "source": [
    "#-Sexo:\n",
    "df_2015.loc[(df_2015.Sexo == 2),\"Sexo\"] = \"Masculino\"\n",
    "df_2015.loc[(df_2015.Sexo == 4),\"Sexo\"] = \"Feminino\""
   ]
  },
  {
   "cell_type": "code",
   "execution_count": 47,
   "metadata": {},
   "outputs": [],
   "source": [
    "#-Cor ou raça:\n",
    "df_2015.loc[(df_2015[\"Cor ou raça\"] == 2),\"Cor ou raça\"] = \"Branca\"\n",
    "df_2015.loc[(df_2015[\"Cor ou raça\"] == 4),\"Cor ou raça\"] = \"Preta\"\n",
    "df_2015.loc[(df_2015[\"Cor ou raça\"] == 6),\"Cor ou raça\"] = \"Amarela\"\n",
    "df_2015.loc[(df_2015[\"Cor ou raça\"] == 8),\"Cor ou raça\"] = \"Pardo\"\n",
    "df_2015.loc[(df_2015[\"Cor ou raça\"] == 0),\"Cor ou raça\"] = \"Indigena\"\n",
    "df_2015.loc[(df_2015[\"Cor ou raça\"] == 9),\"Cor ou raça\"] = \"Sem declaração\""
   ]
  },
  {
   "cell_type": "code",
   "execution_count": 48,
   "metadata": {},
   "outputs": [],
   "source": [
    "#-Sabe ler e escrever:\n",
    "df_2015.loc[(df_2015[\"Sabe ler e escrever\"] == 1),\"Sabe ler e escrever\"] = \"Sim\"\n",
    "df_2015.loc[(df_2015[\"Sabe ler e escrever\"] == 3),\"Sabe ler e escrever\"] = \"Não\""
   ]
  },
  {
   "cell_type": "code",
   "execution_count": 49,
   "metadata": {},
   "outputs": [],
   "source": [
    "#-Curso mais elevado que cursou:\n",
    "df_2015.loc[(df_2015[\"Curso mais elevado que cursou\"] == 1),\"Curso mais elevado que cursou\"] = \"Elementar (Primário)\"\n",
    "df_2015.loc[(df_2015[\"Curso mais elevado que cursou\"] == 2),\"Curso mais elevado que cursou\"] = \"Médio 1˚ ciclo\"\n",
    "df_2015.loc[(df_2015[\"Curso mais elevado que cursou\"] == 3),\"Curso mais elevado que cursou\"] = \"Médio 2˚ ciclo\"\n",
    "df_2015.loc[(df_2015[\"Curso mais elevado que cursou\"] == 4),\"Curso mais elevado que cursou\"] = \"Regular do ensino Fundamental\"\n",
    "df_2015.loc[(df_2015[\"Curso mais elevado que cursou\"] == 5),\"Curso mais elevado que cursou\"] = \"Regular do ensino Médio\"\n",
    "df_2015.loc[(df_2015[\"Curso mais elevado que cursou\"] == 6),\"Curso mais elevado que cursou\"] = \"Supletivo do ensino Fundamental\"\n",
    "df_2015.loc[(df_2015[\"Curso mais elevado que cursou\"] == 7),\"Curso mais elevado que cursou\"] = \"Supletivo do ensino Médio\"\n",
    "df_2015.loc[(df_2015[\"Curso mais elevado que cursou\"] == 8),\"Curso mais elevado que cursou\"] = \"Superior de graduação\"\n",
    "df_2015.loc[(df_2015[\"Curso mais elevado que cursou\"] == 9),\"Curso mais elevado que cursou\"] = \"Mestrado ou doutorado\"\n",
    "df_2015.loc[(df_2015[\"Curso mais elevado que cursou\"] == 10),\"Curso mais elevado que cursou\"] = \"Alfabetização para jovens adultos\"\n",
    "df_2015.loc[(df_2015[\"Curso mais elevado que cursou\"] == 11),\"Curso mais elevado que cursou\"] = \"Creche\"\n",
    "df_2015.loc[(df_2015[\"Curso mais elevado que cursou\"] == 12),\"Curso mais elevado que cursou\"] = \"Classe de alfabetização - CA\"\n",
    "df_2015.loc[(df_2015[\"Curso mais elevado que cursou\"] == 13),\"Curso mais elevado que cursou\"] = \"Jardim da infância\"\n",
    "df_2015.loc[(df_2015[\"Curso mais elevado que cursou\"].isnull() == True),\"Curso mais elevado que cursou\"] = \"Não aplicável\""
   ]
  },
  {
   "cell_type": "code",
   "execution_count": 50,
   "metadata": {},
   "outputs": [],
   "source": [
    "#-Número de horas trabalhadas por semana no trabalho principal:\n",
    "df_2015.loc[(df_2015[\"Número de horas trabalhadas por semana no trabalho\"].isnull() == True),\"Número de horas trabalhadas por semana no trabalho\"] = \"Não aplicável\""
   ]
  },
  {
   "cell_type": "code",
   "execution_count": 51,
   "metadata": {},
   "outputs": [],
   "source": [
    "#-Idade com que começou a trabalhar:\n",
    "df_2015.loc[(df_2015[\"Idade com que começou a trabalhar\"] == 1),\"Idade com que começou a trabalhar\"] = \"Até 9 anos\"\n",
    "df_2015.loc[(df_2015[\"Idade com que começou a trabalhar\"] == 2),\"Idade com que começou a trabalhar\"] = \"10 a 14 anos\"\n",
    "df_2015.loc[(df_2015[\"Idade com que começou a trabalhar\"] == 3),\"Idade com que começou a trabalhar\"] = \"15 a 17 anos\"\n",
    "df_2015.loc[(df_2015[\"Idade com que começou a trabalhar\"] == 4),\"Idade com que começou a trabalhar\"] = \"18 a 19 anos\"\n",
    "df_2015.loc[(df_2015[\"Idade com que começou a trabalhar\"] == 5),\"Idade com que começou a trabalhar\"] = \"20 a 24 anos\"\n",
    "df_2015.loc[(df_2015[\"Idade com que começou a trabalhar\"] == 6),\"Idade com que começou a trabalhar\"] = \"25 a 29 anos\"\n",
    "df_2015.loc[(df_2015[\"Idade com que começou a trabalhar\"] == 7),\"Idade com que começou a trabalhar\"] = \"30 anos ou  mais\"\n",
    "df_2015.loc[(df_2015[\"Idade com que começou a trabalhar\"].isnull() == True),\"Idade com que começou a trabalhar\"] = \"Não aplicável\""
   ]
  },
  {
   "cell_type": "code",
   "execution_count": 52,
   "metadata": {},
   "outputs": [],
   "source": [
    "#-Condição de atividade:\n",
    "df_2015.loc[(df_2015[\"Condição de atividade\"] == 1),\"Condição de atividade\"] = \"Economicamente ativas\"\n",
    "df_2015.loc[(df_2015[\"Condição de atividade\"] == 2),\"Condição de atividade\"] = \"Não economicamente ativas\"\n",
    "df_2015.loc[(df_2015[\"Condição de atividade\"].isnull() == True),\"Condição de atividade\"] = \"Não aplicável\""
   ]
  },
  {
   "cell_type": "code",
   "execution_count": 53,
   "metadata": {},
   "outputs": [
    {
     "data": {
      "text/html": [
       "<div>\n",
       "<style scoped>\n",
       "    .dataframe tbody tr th:only-of-type {\n",
       "        vertical-align: middle;\n",
       "    }\n",
       "\n",
       "    .dataframe tbody tr th {\n",
       "        vertical-align: top;\n",
       "    }\n",
       "\n",
       "    .dataframe thead th {\n",
       "        text-align: right;\n",
       "    }\n",
       "</style>\n",
       "<table border=\"1\" class=\"dataframe\">\n",
       "  <thead>\n",
       "    <tr style=\"text-align: right;\">\n",
       "      <th></th>\n",
       "      <th>UF</th>\n",
       "      <th>Sexo</th>\n",
       "      <th>Idade do morador</th>\n",
       "      <th>Cor ou raça</th>\n",
       "      <th>Sabe ler e escrever</th>\n",
       "      <th>Curso mais elevado que cursou</th>\n",
       "      <th>Número de horas trabalhadas por semana no trabalho</th>\n",
       "      <th>Idade com que começou a trabalhar</th>\n",
       "      <th>Condição de atividade</th>\n",
       "    </tr>\n",
       "  </thead>\n",
       "  <tbody>\n",
       "    <tr>\n",
       "      <th>77201</th>\n",
       "      <td>Ceará</td>\n",
       "      <td>Feminino</td>\n",
       "      <td>37</td>\n",
       "      <td>Pardo</td>\n",
       "      <td>Sim</td>\n",
       "      <td>Superior de graduação</td>\n",
       "      <td>40</td>\n",
       "      <td>20 a 24 anos</td>\n",
       "      <td>Economicamente ativas</td>\n",
       "    </tr>\n",
       "    <tr>\n",
       "      <th>120426</th>\n",
       "      <td>Pernambuco</td>\n",
       "      <td>Masculino</td>\n",
       "      <td>40</td>\n",
       "      <td>Pardo</td>\n",
       "      <td>Sim</td>\n",
       "      <td>Regular do ensino Fundamental</td>\n",
       "      <td>40</td>\n",
       "      <td>25 a 29 anos</td>\n",
       "      <td>Economicamente ativas</td>\n",
       "    </tr>\n",
       "  </tbody>\n",
       "</table>\n",
       "</div>"
      ],
      "text/plain": [
       "                UF       Sexo  Idade do morador Cor ou raça  \\\n",
       "77201        Ceará   Feminino                37       Pardo   \n",
       "120426  Pernambuco  Masculino                40       Pardo   \n",
       "\n",
       "       Sabe ler e escrever  Curso mais elevado que cursou  \\\n",
       "77201                  Sim          Superior de graduação   \n",
       "120426                 Sim  Regular do ensino Fundamental   \n",
       "\n",
       "       Número de horas trabalhadas por semana no trabalho  \\\n",
       "77201                                                  40   \n",
       "120426                                                 40   \n",
       "\n",
       "       Idade com que começou a trabalhar  Condição de atividade  \n",
       "77201                       20 a 24 anos  Economicamente ativas  \n",
       "120426                      25 a 29 anos  Economicamente ativas  "
      ]
     },
     "execution_count": 53,
     "metadata": {},
     "output_type": "execute_result"
    }
   ],
   "source": [
    "#Tabela do dataset(2015) pós-formatação:\n",
    "df_2015.sample(2)"
   ]
  },
  {
   "cell_type": "markdown",
   "metadata": {},
   "source": [
    "___\n",
    "## Análise e Resultados"
   ]
  },
  {
   "cell_type": "markdown",
   "metadata": {},
   "source": [
    "Vamos descobrir um pouco mais sobre os dados coletados pela pesquisa."
   ]
  },
  {
   "cell_type": "markdown",
   "metadata": {},
   "source": [
    "### O sexo da pessoa influência sua condição econômica?"
   ]
  },
  {
   "cell_type": "code",
   "execution_count": 54,
   "metadata": {},
   "outputs": [
    {
     "data": {
      "text/plain": [
       "Feminino     51.5\n",
       "Masculino    48.5\n",
       "Name: Sexo, dtype: float64"
      ]
     },
     "execution_count": 54,
     "metadata": {},
     "output_type": "execute_result"
    }
   ],
   "source": [
    "#Vamos descobrir quantos por cento do dataframe é composto por cada sexo:\n",
    "o_sexo = (df_2015[\"Sexo\"].value_counts(normalize='index')*100).round(decimals=1)\n",
    "o_sexo"
   ]
  },
  {
   "cell_type": "markdown",
   "metadata": {},
   "source": [
    "**Desses, quantos será que sabem ler e escrever?**"
   ]
  },
  {
   "cell_type": "code",
   "execution_count": 55,
   "metadata": {},
   "outputs": [
    {
     "data": {
      "text/html": [
       "<div>\n",
       "<style scoped>\n",
       "    .dataframe tbody tr th:only-of-type {\n",
       "        vertical-align: middle;\n",
       "    }\n",
       "\n",
       "    .dataframe tbody tr th {\n",
       "        vertical-align: top;\n",
       "    }\n",
       "\n",
       "    .dataframe thead th {\n",
       "        text-align: right;\n",
       "    }\n",
       "</style>\n",
       "<table border=\"1\" class=\"dataframe\">\n",
       "  <thead>\n",
       "    <tr style=\"text-align: right;\">\n",
       "      <th>SEXO</th>\n",
       "      <th>Feminino</th>\n",
       "      <th>Masculino</th>\n",
       "    </tr>\n",
       "    <tr>\n",
       "      <th>SABE LER E ESCREVER</th>\n",
       "      <th></th>\n",
       "      <th></th>\n",
       "    </tr>\n",
       "  </thead>\n",
       "  <tbody>\n",
       "    <tr>\n",
       "      <th>Não</th>\n",
       "      <td>49.0</td>\n",
       "      <td>51.0</td>\n",
       "    </tr>\n",
       "    <tr>\n",
       "      <th>Sim</th>\n",
       "      <td>52.0</td>\n",
       "      <td>48.0</td>\n",
       "    </tr>\n",
       "    <tr>\n",
       "      <th>All</th>\n",
       "      <td>51.0</td>\n",
       "      <td>49.0</td>\n",
       "    </tr>\n",
       "  </tbody>\n",
       "</table>\n",
       "</div>"
      ],
      "text/plain": [
       "SEXO                 Feminino  Masculino\n",
       "SABE LER E ESCREVER                     \n",
       "Não                      49.0       51.0\n",
       "Sim                      52.0       48.0\n",
       "All                      51.0       49.0"
      ]
     },
     "execution_count": 55,
     "metadata": {},
     "output_type": "execute_result"
    }
   ],
   "source": [
    "#Criando uma tabela cruzada em porcentagem:\n",
    "sexo_e_ler = (pd.crosstab(df_2015[\"Sabe ler e escrever\"], df_2015.Sexo, margins=True, rownames=['SABE LER E ESCREVER'], colnames=['SEXO'], normalize='index')*100).round(decimals=0)\n",
    "sexo_e_ler"
   ]
  },
  {
   "cell_type": "markdown",
   "metadata": {},
   "source": [
    "Agora considerando somente as pessoas que completaram o ensino médio ou superior, será que tem uma qunatidade maior de homens do que de mulheres com essas etapas concluidas?"
   ]
  },
  {
   "cell_type": "code",
   "execution_count": 56,
   "metadata": {},
   "outputs": [
    {
     "data": {
      "text/html": [
       "<div>\n",
       "<style scoped>\n",
       "    .dataframe tbody tr th:only-of-type {\n",
       "        vertical-align: middle;\n",
       "    }\n",
       "\n",
       "    .dataframe tbody tr th {\n",
       "        vertical-align: top;\n",
       "    }\n",
       "\n",
       "    .dataframe thead th {\n",
       "        text-align: right;\n",
       "    }\n",
       "</style>\n",
       "<table border=\"1\" class=\"dataframe\">\n",
       "  <thead>\n",
       "    <tr style=\"text-align: right;\">\n",
       "      <th>SEXO</th>\n",
       "      <th>Feminino</th>\n",
       "      <th>Masculino</th>\n",
       "    </tr>\n",
       "    <tr>\n",
       "      <th>NÍVEL DE GRADUAÇÃO</th>\n",
       "      <th></th>\n",
       "      <th></th>\n",
       "    </tr>\n",
       "  </thead>\n",
       "  <tbody>\n",
       "    <tr>\n",
       "      <th>Regular do ensino Médio</th>\n",
       "      <td>53.0</td>\n",
       "      <td>47.0</td>\n",
       "    </tr>\n",
       "    <tr>\n",
       "      <th>Superior de graduação</th>\n",
       "      <td>58.0</td>\n",
       "      <td>42.0</td>\n",
       "    </tr>\n",
       "    <tr>\n",
       "      <th>All</th>\n",
       "      <td>54.0</td>\n",
       "      <td>46.0</td>\n",
       "    </tr>\n",
       "  </tbody>\n",
       "</table>\n",
       "</div>"
      ],
      "text/plain": [
       "SEXO                     Feminino  Masculino\n",
       "NÍVEL DE GRADUAÇÃO                          \n",
       "Regular do ensino Médio      53.0       47.0\n",
       "Superior de graduação        58.0       42.0\n",
       "All                          54.0       46.0"
      ]
     },
     "execution_count": 56,
     "metadata": {},
     "output_type": "execute_result"
    }
   ],
   "source": [
    "#Vamos separar as duas etapas para serem analisadas:\n",
    "Etapas = df_2015[\"Curso mais elevado que cursou\"].loc[(df_2015[\"Curso mais elevado que cursou\"] == \"Regular do ensino Médio\")|(df_2015[\"Curso mais elevado que cursou\"] == \"Superior de graduação\")]\n",
    "#Criando uma tabela cruzada em porcentagem:\n",
    "sexo_etapas = (pd.crosstab(Etapas, df_2015.Sexo,margins=True, rownames=['NÍVEL DE GRADUAÇÃO'], colnames=['SEXO'], normalize='index')*100).round(decimals=0)\n",
    "sexo_etapas"
   ]
  },
  {
   "cell_type": "markdown",
   "metadata": {},
   "source": [
    "...\n",
    "\n",
    "**Sabendo que ambos sexos tem praticamente a mesma taxa pessoas que sabem ler e escrever, será que essa proporcionalidade tambem se mantem para sua condição de atividade?**"
   ]
  },
  {
   "cell_type": "code",
   "execution_count": 57,
   "metadata": {},
   "outputs": [
    {
     "data": {
      "text/html": [
       "<div>\n",
       "<style scoped>\n",
       "    .dataframe tbody tr th:only-of-type {\n",
       "        vertical-align: middle;\n",
       "    }\n",
       "\n",
       "    .dataframe tbody tr th {\n",
       "        vertical-align: top;\n",
       "    }\n",
       "\n",
       "    .dataframe thead th {\n",
       "        text-align: right;\n",
       "    }\n",
       "</style>\n",
       "<table border=\"1\" class=\"dataframe\">\n",
       "  <thead>\n",
       "    <tr style=\"text-align: right;\">\n",
       "      <th>Sexo</th>\n",
       "      <th>Feminino</th>\n",
       "      <th>Masculino</th>\n",
       "    </tr>\n",
       "    <tr>\n",
       "      <th>Condição de atividade</th>\n",
       "      <th></th>\n",
       "      <th></th>\n",
       "    </tr>\n",
       "  </thead>\n",
       "  <tbody>\n",
       "    <tr>\n",
       "      <th>Economicamente ativas</th>\n",
       "      <td>80062</td>\n",
       "      <td>103027</td>\n",
       "    </tr>\n",
       "    <tr>\n",
       "      <th>Não aplicável</th>\n",
       "      <td>23501</td>\n",
       "      <td>24804</td>\n",
       "    </tr>\n",
       "    <tr>\n",
       "      <th>Não economicamente ativas</th>\n",
       "      <td>80118</td>\n",
       "      <td>45392</td>\n",
       "    </tr>\n",
       "  </tbody>\n",
       "</table>\n",
       "</div>"
      ],
      "text/plain": [
       "Sexo                       Feminino  Masculino\n",
       "Condição de atividade                         \n",
       "Economicamente ativas         80062     103027\n",
       "Não aplicável                 23501      24804\n",
       "Não economicamente ativas     80118      45392"
      ]
     },
     "execution_count": 57,
     "metadata": {},
     "output_type": "execute_result"
    }
   ],
   "source": [
    "#Criando uma tabela cruzada em porcentagem:\n",
    "sexo_condicao = (pd.crosstab(df_2015[\"Condição de atividade\"], df_2015.Sexo))\n",
    "sexo_condicao"
   ]
  },
  {
   "cell_type": "markdown",
   "metadata": {},
   "source": [
    "Analisando a frequência dos mesmos dados:"
   ]
  },
  {
   "cell_type": "code",
   "execution_count": 58,
   "metadata": {},
   "outputs": [],
   "source": [
    "#Suprimindo o aviso de depreciação:\n",
    "warnings.filterwarnings(\"ignore\",category=matplotlib.cbook.mplDeprecation)"
   ]
  },
  {
   "cell_type": "code",
   "execution_count": 59,
   "metadata": {},
   "outputs": [
    {
     "data": {
      "image/png": "[encoded data removed]",
      "text/plain": [
       "<Figure size 576x432 with 1 Axes>"
      ]
     },
     "metadata": {},
     "output_type": "display_data"
    }
   ],
   "source": [
    "sexo_condicao2 = (pd.crosstab(df_2015.Sexo, df_2015[\"Condição de atividade\"]))\n",
    "\n",
    "#Criando uma tabela com os dados da condição econômica e os sexos:\n",
    "plot = sexo_condicao2.plot(kind='bar',figsize=(8, 6))\n",
    "ax = plt.subplot(111)\n",
    "plt.title(\"\\nQuantidade de homens e mulheres econômicamente ativos\")\n",
    "ax.legend(loc='center left', bbox_to_anchor=(1,0.5))\n",
    "plt.ylabel('Frequência')\n",
    "plt.xlabel('')\n",
    "plt.show()"
   ]
  },
  {
   "cell_type": "markdown",
   "metadata": {},
   "source": [
    "\n",
    "\n",
    "### A idade influência a condição econômica da pessoa?"
   ]
  },
  {
   "cell_type": "markdown",
   "metadata": {},
   "source": [
    "Primeiro vamos analisar as faixas de idade que as pessoas começaram a trabalhar:"
   ]
  },
  {
   "cell_type": "code",
   "execution_count": 60,
   "metadata": {},
   "outputs": [
    {
     "data": {
      "image/png": "[encoded data removed]",
      "text/plain": [
       "<Figure size 576x432 with 1 Axes>"
      ]
     },
     "metadata": {},
     "output_type": "display_data"
    }
   ],
   "source": [
    "#Criando um gráfico com as faixas de idades que as pessoas começaram a trabalhar:\n",
    "df_2015[\"Idade com que começou a trabalhar\"].loc[df_2015[\"Idade com que começou a trabalhar\"]!=\"Não aplicável\"].value_counts().plot(\"bar\", figsize=(8,6));\n",
    "plt.title(\"Idade com que os moradores começaram a trabalhar\")\n",
    "plt.show()"
   ]
  },
  {
   "cell_type": "code",
   "execution_count": 79,
   "metadata": {},
   "outputs": [
    {
     "data": {
      "image/png": "[encoded data removed]",
      "text/plain": [
       "<Figure size 576x432 with 1 Axes>"
      ]
     },
     "metadata": {},
     "output_type": "display_data"
    }
   ],
   "source": [
    "idade_condicao = (pd.crosstab(df_2015[\"UF\"], df_2015[\"Condição de atividade\"]))\n",
    "plot = idade_condicao.tail(5).plot(kind=\"bar\", figsize=(8,6))\n",
    "ax = plt.subplot(111)\n",
    "plt.title(\"\\nEsatdos com maior \\nquantidade de brasileiros econômicamente ativos\")\n",
    "ax.legend(loc='center left', bbox_to_anchor=(1,0.5))\n",
    "plt.ylabel('Frequência')\n",
    "plt.xlabel('')\n",
    "plt.show()"
   ]
  },
  {
   "cell_type": "code",
   "execution_count": 62,
   "metadata": {},
   "outputs": [
    {
     "data": {
      "image/png": "[encoded data removed]",
      "text/plain": [
       "<Figure size 504x360 with 1 Axes>"
      ]
     },
     "metadata": {},
     "output_type": "display_data"
    }
   ],
   "source": [
    "#\n",
    "df_2015[\"Idade do morador\"].plot.hist(bins=30, density = False, color=\"firebrick\", figsize=(7, 5));\n",
    "plt.title(\"Frequência das idades dos moradores\")\n",
    "plt.xlabel(\"Idade\")\n",
    "plt.ylabel(\"frequência\")\n",
    "plt.show()"
   ]
  },
  {
   "cell_type": "code",
   "execution_count": 63,
   "metadata": {},
   "outputs": [
    {
     "data": {
      "image/png": "[encoded data removed]",
      "text/plain": [
       "<Figure size 576x720 with 1 Axes>"
      ]
     },
     "metadata": {},
     "output_type": "display_data"
    }
   ],
   "source": [
    "df_2015[\"Idade do morador\"].plot(\"box\", figsize=(8,10));\n",
    "plt.title(\"Idade dos moradores\")\n",
    "plt.show()"
   ]
  },
  {
   "cell_type": "code",
   "execution_count": 64,
   "metadata": {},
   "outputs": [
    {
     "data": {
      "image/png": "[encoded data removed]",
      "text/plain": [
       "<Figure size 576x432 with 1 Axes>"
      ]
     },
     "metadata": {},
     "output_type": "display_data"
    }
   ],
   "source": [
    "df_2015[\"Cor ou raça\"].value_counts().plot(\"bar\", figsize=(8,6));\n",
    "plt.title(\"Cores e raças\")\n",
    "plt.show()"
   ]
  },
  {
   "cell_type": "code",
   "execution_count": null,
   "metadata": {},
   "outputs": [],
   "source": []
  },
  {
   "cell_type": "markdown",
   "metadata": {},
   "source": [
    "___\n",
    "## Conclusão "
   ]
  },
  {
   "cell_type": "markdown",
   "metadata": {
    "collapsed": true
   },
   "source": [
    "Descreva aqui suas conclusões!"
   ]
  },
  {
   "cell_type": "code",
   "execution_count": null,
   "metadata": {},
   "outputs": [],
   "source": [
    "df_2015[\"Número de horas trabalhadas por semana no trabalho\"].loc[df_2015[\"Número de horas trabalhadas por semana no trabalho\"]!=\"Não aplicável\"].plot(\"box\", figsize=(8,10));\n",
    "plt.title(\"Número de horas trabalhadas por semana no trabalho\")\n",
    "plt.show()"
   ]
  },
  {
   "cell_type": "code",
   "execution_count": null,
   "metadata": {},
   "outputs": [],
   "source": []
  }
 ],
 "metadata": {
  "anaconda-cloud": {},
  "kernelspec": {
   "display_name": "Python 3",
   "language": "python",
   "name": "python3"
  },
  "language_info": {
   "codemirror_mode": {
    "name": "ipython",
    "version": 3
   },
   "file_extension": ".py",
   "mimetype": "text/x-python",
   "name": "python",
   "nbconvert_exporter": "python",
   "pygments_lexer": "ipython3",
   "version": "3.7.1"
  }
 },
 "nbformat": 4,
 "nbformat_minor": 1
}
