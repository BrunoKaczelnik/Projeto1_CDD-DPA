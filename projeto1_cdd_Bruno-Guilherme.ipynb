{
 "cells": [
  {
   "cell_type": "markdown",
   "metadata": {},
   "source": [
    "___\n",
    "# Ciência dos Dados - PROJETO 1"
   ]
  },
  {
   "cell_type": "markdown",
   "metadata": {},
   "source": [
    "\n",
    "### <font color=Grey>Guilherme Lotaif e Bruno Kaczelnik</font>\n",
    "___"
   ]
  },
  {
   "cell_type": "markdown",
   "metadata": {},
   "source": [
    "## Estudo dos brasileiros mais economicamente ativos"
   ]
  },
  {
   "cell_type": "markdown",
   "metadata": {},
   "source": [
    "___\n",
    "## Introdução\n",
    "\n",
    "Neste projeto nós vamos analisar os dados da PNAD (Pesquisa Nacional por Amostra de Domicílios), que investiga anualmente as características da população. Este levantamento é um importante instrumento para o estudo socioeconômico do Brasil. \n",
    "\n",
    "A partir dos dados de 2011 e 2015 vamos fazer um estudo para identificar dentro do perfil dos `brasileiros economicamente ativos`, quais são os grupos sociais com **maior número de pessoas ativas**.\n"
   ]
  },
  {
   "cell_type": "markdown",
   "metadata": {},
   "source": [
    "___\n",
    "## Filtros da base de dados"
   ]
  },
  {
   "cell_type": "code",
   "execution_count": 1,
   "metadata": {},
   "outputs": [],
   "source": [
    "%matplotlib inline\n",
    "import pandas as pd\n",
    "import matplotlib.pyplot as plt\n",
    "import numpy as np\n",
    "import os\n",
    "import seaborn as sns\n",
    "import warnings\n",
    "import matplotlib.cbook\n",
    "plt.style.use('ggplot')"
   ]
  },
  {
   "cell_type": "code",
   "execution_count": 2,
   "metadata": {},
   "outputs": [
    {
     "name": "stdout",
     "output_type": "stream",
     "text": [
      "Esperamos trabalhar no diretório\n",
      "C:\\Users\\PCDELL\\Desktop\\insper\\CDD\\projeto1\n"
     ]
    }
   ],
   "source": [
    "print('Esperamos trabalhar no diretório')\n",
    "print(os.getcwd())"
   ]
  },
  {
   "cell_type": "markdown",
   "metadata": {},
   "source": [
    "...\n",
    "### Vamos abrir os arquivos:\n",
    "\n",
    "Os arquivos que serão usados nesse projeto são 2 arquivos csv, com todas informações coletadas pela PNAD, esses dados precisarão ser formatados visando fazer a análise dos mesmos."
   ]
  },
  {
   "cell_type": "code",
   "execution_count": 3,
   "metadata": {},
   "outputs": [],
   "source": [
    "#Abrindo o arquivo com os dados de 2011:\n",
    "All_data_2011 = pd.read_csv('PES2011.csv',sep=',')"
   ]
  },
  {
   "cell_type": "code",
   "execution_count": 4,
   "metadata": {},
   "outputs": [
    {
     "data": {
      "text/plain": [
       "float64    294\n",
       "int64       30\n",
       "dtype: int64"
      ]
     },
     "execution_count": 4,
     "metadata": {},
     "output_type": "execute_result"
    }
   ],
   "source": [
    "#Analisando os tipos de informações no arquivo:\n",
    "All_data_2011.get_dtype_counts()"
   ]
  },
  {
   "cell_type": "code",
   "execution_count": 5,
   "metadata": {},
   "outputs": [
    {
     "data": {
      "text/html": [
       "<div>\n",
       "<style scoped>\n",
       "    .dataframe tbody tr th:only-of-type {\n",
       "        vertical-align: middle;\n",
       "    }\n",
       "\n",
       "    .dataframe tbody tr th {\n",
       "        vertical-align: top;\n",
       "    }\n",
       "\n",
       "    .dataframe thead th {\n",
       "        text-align: right;\n",
       "    }\n",
       "</style>\n",
       "<table border=\"1\" class=\"dataframe\">\n",
       "  <thead>\n",
       "    <tr style=\"text-align: right;\">\n",
       "      <th></th>\n",
       "      <th>V0101</th>\n",
       "      <th>UF</th>\n",
       "      <th>V0102</th>\n",
       "      <th>V0103</th>\n",
       "      <th>V0301</th>\n",
       "      <th>V0302</th>\n",
       "      <th>V3031</th>\n",
       "      <th>V3032</th>\n",
       "      <th>V3033</th>\n",
       "      <th>V8005</th>\n",
       "      <th>...</th>\n",
       "      <th>V4741</th>\n",
       "      <th>V4742</th>\n",
       "      <th>V4743</th>\n",
       "      <th>V4745</th>\n",
       "      <th>V4746</th>\n",
       "      <th>V4747</th>\n",
       "      <th>V4748</th>\n",
       "      <th>V4749</th>\n",
       "      <th>V4750</th>\n",
       "      <th>V9993</th>\n",
       "    </tr>\n",
       "  </thead>\n",
       "  <tbody>\n",
       "    <tr>\n",
       "      <th>349585</th>\n",
       "      <td>2011</td>\n",
       "      <td>52</td>\n",
       "      <td>52000000.0</td>\n",
       "      <td>4</td>\n",
       "      <td>2</td>\n",
       "      <td>4</td>\n",
       "      <td>8</td>\n",
       "      <td>9</td>\n",
       "      <td>1947</td>\n",
       "      <td>64</td>\n",
       "      <td>...</td>\n",
       "      <td>4.0</td>\n",
       "      <td>436.0</td>\n",
       "      <td>3.0</td>\n",
       "      <td>2</td>\n",
       "      <td>2.0</td>\n",
       "      <td>NaN</td>\n",
       "      <td>NaN</td>\n",
       "      <td>2.0</td>\n",
       "      <td>600.0</td>\n",
       "      <td>20100000.0</td>\n",
       "    </tr>\n",
       "    <tr>\n",
       "      <th>90255</th>\n",
       "      <td>2011</td>\n",
       "      <td>23</td>\n",
       "      <td>23000000.0</td>\n",
       "      <td>17</td>\n",
       "      <td>3</td>\n",
       "      <td>2</td>\n",
       "      <td>29</td>\n",
       "      <td>8</td>\n",
       "      <td>1985</td>\n",
       "      <td>26</td>\n",
       "      <td>...</td>\n",
       "      <td>6.0</td>\n",
       "      <td>207.0</td>\n",
       "      <td>2.0</td>\n",
       "      <td>3</td>\n",
       "      <td>1.0</td>\n",
       "      <td>2.0</td>\n",
       "      <td>2.0</td>\n",
       "      <td>1.0</td>\n",
       "      <td>207.0</td>\n",
       "      <td>20100000.0</td>\n",
       "    </tr>\n",
       "  </tbody>\n",
       "</table>\n",
       "<p>2 rows × 324 columns</p>\n",
       "</div>"
      ],
      "text/plain": [
       "        V0101  UF       V0102  V0103  V0301  V0302  V3031  V3032  V3033  \\\n",
       "349585   2011  52  52000000.0      4      2      4      8      9   1947   \n",
       "90255    2011  23  23000000.0     17      3      2     29      8   1985   \n",
       "\n",
       "        V8005     ...      V4741  V4742  V4743  V4745  V4746  V4747  V4748  \\\n",
       "349585     64     ...        4.0  436.0    3.0      2    2.0    NaN    NaN   \n",
       "90255      26     ...        6.0  207.0    2.0      3    1.0    2.0    2.0   \n",
       "\n",
       "        V4749  V4750       V9993  \n",
       "349585    2.0  600.0  20100000.0  \n",
       "90255     1.0  207.0  20100000.0  \n",
       "\n",
       "[2 rows x 324 columns]"
      ]
     },
     "execution_count": 5,
     "metadata": {},
     "output_type": "execute_result"
    }
   ],
   "source": [
    "#Tabela do dataset(2011) pré-formatação:\n",
    "All_data_2011.sample(2)"
   ]
  },
  {
   "cell_type": "code",
   "execution_count": 6,
   "metadata": {},
   "outputs": [],
   "source": [
    "#Abrindo o arquivo com os dados de 2015:\n",
    "All_data_2015 = pd.read_csv('PES2015.csv',sep=',')"
   ]
  },
  {
   "cell_type": "code",
   "execution_count": 7,
   "metadata": {},
   "outputs": [
    {
     "data": {
      "text/plain": [
       "float64    296\n",
       "int64       33\n",
       "dtype: int64"
      ]
     },
     "execution_count": 7,
     "metadata": {},
     "output_type": "execute_result"
    }
   ],
   "source": [
    "#Analisando os tipos de informações no arquivo:\n",
    "All_data_2015.get_dtype_counts()"
   ]
  },
  {
   "cell_type": "code",
   "execution_count": 8,
   "metadata": {},
   "outputs": [
    {
     "data": {
      "text/html": [
       "<div>\n",
       "<style scoped>\n",
       "    .dataframe tbody tr th:only-of-type {\n",
       "        vertical-align: middle;\n",
       "    }\n",
       "\n",
       "    .dataframe tbody tr th {\n",
       "        vertical-align: top;\n",
       "    }\n",
       "\n",
       "    .dataframe thead th {\n",
       "        text-align: right;\n",
       "    }\n",
       "</style>\n",
       "<table border=\"1\" class=\"dataframe\">\n",
       "  <thead>\n",
       "    <tr style=\"text-align: right;\">\n",
       "      <th></th>\n",
       "      <th>Unnamed: 0</th>\n",
       "      <th>V0101</th>\n",
       "      <th>UF</th>\n",
       "      <th>V0102</th>\n",
       "      <th>V0103</th>\n",
       "      <th>V0301</th>\n",
       "      <th>V0302</th>\n",
       "      <th>V3031</th>\n",
       "      <th>V3032</th>\n",
       "      <th>V3033</th>\n",
       "      <th>...</th>\n",
       "      <th>V4741</th>\n",
       "      <th>V4742</th>\n",
       "      <th>V4743</th>\n",
       "      <th>V4745</th>\n",
       "      <th>V4746</th>\n",
       "      <th>V4747</th>\n",
       "      <th>V4748</th>\n",
       "      <th>V4749</th>\n",
       "      <th>V4750</th>\n",
       "      <th>V9993</th>\n",
       "    </tr>\n",
       "  </thead>\n",
       "  <tbody>\n",
       "    <tr>\n",
       "      <th>152063</th>\n",
       "      <td>152063</td>\n",
       "      <td>2015</td>\n",
       "      <td>29</td>\n",
       "      <td>5175</td>\n",
       "      <td>10</td>\n",
       "      <td>3</td>\n",
       "      <td>2</td>\n",
       "      <td>23</td>\n",
       "      <td>2</td>\n",
       "      <td>1998</td>\n",
       "      <td>...</td>\n",
       "      <td>3.0</td>\n",
       "      <td>5.250000e+02</td>\n",
       "      <td>3.0</td>\n",
       "      <td>2</td>\n",
       "      <td>1.0</td>\n",
       "      <td>2.0</td>\n",
       "      <td>2.0</td>\n",
       "      <td>1.0</td>\n",
       "      <td>5.250000e+02</td>\n",
       "      <td>20161117</td>\n",
       "    </tr>\n",
       "    <tr>\n",
       "      <th>295759</th>\n",
       "      <td>295759</td>\n",
       "      <td>2015</td>\n",
       "      <td>43</td>\n",
       "      <td>665</td>\n",
       "      <td>12</td>\n",
       "      <td>4</td>\n",
       "      <td>4</td>\n",
       "      <td>3</td>\n",
       "      <td>11</td>\n",
       "      <td>2011</td>\n",
       "      <td>...</td>\n",
       "      <td>4.0</td>\n",
       "      <td>1.000000e+12</td>\n",
       "      <td>99.0</td>\n",
       "      <td>1</td>\n",
       "      <td>NaN</td>\n",
       "      <td>NaN</td>\n",
       "      <td>NaN</td>\n",
       "      <td>NaN</td>\n",
       "      <td>1.000000e+12</td>\n",
       "      <td>20161117</td>\n",
       "    </tr>\n",
       "  </tbody>\n",
       "</table>\n",
       "<p>2 rows × 329 columns</p>\n",
       "</div>"
      ],
      "text/plain": [
       "        Unnamed: 0  V0101  UF  V0102  V0103  V0301  V0302  V3031  V3032  \\\n",
       "152063      152063   2015  29   5175     10      3      2     23      2   \n",
       "295759      295759   2015  43    665     12      4      4      3     11   \n",
       "\n",
       "        V3033    ...     V4741         V4742  V4743  V4745  V4746  V4747  \\\n",
       "152063   1998    ...       3.0  5.250000e+02    3.0      2    1.0    2.0   \n",
       "295759   2011    ...       4.0  1.000000e+12   99.0      1    NaN    NaN   \n",
       "\n",
       "        V4748  V4749         V4750     V9993  \n",
       "152063    2.0    1.0  5.250000e+02  20161117  \n",
       "295759    NaN    NaN  1.000000e+12  20161117  \n",
       "\n",
       "[2 rows x 329 columns]"
      ]
     },
     "execution_count": 8,
     "metadata": {},
     "output_type": "execute_result"
    }
   ],
   "source": [
    "#Tabela do dataset(2015) pré-formatação:\n",
    "All_data_2015.sample(2)"
   ]
  },
  {
   "cell_type": "markdown",
   "metadata": {},
   "source": [
    "...\n",
    "### Vamos selecionar as váriaveis pertinentes para 2011:"
   ]
  },
  {
   "cell_type": "code",
   "execution_count": 9,
   "metadata": {},
   "outputs": [],
   "source": [
    "#Vamos criar um dataframe com as váriaveis selecionadas:\n",
    "df = [\"UF\",\"V0302\",\"V8005\",\"V0404\",\"V0601\",\"V6007\",\"V9532\",\"V9058\",\"V9891\",\"V4704\"]"
   ]
  },
  {
   "cell_type": "code",
   "execution_count": 10,
   "metadata": {},
   "outputs": [],
   "source": [
    "#Renomeando as colunas do dataframe:\n",
    "df_2011 = All_data_2011[df]\n",
    "df_2011.columns = [\"UF\", \"Sexo\", \"Idade do morador\", \"Cor ou raça\", \"Sabe ler e escrever\", \"Curso mais elevado que cursou\",\"Rendimento mensal\",\n",
    "        \"Número de horas trabalhadas por semana no trabalho\", \"Idade com que começou a trabalhar\", \"Condição de atividade\"]"
   ]
  },
  {
   "cell_type": "markdown",
   "metadata": {},
   "source": [
    "...\n",
    "#### Atribuindo as características das váriaveis:"
   ]
  },
  {
   "cell_type": "code",
   "execution_count": 11,
   "metadata": {},
   "outputs": [],
   "source": [
    "#Suprimindo o aviso de copia de dataframe:\n",
    "pd.set_option('chained_assignment',None)"
   ]
  },
  {
   "cell_type": "code",
   "execution_count": 12,
   "metadata": {},
   "outputs": [],
   "source": [
    "#-UF:\n",
    "df_2011.loc[(df_2011[\"UF\"] == 11),\"UF\"] = \"Rondônia\"\n",
    "df_2011.loc[(df_2011[\"UF\"] == 12),\"UF\"] = \"Acre\"\n",
    "df_2011.loc[(df_2011[\"UF\"] == 13),\"UF\"] = \"Amazonas\"\n",
    "df_2011.loc[(df_2011[\"UF\"] == 14),\"UF\"] = \"Roraima\"\n",
    "df_2011.loc[(df_2011[\"UF\"] == 15),\"UF\"] = \"Pará\"\n",
    "df_2011.loc[(df_2011[\"UF\"] == 16),\"UF\"] = \"Amapá\"\n",
    "df_2011.loc[(df_2011[\"UF\"] == 17),\"UF\"] = \"Tocantins\"\n",
    "df_2011.loc[(df_2011[\"UF\"] == 21),\"UF\"] = \"Maranhão\"\n",
    "df_2011.loc[(df_2011[\"UF\"] == 22),\"UF\"] = \"Piauí\"\n",
    "df_2011.loc[(df_2011[\"UF\"] == 23),\"UF\"] = \"Ceará\"\n",
    "df_2011.loc[(df_2011[\"UF\"] == 24),\"UF\"] = \"Rio Grande do Norte\"\n",
    "df_2011.loc[(df_2011[\"UF\"] == 25),\"UF\"] = \"Praíba\"\n",
    "df_2011.loc[(df_2011[\"UF\"] == 26),\"UF\"] = \"Pernambuco\"\n",
    "df_2011.loc[(df_2011[\"UF\"] == 27),\"UF\"] = \"Alagoas\"\n",
    "df_2011.loc[(df_2011[\"UF\"] == 28),\"UF\"] = \"Sergipe\"\n",
    "df_2011.loc[(df_2011[\"UF\"] == 29),\"UF\"] = \"Bahia\"\n",
    "df_2011.loc[(df_2011[\"UF\"] == 31),\"UF\"] = \"Minas Gerais\"\n",
    "df_2011.loc[(df_2011[\"UF\"] == 32),\"UF\"] = \"Espirito Santo\"\n",
    "df_2011.loc[(df_2011[\"UF\"] == 33),\"UF\"] = \"Rio de Janeiro\"\n",
    "df_2011.loc[(df_2011[\"UF\"] == 35),\"UF\"] = \"São Paulo\"\n",
    "df_2011.loc[(df_2011[\"UF\"] == 41),\"UF\"] = \"Paraná\"\n",
    "df_2011.loc[(df_2011[\"UF\"] == 42),\"UF\"] = \"Santa Catarina\"\n",
    "df_2011.loc[(df_2011[\"UF\"] == 43),\"UF\"] = \"Rio Grande do Sul\"\n",
    "df_2011.loc[(df_2011[\"UF\"] == 50),\"UF\"] = \"Mato Grosso do Sul\"\n",
    "df_2011.loc[(df_2011[\"UF\"] == 51),\"UF\"] = \"Mato Grosso\"\n",
    "df_2011.loc[(df_2011[\"UF\"] == 52),\"UF\"] = \"Goiás\"\n",
    "df_2011.loc[(df_2011[\"UF\"] == 53),\"UF\"] = \"Distrito Federal\""
   ]
  },
  {
   "cell_type": "code",
   "execution_count": 13,
   "metadata": {},
   "outputs": [],
   "source": [
    "#-Sexo:\n",
    "df_2011.loc[(df_2011.Sexo == 2),\"Sexo\"] = \"Masculino\"\n",
    "df_2011.loc[(df_2011.Sexo == 4),\"Sexo\"] = \"Feminino\""
   ]
  },
  {
   "cell_type": "code",
   "execution_count": 14,
   "metadata": {},
   "outputs": [],
   "source": [
    "#-Cor ou raça:\n",
    "df_2011.loc[(df_2011[\"Cor ou raça\"] == 2),\"Cor ou raça\"] = \"Branca\"\n",
    "df_2011.loc[(df_2011[\"Cor ou raça\"] == 4),\"Cor ou raça\"] = \"Preta\"\n",
    "df_2011.loc[(df_2011[\"Cor ou raça\"] == 6),\"Cor ou raça\"] = \"Amarela\"\n",
    "df_2011.loc[(df_2011[\"Cor ou raça\"] == 8),\"Cor ou raça\"] = \"Pardo\"\n",
    "df_2011.loc[(df_2011[\"Cor ou raça\"] == 0),\"Cor ou raça\"] = \"Indigena\"\n",
    "df_2011.loc[(df_2011[\"Cor ou raça\"] == 9),\"Cor ou raça\"] = \"Sem declaração\""
   ]
  },
  {
   "cell_type": "code",
   "execution_count": 15,
   "metadata": {},
   "outputs": [],
   "source": [
    "#-Sabe ler e escrever:\n",
    "df_2011.loc[(df_2011[\"Sabe ler e escrever\"] == 1),\"Sabe ler e escrever\"] = \"Sim\"\n",
    "df_2011.loc[(df_2011[\"Sabe ler e escrever\"] == 3),\"Sabe ler e escrever\"] = \"Não\""
   ]
  },
  {
   "cell_type": "code",
   "execution_count": 16,
   "metadata": {},
   "outputs": [],
   "source": [
    "#-Curso mais elevado que cursou:\n",
    "df_2011.loc[(df_2011[\"Curso mais elevado que cursou\"] == 1),\"Curso mais elevado que cursou\"] = \"Elementar (Primário)\"\n",
    "df_2011.loc[(df_2011[\"Curso mais elevado que cursou\"] == 2),\"Curso mais elevado que cursou\"] = \"Médio 1˚ ciclo\"\n",
    "df_2011.loc[(df_2011[\"Curso mais elevado que cursou\"] == 3),\"Curso mais elevado que cursou\"] = \"Médio 2˚ ciclo\"\n",
    "df_2011.loc[(df_2011[\"Curso mais elevado que cursou\"] == 4),\"Curso mais elevado que cursou\"] = \"Regular do ensino Fundamental\"\n",
    "df_2011.loc[(df_2011[\"Curso mais elevado que cursou\"] == 5),\"Curso mais elevado que cursou\"] = \"Regular do ensino Médio\"\n",
    "df_2011.loc[(df_2011[\"Curso mais elevado que cursou\"] == 6),\"Curso mais elevado que cursou\"] = \"Supletivo do ensino Fundamental\"\n",
    "df_2011.loc[(df_2011[\"Curso mais elevado que cursou\"] == 7),\"Curso mais elevado que cursou\"] = \"Supletivo do ensino Médio\"\n",
    "df_2011.loc[(df_2011[\"Curso mais elevado que cursou\"] == 8),\"Curso mais elevado que cursou\"] = \"Superior de graduação\"\n",
    "df_2011.loc[(df_2011[\"Curso mais elevado que cursou\"] == 9),\"Curso mais elevado que cursou\"] = \"Mestrado ou doutorado\"\n",
    "df_2011.loc[(df_2011[\"Curso mais elevado que cursou\"] == 10),\"Curso mais elevado que cursou\"] = \"Alfabetização para jovens adultos\"\n",
    "df_2011.loc[(df_2011[\"Curso mais elevado que cursou\"] == 11),\"Curso mais elevado que cursou\"] = \"Creche\"\n",
    "df_2011.loc[(df_2011[\"Curso mais elevado que cursou\"] == 12),\"Curso mais elevado que cursou\"] = \"Classe de alfabetização - CA\"\n",
    "df_2011.loc[(df_2011[\"Curso mais elevado que cursou\"] == 13),\"Curso mais elevado que cursou\"] = \"Jardim da infância\"\n",
    "df_2011.loc[(df_2011[\"Curso mais elevado que cursou\"].isnull() == True),\"Curso mais elevado que cursou\"] = \"Não aplicável\""
   ]
  },
  {
   "cell_type": "code",
   "execution_count": 17,
   "metadata": {},
   "outputs": [],
   "source": [
    "#-Rendimento mensal: \n",
    "df_2011[\"Rendimento mensal\"].loc[df_2011[\"Rendimento mensal\"]>=999999999999]=\"Sem declarações\"\n",
    "df_2011.loc[(df_2011[\"Rendimento mensal\"].isnull() == True),\"Rendimento mensal\"] = \"Não aplicável\""
   ]
  },
  {
   "cell_type": "code",
   "execution_count": 18,
   "metadata": {},
   "outputs": [],
   "source": [
    "#-Número de horas trabalhadas por semana no trabalho principal:\n",
    "df_2011.loc[(df_2011[\"Número de horas trabalhadas por semana no trabalho\"].isnull() == True),\"Número de horas trabalhadas por semana no trabalho\"] = \"Não aplicável\""
   ]
  },
  {
   "cell_type": "code",
   "execution_count": 19,
   "metadata": {},
   "outputs": [],
   "source": [
    "#-Idade com que começou a trabalhar:\n",
    "df_2011.loc[(df_2011[\"Idade com que começou a trabalhar\"] == 1),\"Idade com que começou a trabalhar\"] = \"Até 9 anos\"\n",
    "df_2011.loc[(df_2011[\"Idade com que começou a trabalhar\"] == 2),\"Idade com que começou a trabalhar\"] = \"10 a 14 anos\"\n",
    "df_2011.loc[(df_2011[\"Idade com que começou a trabalhar\"] == 3),\"Idade com que começou a trabalhar\"] = \"15 a 17 anos\"\n",
    "df_2011.loc[(df_2011[\"Idade com que começou a trabalhar\"] == 4),\"Idade com que começou a trabalhar\"] = \"18 a 19 anos\"\n",
    "df_2011.loc[(df_2011[\"Idade com que começou a trabalhar\"] == 5),\"Idade com que começou a trabalhar\"] = \"20 a 24 anos\"\n",
    "df_2011.loc[(df_2011[\"Idade com que começou a trabalhar\"] == 6),\"Idade com que começou a trabalhar\"] = \"25 a 29 anos\"\n",
    "df_2011.loc[(df_2011[\"Idade com que começou a trabalhar\"] == 7),\"Idade com que começou a trabalhar\"] = \"30 anos ou  mais\"\n",
    "df_2011.loc[(df_2011[\"Idade com que começou a trabalhar\"].isnull() == True),\"Idade com que começou a trabalhar\"] = \"Não aplicável\""
   ]
  },
  {
   "cell_type": "code",
   "execution_count": 20,
   "metadata": {},
   "outputs": [],
   "source": [
    "#-Condição de atividade:\n",
    "df_2011.loc[(df_2011[\"Condição de atividade\"] == 1),\"Condição de atividade\"] = \"Economicamente ativas\"\n",
    "df_2011.loc[(df_2011[\"Condição de atividade\"] == 2),\"Condição de atividade\"] = \"Não economicamente ativas\"\n",
    "df_2011.loc[(df_2011[\"Condição de atividade\"].isnull() == True),\"Condição de atividade\"] = \"Não aplicável\""
   ]
  },
  {
   "cell_type": "code",
   "execution_count": 21,
   "metadata": {},
   "outputs": [
    {
     "data": {
      "text/html": [
       "<div>\n",
       "<style scoped>\n",
       "    .dataframe tbody tr th:only-of-type {\n",
       "        vertical-align: middle;\n",
       "    }\n",
       "\n",
       "    .dataframe tbody tr th {\n",
       "        vertical-align: top;\n",
       "    }\n",
       "\n",
       "    .dataframe thead th {\n",
       "        text-align: right;\n",
       "    }\n",
       "</style>\n",
       "<table border=\"1\" class=\"dataframe\">\n",
       "  <thead>\n",
       "    <tr style=\"text-align: right;\">\n",
       "      <th></th>\n",
       "      <th>UF</th>\n",
       "      <th>Sexo</th>\n",
       "      <th>Idade do morador</th>\n",
       "      <th>Cor ou raça</th>\n",
       "      <th>Sabe ler e escrever</th>\n",
       "      <th>Curso mais elevado que cursou</th>\n",
       "      <th>Rendimento mensal</th>\n",
       "      <th>Número de horas trabalhadas por semana no trabalho</th>\n",
       "      <th>Idade com que começou a trabalhar</th>\n",
       "      <th>Condição de atividade</th>\n",
       "    </tr>\n",
       "  </thead>\n",
       "  <tbody>\n",
       "    <tr>\n",
       "      <th>43219</th>\n",
       "      <td>Pará</td>\n",
       "      <td>Masculino</td>\n",
       "      <td>11</td>\n",
       "      <td>Pardo</td>\n",
       "      <td>Sim</td>\n",
       "      <td>Não aplicável</td>\n",
       "      <td>120</td>\n",
       "      <td>20</td>\n",
       "      <td>10 a 14 anos</td>\n",
       "      <td>Economicamente ativas</td>\n",
       "    </tr>\n",
       "    <tr>\n",
       "      <th>5299</th>\n",
       "      <td>Rondônia</td>\n",
       "      <td>Masculino</td>\n",
       "      <td>56</td>\n",
       "      <td>Branca</td>\n",
       "      <td>Sim</td>\n",
       "      <td>Regular do ensino Fundamental</td>\n",
       "      <td>540</td>\n",
       "      <td>40</td>\n",
       "      <td>10 a 14 anos</td>\n",
       "      <td>Economicamente ativas</td>\n",
       "    </tr>\n",
       "    <tr>\n",
       "      <th>46359</th>\n",
       "      <td>Pará</td>\n",
       "      <td>Masculino</td>\n",
       "      <td>37</td>\n",
       "      <td>Pardo</td>\n",
       "      <td>Sim</td>\n",
       "      <td>Regular do ensino Fundamental</td>\n",
       "      <td>550</td>\n",
       "      <td>40</td>\n",
       "      <td>10 a 14 anos</td>\n",
       "      <td>Economicamente ativas</td>\n",
       "    </tr>\n",
       "    <tr>\n",
       "      <th>199777</th>\n",
       "      <td>Espirito Santo</td>\n",
       "      <td>Masculino</td>\n",
       "      <td>19</td>\n",
       "      <td>Pardo</td>\n",
       "      <td>Sim</td>\n",
       "      <td>Regular do ensino Fundamental</td>\n",
       "      <td>545</td>\n",
       "      <td>48</td>\n",
       "      <td>18 a 19 anos</td>\n",
       "      <td>Economicamente ativas</td>\n",
       "    </tr>\n",
       "    <tr>\n",
       "      <th>319938</th>\n",
       "      <td>Rio Grande do Sul</td>\n",
       "      <td>Masculino</td>\n",
       "      <td>38</td>\n",
       "      <td>Branca</td>\n",
       "      <td>Sim</td>\n",
       "      <td>Regular do ensino Médio</td>\n",
       "      <td>2000</td>\n",
       "      <td>40</td>\n",
       "      <td>15 a 17 anos</td>\n",
       "      <td>Economicamente ativas</td>\n",
       "    </tr>\n",
       "    <tr>\n",
       "      <th>167493</th>\n",
       "      <td>Minas Gerais</td>\n",
       "      <td>Feminino</td>\n",
       "      <td>21</td>\n",
       "      <td>Pardo</td>\n",
       "      <td>Sim</td>\n",
       "      <td>Regular do ensino Médio</td>\n",
       "      <td>545</td>\n",
       "      <td>44</td>\n",
       "      <td>18 a 19 anos</td>\n",
       "      <td>Economicamente ativas</td>\n",
       "    </tr>\n",
       "    <tr>\n",
       "      <th>190209</th>\n",
       "      <td>Minas Gerais</td>\n",
       "      <td>Feminino</td>\n",
       "      <td>20</td>\n",
       "      <td>Pardo</td>\n",
       "      <td>Sim</td>\n",
       "      <td>Regular do ensino Médio</td>\n",
       "      <td>190</td>\n",
       "      <td>16</td>\n",
       "      <td>15 a 17 anos</td>\n",
       "      <td>Economicamente ativas</td>\n",
       "    </tr>\n",
       "    <tr>\n",
       "      <th>317582</th>\n",
       "      <td>Rio Grande do Sul</td>\n",
       "      <td>Feminino</td>\n",
       "      <td>23</td>\n",
       "      <td>Branca</td>\n",
       "      <td>Sim</td>\n",
       "      <td>Regular do ensino Médio</td>\n",
       "      <td>1040</td>\n",
       "      <td>44</td>\n",
       "      <td>15 a 17 anos</td>\n",
       "      <td>Economicamente ativas</td>\n",
       "    </tr>\n",
       "    <tr>\n",
       "      <th>210004</th>\n",
       "      <td>Rio de Janeiro</td>\n",
       "      <td>Masculino</td>\n",
       "      <td>49</td>\n",
       "      <td>Branca</td>\n",
       "      <td>Sim</td>\n",
       "      <td>Regular do ensino Fundamental</td>\n",
       "      <td>2600</td>\n",
       "      <td>48</td>\n",
       "      <td>18 a 19 anos</td>\n",
       "      <td>Economicamente ativas</td>\n",
       "    </tr>\n",
       "    <tr>\n",
       "      <th>196700</th>\n",
       "      <td>Espirito Santo</td>\n",
       "      <td>Masculino</td>\n",
       "      <td>21</td>\n",
       "      <td>Branca</td>\n",
       "      <td>Sim</td>\n",
       "      <td>Regular do ensino Médio</td>\n",
       "      <td>545</td>\n",
       "      <td>40</td>\n",
       "      <td>10 a 14 anos</td>\n",
       "      <td>Economicamente ativas</td>\n",
       "    </tr>\n",
       "    <tr>\n",
       "      <th>218770</th>\n",
       "      <td>Rio de Janeiro</td>\n",
       "      <td>Masculino</td>\n",
       "      <td>98</td>\n",
       "      <td>Branca</td>\n",
       "      <td>Sim</td>\n",
       "      <td>Elementar (Primário)</td>\n",
       "      <td>Não aplicável</td>\n",
       "      <td>Não aplicável</td>\n",
       "      <td>Não aplicável</td>\n",
       "      <td>Não economicamente ativas</td>\n",
       "    </tr>\n",
       "    <tr>\n",
       "      <th>227328</th>\n",
       "      <td>São Paulo</td>\n",
       "      <td>Feminino</td>\n",
       "      <td>57</td>\n",
       "      <td>Branca</td>\n",
       "      <td>Sim</td>\n",
       "      <td>Médio 2˚ ciclo</td>\n",
       "      <td>860</td>\n",
       "      <td>98</td>\n",
       "      <td>15 a 17 anos</td>\n",
       "      <td>Economicamente ativas</td>\n",
       "    </tr>\n",
       "    <tr>\n",
       "      <th>168370</th>\n",
       "      <td>Minas Gerais</td>\n",
       "      <td>Feminino</td>\n",
       "      <td>14</td>\n",
       "      <td>Pardo</td>\n",
       "      <td>Sim</td>\n",
       "      <td>Não aplicável</td>\n",
       "      <td>Não aplicável</td>\n",
       "      <td>Não aplicável</td>\n",
       "      <td>Não aplicável</td>\n",
       "      <td>Não economicamente ativas</td>\n",
       "    </tr>\n",
       "    <tr>\n",
       "      <th>85036</th>\n",
       "      <td>Ceará</td>\n",
       "      <td>Feminino</td>\n",
       "      <td>27</td>\n",
       "      <td>Branca</td>\n",
       "      <td>Sim</td>\n",
       "      <td>Regular do ensino Médio</td>\n",
       "      <td>Não aplicável</td>\n",
       "      <td>Não aplicável</td>\n",
       "      <td>Não aplicável</td>\n",
       "      <td>Não economicamente ativas</td>\n",
       "    </tr>\n",
       "    <tr>\n",
       "      <th>314279</th>\n",
       "      <td>Rio Grande do Sul</td>\n",
       "      <td>Masculino</td>\n",
       "      <td>39</td>\n",
       "      <td>Branca</td>\n",
       "      <td>Sim</td>\n",
       "      <td>Regular do ensino Médio</td>\n",
       "      <td>Não aplicável</td>\n",
       "      <td>Não aplicável</td>\n",
       "      <td>18 a 19 anos</td>\n",
       "      <td>Não economicamente ativas</td>\n",
       "    </tr>\n",
       "    <tr>\n",
       "      <th>253882</th>\n",
       "      <td>São Paulo</td>\n",
       "      <td>Masculino</td>\n",
       "      <td>73</td>\n",
       "      <td>Pardo</td>\n",
       "      <td>Não</td>\n",
       "      <td>Não aplicável</td>\n",
       "      <td>Não aplicável</td>\n",
       "      <td>Não aplicável</td>\n",
       "      <td>Não aplicável</td>\n",
       "      <td>Não economicamente ativas</td>\n",
       "    </tr>\n",
       "    <tr>\n",
       "      <th>93355</th>\n",
       "      <td>Rio Grande do Norte</td>\n",
       "      <td>Feminino</td>\n",
       "      <td>62</td>\n",
       "      <td>Pardo</td>\n",
       "      <td>Não</td>\n",
       "      <td>Não aplicável</td>\n",
       "      <td>Não aplicável</td>\n",
       "      <td>30</td>\n",
       "      <td>10 a 14 anos</td>\n",
       "      <td>Economicamente ativas</td>\n",
       "    </tr>\n",
       "    <tr>\n",
       "      <th>204175</th>\n",
       "      <td>Rio de Janeiro</td>\n",
       "      <td>Feminino</td>\n",
       "      <td>12</td>\n",
       "      <td>Branca</td>\n",
       "      <td>Sim</td>\n",
       "      <td>Não aplicável</td>\n",
       "      <td>Não aplicável</td>\n",
       "      <td>Não aplicável</td>\n",
       "      <td>Não aplicável</td>\n",
       "      <td>Não economicamente ativas</td>\n",
       "    </tr>\n",
       "    <tr>\n",
       "      <th>53627</th>\n",
       "      <td>Tocantins</td>\n",
       "      <td>Masculino</td>\n",
       "      <td>33</td>\n",
       "      <td>Pardo</td>\n",
       "      <td>Sim</td>\n",
       "      <td>Regular do ensino Fundamental</td>\n",
       "      <td>600</td>\n",
       "      <td>45</td>\n",
       "      <td>15 a 17 anos</td>\n",
       "      <td>Economicamente ativas</td>\n",
       "    </tr>\n",
       "    <tr>\n",
       "      <th>132158</th>\n",
       "      <td>Sergipe</td>\n",
       "      <td>Masculino</td>\n",
       "      <td>2</td>\n",
       "      <td>Pardo</td>\n",
       "      <td>Não</td>\n",
       "      <td>Não aplicável</td>\n",
       "      <td>Não aplicável</td>\n",
       "      <td>Não aplicável</td>\n",
       "      <td>Não aplicável</td>\n",
       "      <td>Não aplicável</td>\n",
       "    </tr>\n",
       "    <tr>\n",
       "      <th>41792</th>\n",
       "      <td>Pará</td>\n",
       "      <td>Feminino</td>\n",
       "      <td>27</td>\n",
       "      <td>Pardo</td>\n",
       "      <td>Sim</td>\n",
       "      <td>Regular do ensino Médio</td>\n",
       "      <td>560</td>\n",
       "      <td>25</td>\n",
       "      <td>25 a 29 anos</td>\n",
       "      <td>Economicamente ativas</td>\n",
       "    </tr>\n",
       "    <tr>\n",
       "      <th>170597</th>\n",
       "      <td>Minas Gerais</td>\n",
       "      <td>Masculino</td>\n",
       "      <td>72</td>\n",
       "      <td>Pardo</td>\n",
       "      <td>Sim</td>\n",
       "      <td>Elementar (Primário)</td>\n",
       "      <td>Não aplicável</td>\n",
       "      <td>Não aplicável</td>\n",
       "      <td>Não aplicável</td>\n",
       "      <td>Não economicamente ativas</td>\n",
       "    </tr>\n",
       "    <tr>\n",
       "      <th>1064</th>\n",
       "      <td>Rondônia</td>\n",
       "      <td>Masculino</td>\n",
       "      <td>41</td>\n",
       "      <td>Pardo</td>\n",
       "      <td>Sim</td>\n",
       "      <td>Regular do ensino Fundamental</td>\n",
       "      <td>Não aplicável</td>\n",
       "      <td>Não aplicável</td>\n",
       "      <td>Não aplicável</td>\n",
       "      <td>Não economicamente ativas</td>\n",
       "    </tr>\n",
       "    <tr>\n",
       "      <th>320933</th>\n",
       "      <td>Rio Grande do Sul</td>\n",
       "      <td>Feminino</td>\n",
       "      <td>46</td>\n",
       "      <td>Branca</td>\n",
       "      <td>Sim</td>\n",
       "      <td>Regular do ensino Médio</td>\n",
       "      <td>700</td>\n",
       "      <td>48</td>\n",
       "      <td>18 a 19 anos</td>\n",
       "      <td>Economicamente ativas</td>\n",
       "    </tr>\n",
       "    <tr>\n",
       "      <th>65867</th>\n",
       "      <td>Maranhão</td>\n",
       "      <td>Masculino</td>\n",
       "      <td>31</td>\n",
       "      <td>Branca</td>\n",
       "      <td>Sim</td>\n",
       "      <td>Regular do ensino Fundamental</td>\n",
       "      <td>545</td>\n",
       "      <td>48</td>\n",
       "      <td>10 a 14 anos</td>\n",
       "      <td>Economicamente ativas</td>\n",
       "    </tr>\n",
       "    <tr>\n",
       "      <th>220522</th>\n",
       "      <td>Rio de Janeiro</td>\n",
       "      <td>Masculino</td>\n",
       "      <td>7</td>\n",
       "      <td>Preta</td>\n",
       "      <td>Sim</td>\n",
       "      <td>Não aplicável</td>\n",
       "      <td>Não aplicável</td>\n",
       "      <td>Não aplicável</td>\n",
       "      <td>Não aplicável</td>\n",
       "      <td>Não aplicável</td>\n",
       "    </tr>\n",
       "    <tr>\n",
       "      <th>209730</th>\n",
       "      <td>Rio de Janeiro</td>\n",
       "      <td>Feminino</td>\n",
       "      <td>79</td>\n",
       "      <td>Branca</td>\n",
       "      <td>Não</td>\n",
       "      <td>Não aplicável</td>\n",
       "      <td>Não aplicável</td>\n",
       "      <td>Não aplicável</td>\n",
       "      <td>Não aplicável</td>\n",
       "      <td>Não economicamente ativas</td>\n",
       "    </tr>\n",
       "    <tr>\n",
       "      <th>96567</th>\n",
       "      <td>Rio Grande do Norte</td>\n",
       "      <td>Masculino</td>\n",
       "      <td>3</td>\n",
       "      <td>Pardo</td>\n",
       "      <td>Não</td>\n",
       "      <td>Não aplicável</td>\n",
       "      <td>Não aplicável</td>\n",
       "      <td>Não aplicável</td>\n",
       "      <td>Não aplicável</td>\n",
       "      <td>Não aplicável</td>\n",
       "    </tr>\n",
       "    <tr>\n",
       "      <th>175421</th>\n",
       "      <td>Minas Gerais</td>\n",
       "      <td>Feminino</td>\n",
       "      <td>16</td>\n",
       "      <td>Pardo</td>\n",
       "      <td>Sim</td>\n",
       "      <td>Não aplicável</td>\n",
       "      <td>Não aplicável</td>\n",
       "      <td>Não aplicável</td>\n",
       "      <td>Não aplicável</td>\n",
       "      <td>Economicamente ativas</td>\n",
       "    </tr>\n",
       "    <tr>\n",
       "      <th>349425</th>\n",
       "      <td>Goiás</td>\n",
       "      <td>Masculino</td>\n",
       "      <td>45</td>\n",
       "      <td>Preta</td>\n",
       "      <td>Sim</td>\n",
       "      <td>Regular do ensino Fundamental</td>\n",
       "      <td>2400</td>\n",
       "      <td>70</td>\n",
       "      <td>18 a 19 anos</td>\n",
       "      <td>Economicamente ativas</td>\n",
       "    </tr>\n",
       "  </tbody>\n",
       "</table>\n",
       "</div>"
      ],
      "text/plain": [
       "                         UF       Sexo  Idade do morador Cor ou raça  \\\n",
       "43219                  Pará  Masculino                11       Pardo   \n",
       "5299               Rondônia  Masculino                56      Branca   \n",
       "46359                  Pará  Masculino                37       Pardo   \n",
       "199777       Espirito Santo  Masculino                19       Pardo   \n",
       "319938    Rio Grande do Sul  Masculino                38      Branca   \n",
       "167493         Minas Gerais   Feminino                21       Pardo   \n",
       "190209         Minas Gerais   Feminino                20       Pardo   \n",
       "317582    Rio Grande do Sul   Feminino                23      Branca   \n",
       "210004       Rio de Janeiro  Masculino                49      Branca   \n",
       "196700       Espirito Santo  Masculino                21      Branca   \n",
       "218770       Rio de Janeiro  Masculino                98      Branca   \n",
       "227328            São Paulo   Feminino                57      Branca   \n",
       "168370         Minas Gerais   Feminino                14       Pardo   \n",
       "85036                 Ceará   Feminino                27      Branca   \n",
       "314279    Rio Grande do Sul  Masculino                39      Branca   \n",
       "253882            São Paulo  Masculino                73       Pardo   \n",
       "93355   Rio Grande do Norte   Feminino                62       Pardo   \n",
       "204175       Rio de Janeiro   Feminino                12      Branca   \n",
       "53627             Tocantins  Masculino                33       Pardo   \n",
       "132158              Sergipe  Masculino                 2       Pardo   \n",
       "41792                  Pará   Feminino                27       Pardo   \n",
       "170597         Minas Gerais  Masculino                72       Pardo   \n",
       "1064               Rondônia  Masculino                41       Pardo   \n",
       "320933    Rio Grande do Sul   Feminino                46      Branca   \n",
       "65867              Maranhão  Masculino                31      Branca   \n",
       "220522       Rio de Janeiro  Masculino                 7       Preta   \n",
       "209730       Rio de Janeiro   Feminino                79      Branca   \n",
       "96567   Rio Grande do Norte  Masculino                 3       Pardo   \n",
       "175421         Minas Gerais   Feminino                16       Pardo   \n",
       "349425                Goiás  Masculino                45       Preta   \n",
       "\n",
       "       Sabe ler e escrever  Curso mais elevado que cursou Rendimento mensal  \\\n",
       "43219                  Sim                  Não aplicável               120   \n",
       "5299                   Sim  Regular do ensino Fundamental               540   \n",
       "46359                  Sim  Regular do ensino Fundamental               550   \n",
       "199777                 Sim  Regular do ensino Fundamental               545   \n",
       "319938                 Sim        Regular do ensino Médio              2000   \n",
       "167493                 Sim        Regular do ensino Médio               545   \n",
       "190209                 Sim        Regular do ensino Médio               190   \n",
       "317582                 Sim        Regular do ensino Médio              1040   \n",
       "210004                 Sim  Regular do ensino Fundamental              2600   \n",
       "196700                 Sim        Regular do ensino Médio               545   \n",
       "218770                 Sim           Elementar (Primário)     Não aplicável   \n",
       "227328                 Sim                 Médio 2˚ ciclo               860   \n",
       "168370                 Sim                  Não aplicável     Não aplicável   \n",
       "85036                  Sim        Regular do ensino Médio     Não aplicável   \n",
       "314279                 Sim        Regular do ensino Médio     Não aplicável   \n",
       "253882                 Não                  Não aplicável     Não aplicável   \n",
       "93355                  Não                  Não aplicável     Não aplicável   \n",
       "204175                 Sim                  Não aplicável     Não aplicável   \n",
       "53627                  Sim  Regular do ensino Fundamental               600   \n",
       "132158                 Não                  Não aplicável     Não aplicável   \n",
       "41792                  Sim        Regular do ensino Médio               560   \n",
       "170597                 Sim           Elementar (Primário)     Não aplicável   \n",
       "1064                   Sim  Regular do ensino Fundamental     Não aplicável   \n",
       "320933                 Sim        Regular do ensino Médio               700   \n",
       "65867                  Sim  Regular do ensino Fundamental               545   \n",
       "220522                 Sim                  Não aplicável     Não aplicável   \n",
       "209730                 Não                  Não aplicável     Não aplicável   \n",
       "96567                  Não                  Não aplicável     Não aplicável   \n",
       "175421                 Sim                  Não aplicável     Não aplicável   \n",
       "349425                 Sim  Regular do ensino Fundamental              2400   \n",
       "\n",
       "       Número de horas trabalhadas por semana no trabalho  \\\n",
       "43219                                                  20   \n",
       "5299                                                   40   \n",
       "46359                                                  40   \n",
       "199777                                                 48   \n",
       "319938                                                 40   \n",
       "167493                                                 44   \n",
       "190209                                                 16   \n",
       "317582                                                 44   \n",
       "210004                                                 48   \n",
       "196700                                                 40   \n",
       "218770                                      Não aplicável   \n",
       "227328                                                 98   \n",
       "168370                                      Não aplicável   \n",
       "85036                                       Não aplicável   \n",
       "314279                                      Não aplicável   \n",
       "253882                                      Não aplicável   \n",
       "93355                                                  30   \n",
       "204175                                      Não aplicável   \n",
       "53627                                                  45   \n",
       "132158                                      Não aplicável   \n",
       "41792                                                  25   \n",
       "170597                                      Não aplicável   \n",
       "1064                                        Não aplicável   \n",
       "320933                                                 48   \n",
       "65867                                                  48   \n",
       "220522                                      Não aplicável   \n",
       "209730                                      Não aplicável   \n",
       "96567                                       Não aplicável   \n",
       "175421                                      Não aplicável   \n",
       "349425                                                 70   \n",
       "\n",
       "       Idade com que começou a trabalhar      Condição de atividade  \n",
       "43219                       10 a 14 anos      Economicamente ativas  \n",
       "5299                        10 a 14 anos      Economicamente ativas  \n",
       "46359                       10 a 14 anos      Economicamente ativas  \n",
       "199777                      18 a 19 anos      Economicamente ativas  \n",
       "319938                      15 a 17 anos      Economicamente ativas  \n",
       "167493                      18 a 19 anos      Economicamente ativas  \n",
       "190209                      15 a 17 anos      Economicamente ativas  \n",
       "317582                      15 a 17 anos      Economicamente ativas  \n",
       "210004                      18 a 19 anos      Economicamente ativas  \n",
       "196700                      10 a 14 anos      Economicamente ativas  \n",
       "218770                     Não aplicável  Não economicamente ativas  \n",
       "227328                      15 a 17 anos      Economicamente ativas  \n",
       "168370                     Não aplicável  Não economicamente ativas  \n",
       "85036                      Não aplicável  Não economicamente ativas  \n",
       "314279                      18 a 19 anos  Não economicamente ativas  \n",
       "253882                     Não aplicável  Não economicamente ativas  \n",
       "93355                       10 a 14 anos      Economicamente ativas  \n",
       "204175                     Não aplicável  Não economicamente ativas  \n",
       "53627                       15 a 17 anos      Economicamente ativas  \n",
       "132158                     Não aplicável              Não aplicável  \n",
       "41792                       25 a 29 anos      Economicamente ativas  \n",
       "170597                     Não aplicável  Não economicamente ativas  \n",
       "1064                       Não aplicável  Não economicamente ativas  \n",
       "320933                      18 a 19 anos      Economicamente ativas  \n",
       "65867                       10 a 14 anos      Economicamente ativas  \n",
       "220522                     Não aplicável              Não aplicável  \n",
       "209730                     Não aplicável  Não economicamente ativas  \n",
       "96567                      Não aplicável              Não aplicável  \n",
       "175421                     Não aplicável      Economicamente ativas  \n",
       "349425                      18 a 19 anos      Economicamente ativas  "
      ]
     },
     "execution_count": 21,
     "metadata": {},
     "output_type": "execute_result"
    }
   ],
   "source": [
    "#Tabela do dataset(2011) pós-formatação:\n",
    "df_2011.sample(30)"
   ]
  },
  {
   "cell_type": "markdown",
   "metadata": {},
   "source": [
    "...\n",
    "### Vamos selecionar as váriaveis pertinentes para 2015:"
   ]
  },
  {
   "cell_type": "code",
   "execution_count": 22,
   "metadata": {},
   "outputs": [],
   "source": [
    "#Vamos criar um dataframe com as váriaveis selecionadas:\n",
    "df = [\"UF\",\"V0302\",\"V8005\",\"V0404\",\"V0601\",\"V6007\",\"V9058\",\"V9891\",\"V4704\"]"
   ]
  },
  {
   "cell_type": "code",
   "execution_count": 23,
   "metadata": {},
   "outputs": [],
   "source": [
    "#Renomeando as colunas do dataframe:\n",
    "df_2015 = All_data_2015[df]\n",
    "df_2015.columns = [\"UF\", \"Sexo\", \"Idade do morador\", \"Cor ou raça\", \"Sabe ler e escrever\", \"Curso mais elevado que cursou\",\n",
    "        \"Número de horas trabalhadas por semana no trabalho\", \"Idade com que começou a trabalhar\", \"Condição de atividade\"]"
   ]
  },
  {
   "cell_type": "markdown",
   "metadata": {},
   "source": [
    "...\n",
    "#### Atribuindo as características das váriaveis:"
   ]
  },
  {
   "cell_type": "code",
   "execution_count": 24,
   "metadata": {},
   "outputs": [],
   "source": [
    "#-UF:\n",
    "df_2015.loc[(df_2015[\"UF\"] == 11),\"UF\"] = \"Rondônia\"\n",
    "df_2015.loc[(df_2015[\"UF\"] == 12),\"UF\"] = \"Acre\"\n",
    "df_2015.loc[(df_2015[\"UF\"] == 13),\"UF\"] = \"Amazonas\"\n",
    "df_2015.loc[(df_2015[\"UF\"] == 14),\"UF\"] = \"Roraima\"\n",
    "df_2015.loc[(df_2015[\"UF\"] == 15),\"UF\"] = \"Pará\"\n",
    "df_2015.loc[(df_2015[\"UF\"] == 16),\"UF\"] = \"Amapá\"\n",
    "df_2015.loc[(df_2015[\"UF\"] == 17),\"UF\"] = \"Tocantins\"\n",
    "df_2015.loc[(df_2015[\"UF\"] == 21),\"UF\"] = \"Maranhão\"\n",
    "df_2015.loc[(df_2015[\"UF\"] == 22),\"UF\"] = \"Piauí\"\n",
    "df_2015.loc[(df_2015[\"UF\"] == 23),\"UF\"] = \"Ceará\"\n",
    "df_2015.loc[(df_2015[\"UF\"] == 24),\"UF\"] = \"Rio Grande do Norte\"\n",
    "df_2015.loc[(df_2015[\"UF\"] == 25),\"UF\"] = \"Praíba\"\n",
    "df_2015.loc[(df_2015[\"UF\"] == 26),\"UF\"] = \"Pernambuco\"\n",
    "df_2015.loc[(df_2015[\"UF\"] == 27),\"UF\"] = \"Alagoas\"\n",
    "df_2015.loc[(df_2015[\"UF\"] == 28),\"UF\"] = \"Sergipe\"\n",
    "df_2015.loc[(df_2015[\"UF\"] == 29),\"UF\"] = \"Bahia\"\n",
    "df_2015.loc[(df_2015[\"UF\"] == 31),\"UF\"] = \"Minas Gerais\"\n",
    "df_2015.loc[(df_2015[\"UF\"] == 32),\"UF\"] = \"Espirito Santo\"\n",
    "df_2015.loc[(df_2015[\"UF\"] == 33),\"UF\"] = \"Rio de Janeiro\"\n",
    "df_2015.loc[(df_2015[\"UF\"] == 35),\"UF\"] = \"São Paulo\"\n",
    "df_2015.loc[(df_2015[\"UF\"] == 41),\"UF\"] = \"Paraná\"\n",
    "df_2015.loc[(df_2015[\"UF\"] == 42),\"UF\"] = \"Santa Catarina\"\n",
    "df_2015.loc[(df_2015[\"UF\"] == 43),\"UF\"] = \"Rio Grande do Sul\"\n",
    "df_2015.loc[(df_2015[\"UF\"] == 50),\"UF\"] = \"Mato Grosso do Sul\"\n",
    "df_2015.loc[(df_2015[\"UF\"] == 51),\"UF\"] = \"Mato Grosso\"\n",
    "df_2015.loc[(df_2015[\"UF\"] == 52),\"UF\"] = \"Goiás\"\n",
    "df_2015.loc[(df_2015[\"UF\"] == 53),\"UF\"] = \"Distrito Federal\""
   ]
  },
  {
   "cell_type": "code",
   "execution_count": 25,
   "metadata": {},
   "outputs": [],
   "source": [
    "#-Sexo:\n",
    "df_2015.loc[(df_2015.Sexo == 2),\"Sexo\"] = \"Masculino\"\n",
    "df_2015.loc[(df_2015.Sexo == 4),\"Sexo\"] = \"Feminino\""
   ]
  },
  {
   "cell_type": "code",
   "execution_count": 26,
   "metadata": {},
   "outputs": [],
   "source": [
    "#-Cor ou raça:\n",
    "df_2015.loc[(df_2015[\"Cor ou raça\"] == 2),\"Cor ou raça\"] = \"Branca\"\n",
    "df_2015.loc[(df_2015[\"Cor ou raça\"] == 4),\"Cor ou raça\"] = \"Preta\"\n",
    "df_2015.loc[(df_2015[\"Cor ou raça\"] == 6),\"Cor ou raça\"] = \"Amarela\"\n",
    "df_2015.loc[(df_2015[\"Cor ou raça\"] == 8),\"Cor ou raça\"] = \"Pardo\"\n",
    "df_2015.loc[(df_2015[\"Cor ou raça\"] == 0),\"Cor ou raça\"] = \"Indigena\"\n",
    "df_2015.loc[(df_2015[\"Cor ou raça\"] == 9),\"Cor ou raça\"] = \"Sem declaração\""
   ]
  },
  {
   "cell_type": "code",
   "execution_count": 27,
   "metadata": {},
   "outputs": [],
   "source": [
    "#-Sabe ler e escrever:\n",
    "df_2015.loc[(df_2015[\"Sabe ler e escrever\"] == 1),\"Sabe ler e escrever\"] = \"Sim\"\n",
    "df_2015.loc[(df_2015[\"Sabe ler e escrever\"] == 3),\"Sabe ler e escrever\"] = \"Não\""
   ]
  },
  {
   "cell_type": "code",
   "execution_count": 28,
   "metadata": {},
   "outputs": [],
   "source": [
    "#-Curso mais elevado que cursou:\n",
    "df_2015.loc[(df_2015[\"Curso mais elevado que cursou\"] == 1),\"Curso mais elevado que cursou\"] = \"Elementar (Primário)\"\n",
    "df_2015.loc[(df_2015[\"Curso mais elevado que cursou\"] == 2),\"Curso mais elevado que cursou\"] = \"Médio 1˚ ciclo\"\n",
    "df_2015.loc[(df_2015[\"Curso mais elevado que cursou\"] == 3),\"Curso mais elevado que cursou\"] = \"Médio 2˚ ciclo\"\n",
    "df_2015.loc[(df_2015[\"Curso mais elevado que cursou\"] == 4),\"Curso mais elevado que cursou\"] = \"Regular do ensino Fundamental\"\n",
    "df_2015.loc[(df_2015[\"Curso mais elevado que cursou\"] == 5),\"Curso mais elevado que cursou\"] = \"Regular do ensino Médio\"\n",
    "df_2015.loc[(df_2015[\"Curso mais elevado que cursou\"] == 6),\"Curso mais elevado que cursou\"] = \"Supletivo do ensino Fundamental\"\n",
    "df_2015.loc[(df_2015[\"Curso mais elevado que cursou\"] == 7),\"Curso mais elevado que cursou\"] = \"Supletivo do ensino Médio\"\n",
    "df_2015.loc[(df_2015[\"Curso mais elevado que cursou\"] == 8),\"Curso mais elevado que cursou\"] = \"Superior de graduação\"\n",
    "df_2015.loc[(df_2015[\"Curso mais elevado que cursou\"] == 9),\"Curso mais elevado que cursou\"] = \"Mestrado ou doutorado\"\n",
    "df_2015.loc[(df_2015[\"Curso mais elevado que cursou\"] == 10),\"Curso mais elevado que cursou\"] = \"Alfabetização para jovens adultos\"\n",
    "df_2015.loc[(df_2015[\"Curso mais elevado que cursou\"] == 11),\"Curso mais elevado que cursou\"] = \"Creche\"\n",
    "df_2015.loc[(df_2015[\"Curso mais elevado que cursou\"] == 12),\"Curso mais elevado que cursou\"] = \"Classe de alfabetização - CA\"\n",
    "df_2015.loc[(df_2015[\"Curso mais elevado que cursou\"] == 13),\"Curso mais elevado que cursou\"] = \"Jardim da infância\"\n",
    "df_2015.loc[(df_2015[\"Curso mais elevado que cursou\"].isnull() == True),\"Curso mais elevado que cursou\"] = \"Não aplicável\""
   ]
  },
  {
   "cell_type": "code",
   "execution_count": 29,
   "metadata": {},
   "outputs": [],
   "source": [
    "#-Número de horas trabalhadas por semana no trabalho principal:\n",
    "df_2015.loc[(df_2015[\"Número de horas trabalhadas por semana no trabalho\"].isnull() == True),\"Número de horas trabalhadas por semana no trabalho\"] = \"Não aplicável\""
   ]
  },
  {
   "cell_type": "code",
   "execution_count": 30,
   "metadata": {},
   "outputs": [],
   "source": [
    "#-Idade com que começou a trabalhar:\n",
    "df_2015.loc[(df_2015[\"Idade com que começou a trabalhar\"] == 1),\"Idade com que começou a trabalhar\"] = \"Até 9 anos\"\n",
    "df_2015.loc[(df_2015[\"Idade com que começou a trabalhar\"] == 2),\"Idade com que começou a trabalhar\"] = \"10 a 14 anos\"\n",
    "df_2015.loc[(df_2015[\"Idade com que começou a trabalhar\"] == 3),\"Idade com que começou a trabalhar\"] = \"15 a 17 anos\"\n",
    "df_2015.loc[(df_2015[\"Idade com que começou a trabalhar\"] == 4),\"Idade com que começou a trabalhar\"] = \"18 a 19 anos\"\n",
    "df_2015.loc[(df_2015[\"Idade com que começou a trabalhar\"] == 5),\"Idade com que começou a trabalhar\"] = \"20 a 24 anos\"\n",
    "df_2015.loc[(df_2015[\"Idade com que começou a trabalhar\"] == 6),\"Idade com que começou a trabalhar\"] = \"25 a 29 anos\"\n",
    "df_2015.loc[(df_2015[\"Idade com que começou a trabalhar\"] == 7),\"Idade com que começou a trabalhar\"] = \"30 anos ou  mais\"\n",
    "df_2015.loc[(df_2015[\"Idade com que começou a trabalhar\"].isnull() == True),\"Idade com que começou a trabalhar\"] = \"Não aplicável\""
   ]
  },
  {
   "cell_type": "code",
   "execution_count": 31,
   "metadata": {},
   "outputs": [],
   "source": [
    "#-Condição de atividade:\n",
    "df_2015.loc[(df_2015[\"Condição de atividade\"] == 1),\"Condição de atividade\"] = \"Economicamente ativas\"\n",
    "df_2015.loc[(df_2015[\"Condição de atividade\"] == 2),\"Condição de atividade\"] = \"Não economicamente ativas\"\n",
    "df_2015.loc[(df_2015[\"Condição de atividade\"].isnull() == True),\"Condição de atividade\"] = \"Não aplicável\""
   ]
  },
  {
   "cell_type": "code",
   "execution_count": 32,
   "metadata": {},
   "outputs": [
    {
     "data": {
      "text/html": [
       "<div>\n",
       "<style scoped>\n",
       "    .dataframe tbody tr th:only-of-type {\n",
       "        vertical-align: middle;\n",
       "    }\n",
       "\n",
       "    .dataframe tbody tr th {\n",
       "        vertical-align: top;\n",
       "    }\n",
       "\n",
       "    .dataframe thead th {\n",
       "        text-align: right;\n",
       "    }\n",
       "</style>\n",
       "<table border=\"1\" class=\"dataframe\">\n",
       "  <thead>\n",
       "    <tr style=\"text-align: right;\">\n",
       "      <th></th>\n",
       "      <th>UF</th>\n",
       "      <th>Sexo</th>\n",
       "      <th>Idade do morador</th>\n",
       "      <th>Cor ou raça</th>\n",
       "      <th>Sabe ler e escrever</th>\n",
       "      <th>Curso mais elevado que cursou</th>\n",
       "      <th>Número de horas trabalhadas por semana no trabalho</th>\n",
       "      <th>Idade com que começou a trabalhar</th>\n",
       "      <th>Condição de atividade</th>\n",
       "    </tr>\n",
       "  </thead>\n",
       "  <tbody>\n",
       "    <tr>\n",
       "      <th>348317</th>\n",
       "      <td>Distrito Federal</td>\n",
       "      <td>Masculino</td>\n",
       "      <td>45</td>\n",
       "      <td>Pardo</td>\n",
       "      <td>Sim</td>\n",
       "      <td>Regular do ensino Médio</td>\n",
       "      <td>40</td>\n",
       "      <td>Até 9 anos</td>\n",
       "      <td>Economicamente ativas</td>\n",
       "    </tr>\n",
       "    <tr>\n",
       "      <th>97222</th>\n",
       "      <td>Praíba</td>\n",
       "      <td>Masculino</td>\n",
       "      <td>62</td>\n",
       "      <td>Preta</td>\n",
       "      <td>Sim</td>\n",
       "      <td>Elementar (Primário)</td>\n",
       "      <td>30</td>\n",
       "      <td>Até 9 anos</td>\n",
       "      <td>Economicamente ativas</td>\n",
       "    </tr>\n",
       "  </tbody>\n",
       "</table>\n",
       "</div>"
      ],
      "text/plain": [
       "                      UF       Sexo  Idade do morador Cor ou raça  \\\n",
       "348317  Distrito Federal  Masculino                45       Pardo   \n",
       "97222             Praíba  Masculino                62       Preta   \n",
       "\n",
       "       Sabe ler e escrever Curso mais elevado que cursou  \\\n",
       "348317                 Sim       Regular do ensino Médio   \n",
       "97222                  Sim          Elementar (Primário)   \n",
       "\n",
       "       Número de horas trabalhadas por semana no trabalho  \\\n",
       "348317                                                 40   \n",
       "97222                                                  30   \n",
       "\n",
       "       Idade com que começou a trabalhar  Condição de atividade  \n",
       "348317                        Até 9 anos  Economicamente ativas  \n",
       "97222                         Até 9 anos  Economicamente ativas  "
      ]
     },
     "execution_count": 32,
     "metadata": {},
     "output_type": "execute_result"
    }
   ],
   "source": [
    "#Tabela do dataset(2015) pós-formatação:\n",
    "df_2015.sample(2)"
   ]
  },
  {
   "cell_type": "markdown",
   "metadata": {},
   "source": [
    "___\n",
    "## Análise e Resultados"
   ]
  },
  {
   "cell_type": "markdown",
   "metadata": {},
   "source": [
    "Vamos descobrir um pouco mais sobre os dados coletados pela pesquisa."
   ]
  },
  {
   "cell_type": "markdown",
   "metadata": {},
   "source": [
    "### O sexo da pessoa influência sua condição econômica?"
   ]
  },
  {
   "cell_type": "code",
   "execution_count": 33,
   "metadata": {},
   "outputs": [
    {
     "data": {
      "text/plain": [
       "Feminino     51.5\n",
       "Masculino    48.5\n",
       "Name: Sexo, dtype: float64"
      ]
     },
     "execution_count": 33,
     "metadata": {},
     "output_type": "execute_result"
    }
   ],
   "source": [
    "#Vamos descobrir quantos por cento do dataframe é composto por cada sexo:\n",
    "o_sexo = (df_2015[\"Sexo\"].value_counts(normalize='index')*100).round(decimals=1)\n",
    "o_sexo"
   ]
  },
  {
   "cell_type": "markdown",
   "metadata": {},
   "source": [
    "**Desses, quantos será que sabem ler e escrever?**"
   ]
  },
  {
   "cell_type": "code",
   "execution_count": 34,
   "metadata": {},
   "outputs": [
    {
     "data": {
      "text/html": [
       "<div>\n",
       "<style scoped>\n",
       "    .dataframe tbody tr th:only-of-type {\n",
       "        vertical-align: middle;\n",
       "    }\n",
       "\n",
       "    .dataframe tbody tr th {\n",
       "        vertical-align: top;\n",
       "    }\n",
       "\n",
       "    .dataframe thead th {\n",
       "        text-align: right;\n",
       "    }\n",
       "</style>\n",
       "<table border=\"1\" class=\"dataframe\">\n",
       "  <thead>\n",
       "    <tr style=\"text-align: right;\">\n",
       "      <th>SEXO</th>\n",
       "      <th>Feminino</th>\n",
       "      <th>Masculino</th>\n",
       "    </tr>\n",
       "    <tr>\n",
       "      <th>SABE LER E ESCREVER</th>\n",
       "      <th></th>\n",
       "      <th></th>\n",
       "    </tr>\n",
       "  </thead>\n",
       "  <tbody>\n",
       "    <tr>\n",
       "      <th>Não</th>\n",
       "      <td>49.0</td>\n",
       "      <td>51.0</td>\n",
       "    </tr>\n",
       "    <tr>\n",
       "      <th>Sim</th>\n",
       "      <td>52.0</td>\n",
       "      <td>48.0</td>\n",
       "    </tr>\n",
       "    <tr>\n",
       "      <th>All</th>\n",
       "      <td>51.0</td>\n",
       "      <td>49.0</td>\n",
       "    </tr>\n",
       "  </tbody>\n",
       "</table>\n",
       "</div>"
      ],
      "text/plain": [
       "SEXO                 Feminino  Masculino\n",
       "SABE LER E ESCREVER                     \n",
       "Não                      49.0       51.0\n",
       "Sim                      52.0       48.0\n",
       "All                      51.0       49.0"
      ]
     },
     "execution_count": 34,
     "metadata": {},
     "output_type": "execute_result"
    }
   ],
   "source": [
    "#Criando uma tabela cruzada em porcentagem:\n",
    "sexo_e_ler = (pd.crosstab(df_2015[\"Sabe ler e escrever\"], df_2015.Sexo, margins=True, rownames=['SABE LER E ESCREVER'], colnames=['SEXO'], normalize='index')*100).round(decimals=0)\n",
    "sexo_e_ler"
   ]
  },
  {
   "cell_type": "markdown",
   "metadata": {},
   "source": [
    "Agora considerando somente as pessoas que completaram o ensino médio ou superior, será que tem uma qunatidade maior de homens do que de mulheres com essas etapas concluidas?"
   ]
  },
  {
   "cell_type": "code",
   "execution_count": 35,
   "metadata": {},
   "outputs": [
    {
     "data": {
      "text/html": [
       "<div>\n",
       "<style scoped>\n",
       "    .dataframe tbody tr th:only-of-type {\n",
       "        vertical-align: middle;\n",
       "    }\n",
       "\n",
       "    .dataframe tbody tr th {\n",
       "        vertical-align: top;\n",
       "    }\n",
       "\n",
       "    .dataframe thead th {\n",
       "        text-align: right;\n",
       "    }\n",
       "</style>\n",
       "<table border=\"1\" class=\"dataframe\">\n",
       "  <thead>\n",
       "    <tr style=\"text-align: right;\">\n",
       "      <th>SEXO</th>\n",
       "      <th>Feminino</th>\n",
       "      <th>Masculino</th>\n",
       "    </tr>\n",
       "    <tr>\n",
       "      <th>NÍVEL DE GRADUAÇÃO</th>\n",
       "      <th></th>\n",
       "      <th></th>\n",
       "    </tr>\n",
       "  </thead>\n",
       "  <tbody>\n",
       "    <tr>\n",
       "      <th>Regular do ensino Médio</th>\n",
       "      <td>53.0</td>\n",
       "      <td>47.0</td>\n",
       "    </tr>\n",
       "    <tr>\n",
       "      <th>Superior de graduação</th>\n",
       "      <td>58.0</td>\n",
       "      <td>42.0</td>\n",
       "    </tr>\n",
       "    <tr>\n",
       "      <th>All</th>\n",
       "      <td>54.0</td>\n",
       "      <td>46.0</td>\n",
       "    </tr>\n",
       "  </tbody>\n",
       "</table>\n",
       "</div>"
      ],
      "text/plain": [
       "SEXO                     Feminino  Masculino\n",
       "NÍVEL DE GRADUAÇÃO                          \n",
       "Regular do ensino Médio      53.0       47.0\n",
       "Superior de graduação        58.0       42.0\n",
       "All                          54.0       46.0"
      ]
     },
     "execution_count": 35,
     "metadata": {},
     "output_type": "execute_result"
    }
   ],
   "source": [
    "#Vamos separar as duas etapas para serem analisadas:\n",
    "Etapas = df_2015[\"Curso mais elevado que cursou\"].loc[(df_2015[\"Curso mais elevado que cursou\"] == \"Regular do ensino Médio\")|(df_2015[\"Curso mais elevado que cursou\"] == \"Superior de graduação\")]\n",
    "#Criando uma tabela cruzada em porcentagem:\n",
    "sexo_etapas = (pd.crosstab(Etapas, df_2015.Sexo,margins=True, rownames=['NÍVEL DE GRADUAÇÃO'], colnames=['SEXO'], normalize='index')*100).round(decimals=0)\n",
    "sexo_etapas"
   ]
  },
  {
   "cell_type": "markdown",
   "metadata": {},
   "source": [
    "...\n",
    "\n",
    "**Sabendo que ambos sexos tem praticamente a mesma taxa pessoas que sabem ler e escrever, será que essa proporcionalidade tambem se mantem para sua condição de atividade?**"
   ]
  },
  {
   "cell_type": "code",
   "execution_count": 36,
   "metadata": {},
   "outputs": [
    {
     "data": {
      "text/html": [
       "<div>\n",
       "<style scoped>\n",
       "    .dataframe tbody tr th:only-of-type {\n",
       "        vertical-align: middle;\n",
       "    }\n",
       "\n",
       "    .dataframe tbody tr th {\n",
       "        vertical-align: top;\n",
       "    }\n",
       "\n",
       "    .dataframe thead th {\n",
       "        text-align: right;\n",
       "    }\n",
       "</style>\n",
       "<table border=\"1\" class=\"dataframe\">\n",
       "  <thead>\n",
       "    <tr style=\"text-align: right;\">\n",
       "      <th>Sexo</th>\n",
       "      <th>Feminino</th>\n",
       "      <th>Masculino</th>\n",
       "    </tr>\n",
       "    <tr>\n",
       "      <th>Condição de atividade</th>\n",
       "      <th></th>\n",
       "      <th></th>\n",
       "    </tr>\n",
       "  </thead>\n",
       "  <tbody>\n",
       "    <tr>\n",
       "      <th>Economicamente ativas</th>\n",
       "      <td>80062</td>\n",
       "      <td>103027</td>\n",
       "    </tr>\n",
       "    <tr>\n",
       "      <th>Não aplicável</th>\n",
       "      <td>23501</td>\n",
       "      <td>24804</td>\n",
       "    </tr>\n",
       "    <tr>\n",
       "      <th>Não economicamente ativas</th>\n",
       "      <td>80118</td>\n",
       "      <td>45392</td>\n",
       "    </tr>\n",
       "  </tbody>\n",
       "</table>\n",
       "</div>"
      ],
      "text/plain": [
       "Sexo                       Feminino  Masculino\n",
       "Condição de atividade                         \n",
       "Economicamente ativas         80062     103027\n",
       "Não aplicável                 23501      24804\n",
       "Não economicamente ativas     80118      45392"
      ]
     },
     "execution_count": 36,
     "metadata": {},
     "output_type": "execute_result"
    }
   ],
   "source": [
    "#Criando uma tabela cruzada em porcentagem:\n",
    "sexo_condicao = (pd.crosstab(df_2015[\"Condição de atividade\"], df_2015.Sexo))\n",
    "sexo_condicao"
   ]
  },
  {
   "cell_type": "markdown",
   "metadata": {},
   "source": [
    "Analisando a frequência dos mesmos dados:"
   ]
  },
  {
   "cell_type": "code",
   "execution_count": 37,
   "metadata": {},
   "outputs": [],
   "source": [
    "#Suprimindo o aviso de depreciação:\n",
    "warnings.filterwarnings(\"ignore\",category=matplotlib.cbook.mplDeprecation)"
   ]
  },
  {
   "cell_type": "code",
   "execution_count": 38,
   "metadata": {},
   "outputs": [
    {
     "data": {
      "image/png": "[encoded data removed]",
      "text/plain": [
       "<Figure size 576x432 with 1 Axes>"
      ]
     },
     "metadata": {
      "needs_background": "light"
     },
     "output_type": "display_data"
    }
   ],
   "source": [
    "sexo_condicao2 = (pd.crosstab(df_2015.Sexo, df_2015[\"Condição de atividade\"]))\n",
    "\n",
    "#Criando uma tabela com os dados da condição econômica e os sexos:\n",
    "plot = sexo_condicao2.plot(kind='bar',figsize=(8, 6))\n",
    "ax = plt.subplot(111)\n",
    "plt.title(\"\\nQuantidade de homens e mulheres econômicamente ativos\")\n",
    "ax.legend(loc='center left', bbox_to_anchor=(1,0.5))\n",
    "plt.ylabel('Frequência')\n",
    "plt.xlabel('')\n",
    "plt.show()"
   ]
  },
  {
   "cell_type": "markdown",
   "metadata": {},
   "source": [
    "\n",
    "\n",
    "### A idade influência a condição econômica da pessoa?"
   ]
  },
  {
   "cell_type": "markdown",
   "metadata": {},
   "source": [
    "Primeiro vamos analisar as faixas de idade que as pessoas começaram a trabalhar:"
   ]
  },
  {
   "cell_type": "code",
   "execution_count": 39,
   "metadata": {},
   "outputs": [
    {
     "data": {
      "image/png": "[encoded data removed]",
      "text/plain": [
       "<Figure size 576x432 with 1 Axes>"
      ]
     },
     "metadata": {
      "needs_background": "light"
     },
     "output_type": "display_data"
    }
   ],
   "source": [
    "#Criando um gráfico com as faixas de idades que as pessoas começaram a trabalhar:\n",
    "df_2015[\"Idade com que começou a trabalhar\"].loc[df_2015[\"Idade com que começou a trabalhar\"]!=\"Não aplicável\"].value_counts().plot(\"bar\", figsize=(8,6));\n",
    "plt.title(\"Idade com que os moradores começaram a trabalhar\")\n",
    "plt.show()"
   ]
  },
  {
   "cell_type": "code",
   "execution_count": 48,
   "metadata": {},
   "outputs": [
    {
     "data": {
      "image/png": "[encoded data removed]",
      "text/plain": [
       "<Figure size 576x432 with 1 Axes>"
      ]
     },
     "metadata": {
      "needs_background": "light"
     },
     "output_type": "display_data"
    }
   ],
   "source": [
    "idade_condicao2 = (pd.crosstab(df_2015[\"Idade com que começou a trabalhar\"].loc[df_2015[\"Idade com que começou a trabalhar\"]!=\"Não aplicável\"], df_2015[\"Condição de atividade\"]))\n",
    "\n",
    "#Criando uma tabela com os dados da condição econômica e os sexos:\n",
    "plot = idade_condicao2.plot(kind='bar',figsize=(8, 6))\n",
    "ax = plt.subplot(111)\n",
    "plt.title(\"\\nQuantidade de homens e mulheres econômicamente ativos\")\n",
    "ax.legend(loc='center left', bbox_to_anchor=(1,0.5))\n",
    "plt.ylabel('Frequência')\n",
    "plt.xlabel('')\n",
    "plt.show()"
   ]
  },
  {
   "cell_type": "code",
   "execution_count": 46,
   "metadata": {},
   "outputs": [
    {
     "data": {
      "image/png": "[encoded data removed]",
      "text/plain": [
       "<Figure size 576x432 with 1 Axes>"
      ]
     },
     "metadata": {
      "needs_background": "light"
     },
     "output_type": "display_data"
    }
   ],
   "source": [
    "idade_condicao = (pd.crosstab(df_2015[\"UF\"], df_2015[\"Condição de atividade\"]))\n",
    "plot = idade_condicao.tail(5).plot(kind=\"bar\", figsize=(8,6))\n",
    "ax = plt.subplot(111)\n",
    "plt.title(\"\\nEsatdos com maior \\nquantidade de brasileiros econômicamente ativos\")\n",
    "ax.legend(loc='center left', bbox_to_anchor=(1,0.5))\n",
    "plt.ylabel('Frequência')\n",
    "plt.xlabel('')\n",
    "plt.show()"
   ]
  },
  {
   "cell_type": "code",
   "execution_count": 41,
   "metadata": {},
   "outputs": [
    {
     "data": {
      "image/png": "[encoded data removed]",
      "text/plain": [
       "<Figure size 504x360 with 1 Axes>"
      ]
     },
     "metadata": {
      "needs_background": "light"
     },
     "output_type": "display_data"
    }
   ],
   "source": [
    "#\n",
    "df_2015[\"Idade do morador\"].plot.hist(bins=30, density = False, color=\"firebrick\", figsize=(7, 5));\n",
    "plt.title(\"Frequência das idades dos moradores\")\n",
    "plt.xlabel(\"Idade\")\n",
    "plt.ylabel(\"frequência\")\n",
    "plt.show()"
   ]
  },
  {
   "cell_type": "code",
   "execution_count": 42,
   "metadata": {},
   "outputs": [
    {
     "data": {
      "image/png": "[encoded data removed]",
      "text/plain": [
       "<Figure size 576x720 with 1 Axes>"
      ]
     },
     "metadata": {
      "needs_background": "light"
     },
     "output_type": "display_data"
    }
   ],
   "source": [
    "df_2015[\"Idade do morador\"].plot(\"box\", figsize=(8,10));\n",
    "plt.title(\"Idade dos moradores\")\n",
    "plt.show()"
   ]
  },
  {
   "cell_type": "code",
   "execution_count": 43,
   "metadata": {},
   "outputs": [
    {
     "data": {
      "image/png": "[encoded data removed]",
      "text/plain": [
       "<Figure size 576x432 with 1 Axes>"
      ]
     },
     "metadata": {
      "needs_background": "light"
     },
     "output_type": "display_data"
    }
   ],
   "source": [
    "df_2015[\"Cor ou raça\"].value_counts().plot(\"bar\", figsize=(8,6));\n",
    "plt.title(\"Cores e raças\")\n",
    "plt.show()"
   ]
  },
  {
   "cell_type": "code",
   "execution_count": 49,
   "metadata": {},
   "outputs": [
    {
     "data": {
      "image/png": "[encoded data removed]",
      "text/plain": [
       "<Figure size 576x432 with 1 Axes>"
      ]
     },
     "metadata": {
      "needs_background": "light"
     },
     "output_type": "display_data"
    }
   ],
   "source": [
    "cor_condicao2 = (pd.crosstab(df_2015[\"Cor ou raça\"], df_2015[\"Condição de atividade\"]))\n",
    "\n",
    "#Criando uma tabela com os dados da condição econômica e os sexos:\n",
    "plot = cor_condicao2.plot(kind='bar',figsize=(8, 6))\n",
    "ax = plt.subplot(111)\n",
    "plt.title(\"\\nQuantidade de homens e mulheres econômicamente ativos\")\n",
    "ax.legend(loc='center left', bbox_to_anchor=(1,0.5))\n",
    "plt.ylabel('Frequência')\n",
    "plt.xlabel('')\n",
    "plt.show()"
   ]
  },
  {
   "cell_type": "code",
   "execution_count": 50,
   "metadata": {
    "scrolled": true
   },
   "outputs": [
    {
     "data": {
      "image/png": "[encoded data removed]",
      "text/plain": [
       "<Figure size 576x720 with 1 Axes>"
      ]
     },
     "metadata": {
      "needs_background": "light"
     },
     "output_type": "display_data"
    }
   ],
   "source": [
    "df_2015[\"Número de horas trabalhadas por semana no trabalho\"].loc[df_2015[\"Número de horas trabalhadas por semana no trabalho\"]!=\"Não aplicável\"].plot(\"box\", figsize=(8,10));\n",
    "plt.title(\"Número de horas trabalhadas por semana no trabalho\")\n",
    "plt.show()"
   ]
  },
  {
   "cell_type": "markdown",
   "metadata": {},
   "source": [
    "___\n",
    "## Conclusão "
   ]
  },
  {
   "cell_type": "markdown",
   "metadata": {
    "collapsed": true
   },
   "source": [
    "Com estas análises e gráficos podemos perceber diferença entre os grupos sociais e ver quais deles tem mais ou menos pessoas economicamente ativas.\n",
    "Comparando homens e mulheres economicamente ativos, nós podemos ver não apenas uma maior quantidade de homens economicamente ativos como uma maior porcentagem de pessoas economicamente ativas que dentro do grupo feminino.\n",
    "Quando analisamos a faixa etária que as pessoas começaram a trabalhar, o comportamento do gráfico se da de forma que a maior parte das pessoas começaram a trabalhar entre 10 a 14 anos e esta quantidade diminui conforme aumentamos a faixa etária. O mesmo comportamento ocorre quando analisamos as pessoas economicamente ativas dentro de cada um destes grupos.\n",
    "Quando olhamos para os estados , São Paulo é o com a maior quantidade de pessoas ativas mas não podemos deixar se enganar com isso , pois São Paulo também é o estado com o maior numero de pessoas não economicamente ativas , sendo assim , não podemos afirmar que este estado tem a maior porcentagem de economicamente ativos dentro da sua população. \n",
    "Por último, podemos ver que ao se tratar de cor e etnias, a ordem de maior par menor quantidade de pessoas pertencentes ao grupo é , pardos sendo em maior quantidade , seguido de brancos , pretos , indígenas e por fim amarelos . A mesma ordem se da para analisar qual desses grupos tem uma maior quantidade de pessoas economicamente ativas."
   ]
  }
 ],
 "metadata": {
  "anaconda-cloud": {},
  "kernelspec": {
   "display_name": "Python 3",
   "language": "python",
   "name": "python3"
  },
  "language_info": {
   "codemirror_mode": {
    "name": "ipython",
    "version": 3
   },
   "file_extension": ".py",
   "mimetype": "text/x-python",
   "name": "python",
   "nbconvert_exporter": "python",
   "pygments_lexer": "ipython3",
   "version": "3.7.1"
  }
 },
 "nbformat": 4,
 "nbformat_minor": 1
}
